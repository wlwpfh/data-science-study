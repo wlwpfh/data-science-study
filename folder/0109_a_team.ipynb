{
 "cells": [
  {
   "cell_type": "code",
   "execution_count": 1,
   "metadata": {},
   "outputs": [],
   "source": [
    "import pandas as pd"
   ]
  },
  {
   "cell_type": "code",
   "execution_count": 2,
   "metadata": {},
   "outputs": [
    {
     "data": {
      "text/html": [
       "<div>\n",
       "<style scoped>\n",
       "    .dataframe tbody tr th:only-of-type {\n",
       "        vertical-align: middle;\n",
       "    }\n",
       "\n",
       "    .dataframe tbody tr th {\n",
       "        vertical-align: top;\n",
       "    }\n",
       "\n",
       "    .dataframe thead th {\n",
       "        text-align: right;\n",
       "    }\n",
       "</style>\n",
       "<table border=\"1\" class=\"dataframe\">\n",
       "  <thead>\n",
       "    <tr style=\"text-align: right;\">\n",
       "      <th></th>\n",
       "      <th>eventcategory</th>\n",
       "      <th>isfirstactivity</th>\n",
       "      <th>apppackagename</th>\n",
       "      <th>appversion</th>\n",
       "      <th>devicetype</th>\n",
       "      <th>devicemanufacturer</th>\n",
       "      <th>osversion</th>\n",
       "      <th>canonicaldeviceuuid</th>\n",
       "      <th>sourcetype</th>\n",
       "      <th>channel</th>\n",
       "      <th>params_campaign</th>\n",
       "      <th>params_medium</th>\n",
       "      <th>params_term</th>\n",
       "      <th>inappeventcategory</th>\n",
       "      <th>inappeventlabel</th>\n",
       "      <th>eventdatetime</th>\n",
       "      <th>rowuuid</th>\n",
       "      <th>isfirstgoalactivity</th>\n",
       "      <th>event_rank</th>\n",
       "    </tr>\n",
       "  </thead>\n",
       "  <tbody>\n",
       "    <tr>\n",
       "      <td>0</td>\n",
       "      <td>goal</td>\n",
       "      <td>False</td>\n",
       "      <td>com.kmong.iOS</td>\n",
       "      <td>4.0.4</td>\n",
       "      <td>iPhone</td>\n",
       "      <td>Apple</td>\n",
       "      <td>iOS11.4.1</td>\n",
       "      <td>F36FAA62-ADAC-4AA5-9B00-1FD6CB7EE957</td>\n",
       "      <td>unattributed</td>\n",
       "      <td>unattributed</td>\n",
       "      <td>NaN</td>\n",
       "      <td>NaN</td>\n",
       "      <td>NaN</td>\n",
       "      <td>home.view</td>\n",
       "      <td>NaN</td>\n",
       "      <td>2018-09-28T00:00:00+09:00</td>\n",
       "      <td>fd2a188c-bc9b-4702-9c47-b546b2614817</td>\n",
       "      <td>False</td>\n",
       "      <td>True</td>\n",
       "    </tr>\n",
       "    <tr>\n",
       "      <td>1</td>\n",
       "      <td>goal</td>\n",
       "      <td>False</td>\n",
       "      <td>com.kmong.kmong</td>\n",
       "      <td>3.3.5</td>\n",
       "      <td>SM-N935S</td>\n",
       "      <td>samsung</td>\n",
       "      <td>Android7.0</td>\n",
       "      <td>8a871e50-0717-4aed-9bad-04ac3c3793be</td>\n",
       "      <td>unattributed</td>\n",
       "      <td>unattributed</td>\n",
       "      <td>NaN</td>\n",
       "      <td>NaN</td>\n",
       "      <td>NaN</td>\n",
       "      <td>gig_detail.view</td>\n",
       "      <td>41201.0</td>\n",
       "      <td>2018-09-28T00:00:00+09:00</td>\n",
       "      <td>e62dccef-dd70-4415-8a33-c8324ddaed38</td>\n",
       "      <td>False</td>\n",
       "      <td>True</td>\n",
       "    </tr>\n",
       "    <tr>\n",
       "      <td>2</td>\n",
       "      <td>goal</td>\n",
       "      <td>False</td>\n",
       "      <td>com.kmong.iOS</td>\n",
       "      <td>4.0.4</td>\n",
       "      <td>iPhone</td>\n",
       "      <td>Apple</td>\n",
       "      <td>iOS12.0</td>\n",
       "      <td>A9E5778A-8F3D-4597-9718-74BF953A9F64</td>\n",
       "      <td>unattributed</td>\n",
       "      <td>unattributed</td>\n",
       "      <td>NaN</td>\n",
       "      <td>NaN</td>\n",
       "      <td>NaN</td>\n",
       "      <td>inbox_detail.view</td>\n",
       "      <td>NaN</td>\n",
       "      <td>2018-09-28T00:00:00+09:00</td>\n",
       "      <td>14eb3197-db83-493a-b7be-83582960c40b</td>\n",
       "      <td>False</td>\n",
       "      <td>True</td>\n",
       "    </tr>\n",
       "    <tr>\n",
       "      <td>3</td>\n",
       "      <td>foreground</td>\n",
       "      <td>NaN</td>\n",
       "      <td>com.kmong.iOS</td>\n",
       "      <td>4.0.4</td>\n",
       "      <td>iPhone</td>\n",
       "      <td>Apple</td>\n",
       "      <td>iOS11.4.1</td>\n",
       "      <td>168761CB-CB67-4592-867D-52780D651297</td>\n",
       "      <td>NaN</td>\n",
       "      <td>NaN</td>\n",
       "      <td>NaN</td>\n",
       "      <td>NaN</td>\n",
       "      <td>NaN</td>\n",
       "      <td>NaN</td>\n",
       "      <td>NaN</td>\n",
       "      <td>2018-09-28T00:00:01+09:00</td>\n",
       "      <td>f9bb91af-248b-44dc-9f5c-1c00b37ea97b</td>\n",
       "      <td>NaN</td>\n",
       "      <td>True</td>\n",
       "    </tr>\n",
       "    <tr>\n",
       "      <td>4</td>\n",
       "      <td>goal</td>\n",
       "      <td>False</td>\n",
       "      <td>com.kmong.iOS</td>\n",
       "      <td>4.0.4</td>\n",
       "      <td>iPhone</td>\n",
       "      <td>Apple</td>\n",
       "      <td>iOS11.4.1</td>\n",
       "      <td>ACABB7C0-4C76-413A-B314-E5D6DA0D0E5D</td>\n",
       "      <td>viral</td>\n",
       "      <td>WEB</td>\n",
       "      <td>NaN</td>\n",
       "      <td>NaN</td>\n",
       "      <td>NaN</td>\n",
       "      <td>buyer_order_track.view</td>\n",
       "      <td>NaN</td>\n",
       "      <td>2018-09-28T00:00:02+09:00</td>\n",
       "      <td>236e9946-7801-4898-b609-06c8ab1139dc</td>\n",
       "      <td>False</td>\n",
       "      <td>True</td>\n",
       "    </tr>\n",
       "    <tr>\n",
       "      <td>...</td>\n",
       "      <td>...</td>\n",
       "      <td>...</td>\n",
       "      <td>...</td>\n",
       "      <td>...</td>\n",
       "      <td>...</td>\n",
       "      <td>...</td>\n",
       "      <td>...</td>\n",
       "      <td>...</td>\n",
       "      <td>...</td>\n",
       "      <td>...</td>\n",
       "      <td>...</td>\n",
       "      <td>...</td>\n",
       "      <td>...</td>\n",
       "      <td>...</td>\n",
       "      <td>...</td>\n",
       "      <td>...</td>\n",
       "      <td>...</td>\n",
       "      <td>...</td>\n",
       "      <td>...</td>\n",
       "    </tr>\n",
       "    <tr>\n",
       "      <td>434239</td>\n",
       "      <td>goal</td>\n",
       "      <td>False</td>\n",
       "      <td>com.kmong.kmong</td>\n",
       "      <td>3.3.5</td>\n",
       "      <td>SM-G930L</td>\n",
       "      <td>samsung</td>\n",
       "      <td>Android8.0.0</td>\n",
       "      <td>1fbc9ad2-8109-4294-ae9e-9acf6dce72c3</td>\n",
       "      <td>stranger</td>\n",
       "      <td>google</td>\n",
       "      <td>mweb-app-install</td>\n",
       "      <td>cpc</td>\n",
       "      <td>NaN</td>\n",
       "      <td>gig_detail.view</td>\n",
       "      <td>104.0</td>\n",
       "      <td>2018-09-29T23:59:52+09:00</td>\n",
       "      <td>9d9fd3d8-30c5-49e5-8480-41b536eb4edb</td>\n",
       "      <td>False</td>\n",
       "      <td>True</td>\n",
       "    </tr>\n",
       "    <tr>\n",
       "      <td>434240</td>\n",
       "      <td>goal</td>\n",
       "      <td>False</td>\n",
       "      <td>com.kmong.kmong</td>\n",
       "      <td>3.3.5</td>\n",
       "      <td>SM-N950N</td>\n",
       "      <td>samsung</td>\n",
       "      <td>Android8.0.0</td>\n",
       "      <td>ea69fbd8-16fe-4db4-ae1e-512d5bbd1d6f</td>\n",
       "      <td>unattributed</td>\n",
       "      <td>unattributed</td>\n",
       "      <td>NaN</td>\n",
       "      <td>NaN</td>\n",
       "      <td>NaN</td>\n",
       "      <td>home.view</td>\n",
       "      <td>NaN</td>\n",
       "      <td>2018-09-29T23:59:53+09:00</td>\n",
       "      <td>88653965-4aff-4d2e-8dd6-88f25ac82595</td>\n",
       "      <td>False</td>\n",
       "      <td>True</td>\n",
       "    </tr>\n",
       "    <tr>\n",
       "      <td>434241</td>\n",
       "      <td>goal</td>\n",
       "      <td>False</td>\n",
       "      <td>com.kmong.kmong</td>\n",
       "      <td>3.3.5</td>\n",
       "      <td>SM-G930L</td>\n",
       "      <td>samsung</td>\n",
       "      <td>Android8.0.0</td>\n",
       "      <td>1fbc9ad2-8109-4294-ae9e-9acf6dce72c3</td>\n",
       "      <td>stranger</td>\n",
       "      <td>google</td>\n",
       "      <td>mweb-app-install</td>\n",
       "      <td>cpc</td>\n",
       "      <td>NaN</td>\n",
       "      <td>category_gig.view</td>\n",
       "      <td>104.0</td>\n",
       "      <td>2018-09-29T23:59:53+09:00</td>\n",
       "      <td>40bdc87e-265a-4cc2-a1d4-f1da96a0b9dc</td>\n",
       "      <td>False</td>\n",
       "      <td>True</td>\n",
       "    </tr>\n",
       "    <tr>\n",
       "      <td>434242</td>\n",
       "      <td>exit</td>\n",
       "      <td>NaN</td>\n",
       "      <td>com.kmong.kmong</td>\n",
       "      <td>3.3.5</td>\n",
       "      <td>SM-N950N</td>\n",
       "      <td>samsung</td>\n",
       "      <td>Android8.0.0</td>\n",
       "      <td>ea69fbd8-16fe-4db4-ae1e-512d5bbd1d6f</td>\n",
       "      <td>NaN</td>\n",
       "      <td>NaN</td>\n",
       "      <td>NaN</td>\n",
       "      <td>NaN</td>\n",
       "      <td>NaN</td>\n",
       "      <td>NaN</td>\n",
       "      <td>NaN</td>\n",
       "      <td>2018-09-29T23:59:54+09:00</td>\n",
       "      <td>f44a488b-1a8b-4f53-ad8e-8b21c695925b</td>\n",
       "      <td>NaN</td>\n",
       "      <td>True</td>\n",
       "    </tr>\n",
       "    <tr>\n",
       "      <td>434243</td>\n",
       "      <td>goal</td>\n",
       "      <td>False</td>\n",
       "      <td>com.kmong.kmong</td>\n",
       "      <td>3.3.5</td>\n",
       "      <td>SM-G965N</td>\n",
       "      <td>samsung</td>\n",
       "      <td>Android8.0.0</td>\n",
       "      <td>965b53e9-f6d6-4a9d-827e-e60c5eb52bb8</td>\n",
       "      <td>unattributed</td>\n",
       "      <td>unattributed</td>\n",
       "      <td>NaN</td>\n",
       "      <td>NaN</td>\n",
       "      <td>NaN</td>\n",
       "      <td>search_gig.view</td>\n",
       "      <td>NaN</td>\n",
       "      <td>2018-09-29T23:59:58+09:00</td>\n",
       "      <td>5fbb87c9-4d62-4eea-a75c-cab1a3af1d52</td>\n",
       "      <td>False</td>\n",
       "      <td>True</td>\n",
       "    </tr>\n",
       "  </tbody>\n",
       "</table>\n",
       "<p>434244 rows × 19 columns</p>\n",
       "</div>"
      ],
      "text/plain": [
       "       eventcategory isfirstactivity   apppackagename appversion devicetype  \\\n",
       "0               goal           False    com.kmong.iOS      4.0.4     iPhone   \n",
       "1               goal           False  com.kmong.kmong      3.3.5   SM-N935S   \n",
       "2               goal           False    com.kmong.iOS      4.0.4     iPhone   \n",
       "3         foreground             NaN    com.kmong.iOS      4.0.4     iPhone   \n",
       "4               goal           False    com.kmong.iOS      4.0.4     iPhone   \n",
       "...              ...             ...              ...        ...        ...   \n",
       "434239          goal           False  com.kmong.kmong      3.3.5   SM-G930L   \n",
       "434240          goal           False  com.kmong.kmong      3.3.5   SM-N950N   \n",
       "434241          goal           False  com.kmong.kmong      3.3.5   SM-G930L   \n",
       "434242          exit             NaN  com.kmong.kmong      3.3.5   SM-N950N   \n",
       "434243          goal           False  com.kmong.kmong      3.3.5   SM-G965N   \n",
       "\n",
       "       devicemanufacturer     osversion                   canonicaldeviceuuid  \\\n",
       "0                   Apple     iOS11.4.1  F36FAA62-ADAC-4AA5-9B00-1FD6CB7EE957   \n",
       "1                 samsung    Android7.0  8a871e50-0717-4aed-9bad-04ac3c3793be   \n",
       "2                   Apple       iOS12.0  A9E5778A-8F3D-4597-9718-74BF953A9F64   \n",
       "3                   Apple     iOS11.4.1  168761CB-CB67-4592-867D-52780D651297   \n",
       "4                   Apple     iOS11.4.1  ACABB7C0-4C76-413A-B314-E5D6DA0D0E5D   \n",
       "...                   ...           ...                                   ...   \n",
       "434239            samsung  Android8.0.0  1fbc9ad2-8109-4294-ae9e-9acf6dce72c3   \n",
       "434240            samsung  Android8.0.0  ea69fbd8-16fe-4db4-ae1e-512d5bbd1d6f   \n",
       "434241            samsung  Android8.0.0  1fbc9ad2-8109-4294-ae9e-9acf6dce72c3   \n",
       "434242            samsung  Android8.0.0  ea69fbd8-16fe-4db4-ae1e-512d5bbd1d6f   \n",
       "434243            samsung  Android8.0.0  965b53e9-f6d6-4a9d-827e-e60c5eb52bb8   \n",
       "\n",
       "          sourcetype       channel   params_campaign params_medium  \\\n",
       "0       unattributed  unattributed               NaN           NaN   \n",
       "1       unattributed  unattributed               NaN           NaN   \n",
       "2       unattributed  unattributed               NaN           NaN   \n",
       "3                NaN           NaN               NaN           NaN   \n",
       "4              viral           WEB               NaN           NaN   \n",
       "...              ...           ...               ...           ...   \n",
       "434239      stranger        google  mweb-app-install           cpc   \n",
       "434240  unattributed  unattributed               NaN           NaN   \n",
       "434241      stranger        google  mweb-app-install           cpc   \n",
       "434242           NaN           NaN               NaN           NaN   \n",
       "434243  unattributed  unattributed               NaN           NaN   \n",
       "\n",
       "       params_term      inappeventcategory  inappeventlabel  \\\n",
       "0              NaN               home.view              NaN   \n",
       "1              NaN         gig_detail.view          41201.0   \n",
       "2              NaN       inbox_detail.view              NaN   \n",
       "3              NaN                     NaN              NaN   \n",
       "4              NaN  buyer_order_track.view              NaN   \n",
       "...            ...                     ...              ...   \n",
       "434239         NaN         gig_detail.view            104.0   \n",
       "434240         NaN               home.view              NaN   \n",
       "434241         NaN       category_gig.view            104.0   \n",
       "434242         NaN                     NaN              NaN   \n",
       "434243         NaN         search_gig.view              NaN   \n",
       "\n",
       "                    eventdatetime                               rowuuid  \\\n",
       "0       2018-09-28T00:00:00+09:00  fd2a188c-bc9b-4702-9c47-b546b2614817   \n",
       "1       2018-09-28T00:00:00+09:00  e62dccef-dd70-4415-8a33-c8324ddaed38   \n",
       "2       2018-09-28T00:00:00+09:00  14eb3197-db83-493a-b7be-83582960c40b   \n",
       "3       2018-09-28T00:00:01+09:00  f9bb91af-248b-44dc-9f5c-1c00b37ea97b   \n",
       "4       2018-09-28T00:00:02+09:00  236e9946-7801-4898-b609-06c8ab1139dc   \n",
       "...                           ...                                   ...   \n",
       "434239  2018-09-29T23:59:52+09:00  9d9fd3d8-30c5-49e5-8480-41b536eb4edb   \n",
       "434240  2018-09-29T23:59:53+09:00  88653965-4aff-4d2e-8dd6-88f25ac82595   \n",
       "434241  2018-09-29T23:59:53+09:00  40bdc87e-265a-4cc2-a1d4-f1da96a0b9dc   \n",
       "434242  2018-09-29T23:59:54+09:00  f44a488b-1a8b-4f53-ad8e-8b21c695925b   \n",
       "434243  2018-09-29T23:59:58+09:00  5fbb87c9-4d62-4eea-a75c-cab1a3af1d52   \n",
       "\n",
       "       isfirstgoalactivity  event_rank  \n",
       "0                    False        True  \n",
       "1                    False        True  \n",
       "2                    False        True  \n",
       "3                      NaN        True  \n",
       "4                    False        True  \n",
       "...                    ...         ...  \n",
       "434239               False        True  \n",
       "434240               False        True  \n",
       "434241               False        True  \n",
       "434242                 NaN        True  \n",
       "434243               False        True  \n",
       "\n",
       "[434244 rows x 19 columns]"
      ]
     },
     "execution_count": 2,
     "metadata": {},
     "output_type": "execute_result"
    }
   ],
   "source": [
    "raw_log=pd.read_csv(\"ateam-conversion.csv\")\n",
    "\n",
    "raw_log"
   ]
  },
  {
   "cell_type": "code",
   "execution_count": 5,
   "metadata": {},
   "outputs": [
    {
     "data": {
      "text/plain": [
       "Index(['eventcategory', 'isfirstactivity', 'apppackagename', 'appversion',\n",
       "       'devicetype', 'devicemanufacturer', 'osversion', 'canonicaldeviceuuid',\n",
       "       'sourcetype', 'channel', 'params_campaign', 'params_medium',\n",
       "       'params_term', 'inappeventcategory', 'inappeventlabel', 'eventdatetime',\n",
       "       'rowuuid', 'isfirstgoalactivity', 'event_rank'],\n",
       "      dtype='object')"
      ]
     },
     "execution_count": 5,
     "metadata": {},
     "output_type": "execute_result"
    }
   ],
   "source": [
    "raw_log.columns"
   ]
  },
  {
   "cell_type": "markdown",
   "metadata": {},
   "source": [
    "### 1. canonicaldeviceuuid 컬럼명을 userid 컬럼명으로 바꿔주세요."
   ]
  },
  {
   "cell_type": "code",
   "execution_count": 6,
   "metadata": {},
   "outputs": [],
   "source": [
    "\n",
    "raw_log[\"userid\"]=raw_log[\"canonicaldeviceuuid\"]"
   ]
  },
  {
   "cell_type": "code",
   "execution_count": 11,
   "metadata": {},
   "outputs": [
    {
     "data": {
      "text/html": [
       "<div>\n",
       "<style scoped>\n",
       "    .dataframe tbody tr th:only-of-type {\n",
       "        vertical-align: middle;\n",
       "    }\n",
       "\n",
       "    .dataframe tbody tr th {\n",
       "        vertical-align: top;\n",
       "    }\n",
       "\n",
       "    .dataframe thead th {\n",
       "        text-align: right;\n",
       "    }\n",
       "</style>\n",
       "<table border=\"1\" class=\"dataframe\">\n",
       "  <thead>\n",
       "    <tr style=\"text-align: right;\">\n",
       "      <th></th>\n",
       "      <th>eventcategory</th>\n",
       "      <th>isfirstactivity</th>\n",
       "      <th>apppackagename</th>\n",
       "      <th>appversion</th>\n",
       "      <th>devicetype</th>\n",
       "      <th>devicemanufacturer</th>\n",
       "      <th>osversion</th>\n",
       "      <th>canonicaldeviceuuid</th>\n",
       "      <th>sourcetype</th>\n",
       "      <th>channel</th>\n",
       "      <th>params_campaign</th>\n",
       "      <th>params_medium</th>\n",
       "      <th>params_term</th>\n",
       "      <th>inappeventcategory</th>\n",
       "      <th>inappeventlabel</th>\n",
       "      <th>eventdatetime</th>\n",
       "      <th>rowuuid</th>\n",
       "      <th>isfirstgoalactivity</th>\n",
       "      <th>event_rank</th>\n",
       "      <th>userid</th>\n",
       "    </tr>\n",
       "  </thead>\n",
       "  <tbody>\n",
       "    <tr>\n",
       "      <td>0</td>\n",
       "      <td>goal</td>\n",
       "      <td>False</td>\n",
       "      <td>com.kmong.iOS</td>\n",
       "      <td>4.0.4</td>\n",
       "      <td>iPhone</td>\n",
       "      <td>Apple</td>\n",
       "      <td>iOS11.4.1</td>\n",
       "      <td>F36FAA62-ADAC-4AA5-9B00-1FD6CB7EE957</td>\n",
       "      <td>unattributed</td>\n",
       "      <td>unattributed</td>\n",
       "      <td>NaN</td>\n",
       "      <td>NaN</td>\n",
       "      <td>NaN</td>\n",
       "      <td>home.view</td>\n",
       "      <td>NaN</td>\n",
       "      <td>2018-09-28T00:00:00+09:00</td>\n",
       "      <td>fd2a188c-bc9b-4702-9c47-b546b2614817</td>\n",
       "      <td>False</td>\n",
       "      <td>True</td>\n",
       "      <td>F36FAA62-ADAC-4AA5-9B00-1FD6CB7EE957</td>\n",
       "    </tr>\n",
       "    <tr>\n",
       "      <td>1</td>\n",
       "      <td>goal</td>\n",
       "      <td>False</td>\n",
       "      <td>com.kmong.kmong</td>\n",
       "      <td>3.3.5</td>\n",
       "      <td>SM-N935S</td>\n",
       "      <td>samsung</td>\n",
       "      <td>Android7.0</td>\n",
       "      <td>8a871e50-0717-4aed-9bad-04ac3c3793be</td>\n",
       "      <td>unattributed</td>\n",
       "      <td>unattributed</td>\n",
       "      <td>NaN</td>\n",
       "      <td>NaN</td>\n",
       "      <td>NaN</td>\n",
       "      <td>gig_detail.view</td>\n",
       "      <td>41201.0</td>\n",
       "      <td>2018-09-28T00:00:00+09:00</td>\n",
       "      <td>e62dccef-dd70-4415-8a33-c8324ddaed38</td>\n",
       "      <td>False</td>\n",
       "      <td>True</td>\n",
       "      <td>8a871e50-0717-4aed-9bad-04ac3c3793be</td>\n",
       "    </tr>\n",
       "    <tr>\n",
       "      <td>2</td>\n",
       "      <td>goal</td>\n",
       "      <td>False</td>\n",
       "      <td>com.kmong.iOS</td>\n",
       "      <td>4.0.4</td>\n",
       "      <td>iPhone</td>\n",
       "      <td>Apple</td>\n",
       "      <td>iOS12.0</td>\n",
       "      <td>A9E5778A-8F3D-4597-9718-74BF953A9F64</td>\n",
       "      <td>unattributed</td>\n",
       "      <td>unattributed</td>\n",
       "      <td>NaN</td>\n",
       "      <td>NaN</td>\n",
       "      <td>NaN</td>\n",
       "      <td>inbox_detail.view</td>\n",
       "      <td>NaN</td>\n",
       "      <td>2018-09-28T00:00:00+09:00</td>\n",
       "      <td>14eb3197-db83-493a-b7be-83582960c40b</td>\n",
       "      <td>False</td>\n",
       "      <td>True</td>\n",
       "      <td>A9E5778A-8F3D-4597-9718-74BF953A9F64</td>\n",
       "    </tr>\n",
       "    <tr>\n",
       "      <td>3</td>\n",
       "      <td>foreground</td>\n",
       "      <td>NaN</td>\n",
       "      <td>com.kmong.iOS</td>\n",
       "      <td>4.0.4</td>\n",
       "      <td>iPhone</td>\n",
       "      <td>Apple</td>\n",
       "      <td>iOS11.4.1</td>\n",
       "      <td>168761CB-CB67-4592-867D-52780D651297</td>\n",
       "      <td>NaN</td>\n",
       "      <td>NaN</td>\n",
       "      <td>NaN</td>\n",
       "      <td>NaN</td>\n",
       "      <td>NaN</td>\n",
       "      <td>NaN</td>\n",
       "      <td>NaN</td>\n",
       "      <td>2018-09-28T00:00:01+09:00</td>\n",
       "      <td>f9bb91af-248b-44dc-9f5c-1c00b37ea97b</td>\n",
       "      <td>NaN</td>\n",
       "      <td>True</td>\n",
       "      <td>168761CB-CB67-4592-867D-52780D651297</td>\n",
       "    </tr>\n",
       "    <tr>\n",
       "      <td>4</td>\n",
       "      <td>goal</td>\n",
       "      <td>False</td>\n",
       "      <td>com.kmong.iOS</td>\n",
       "      <td>4.0.4</td>\n",
       "      <td>iPhone</td>\n",
       "      <td>Apple</td>\n",
       "      <td>iOS11.4.1</td>\n",
       "      <td>ACABB7C0-4C76-413A-B314-E5D6DA0D0E5D</td>\n",
       "      <td>viral</td>\n",
       "      <td>WEB</td>\n",
       "      <td>NaN</td>\n",
       "      <td>NaN</td>\n",
       "      <td>NaN</td>\n",
       "      <td>buyer_order_track.view</td>\n",
       "      <td>NaN</td>\n",
       "      <td>2018-09-28T00:00:02+09:00</td>\n",
       "      <td>236e9946-7801-4898-b609-06c8ab1139dc</td>\n",
       "      <td>False</td>\n",
       "      <td>True</td>\n",
       "      <td>ACABB7C0-4C76-413A-B314-E5D6DA0D0E5D</td>\n",
       "    </tr>\n",
       "  </tbody>\n",
       "</table>\n",
       "</div>"
      ],
      "text/plain": [
       "  eventcategory isfirstactivity   apppackagename appversion devicetype  \\\n",
       "0          goal           False    com.kmong.iOS      4.0.4     iPhone   \n",
       "1          goal           False  com.kmong.kmong      3.3.5   SM-N935S   \n",
       "2          goal           False    com.kmong.iOS      4.0.4     iPhone   \n",
       "3    foreground             NaN    com.kmong.iOS      4.0.4     iPhone   \n",
       "4          goal           False    com.kmong.iOS      4.0.4     iPhone   \n",
       "\n",
       "  devicemanufacturer   osversion                   canonicaldeviceuuid  \\\n",
       "0              Apple   iOS11.4.1  F36FAA62-ADAC-4AA5-9B00-1FD6CB7EE957   \n",
       "1            samsung  Android7.0  8a871e50-0717-4aed-9bad-04ac3c3793be   \n",
       "2              Apple     iOS12.0  A9E5778A-8F3D-4597-9718-74BF953A9F64   \n",
       "3              Apple   iOS11.4.1  168761CB-CB67-4592-867D-52780D651297   \n",
       "4              Apple   iOS11.4.1  ACABB7C0-4C76-413A-B314-E5D6DA0D0E5D   \n",
       "\n",
       "     sourcetype       channel params_campaign params_medium params_term  \\\n",
       "0  unattributed  unattributed             NaN           NaN         NaN   \n",
       "1  unattributed  unattributed             NaN           NaN         NaN   \n",
       "2  unattributed  unattributed             NaN           NaN         NaN   \n",
       "3           NaN           NaN             NaN           NaN         NaN   \n",
       "4         viral           WEB             NaN           NaN         NaN   \n",
       "\n",
       "       inappeventcategory  inappeventlabel              eventdatetime  \\\n",
       "0               home.view              NaN  2018-09-28T00:00:00+09:00   \n",
       "1         gig_detail.view          41201.0  2018-09-28T00:00:00+09:00   \n",
       "2       inbox_detail.view              NaN  2018-09-28T00:00:00+09:00   \n",
       "3                     NaN              NaN  2018-09-28T00:00:01+09:00   \n",
       "4  buyer_order_track.view              NaN  2018-09-28T00:00:02+09:00   \n",
       "\n",
       "                                rowuuid isfirstgoalactivity  event_rank  \\\n",
       "0  fd2a188c-bc9b-4702-9c47-b546b2614817               False        True   \n",
       "1  e62dccef-dd70-4415-8a33-c8324ddaed38               False        True   \n",
       "2  14eb3197-db83-493a-b7be-83582960c40b               False        True   \n",
       "3  f9bb91af-248b-44dc-9f5c-1c00b37ea97b                 NaN        True   \n",
       "4  236e9946-7801-4898-b609-06c8ab1139dc               False        True   \n",
       "\n",
       "                                 userid  \n",
       "0  F36FAA62-ADAC-4AA5-9B00-1FD6CB7EE957  \n",
       "1  8a871e50-0717-4aed-9bad-04ac3c3793be  \n",
       "2  A9E5778A-8F3D-4597-9718-74BF953A9F64  \n",
       "3  168761CB-CB67-4592-867D-52780D651297  \n",
       "4  ACABB7C0-4C76-413A-B314-E5D6DA0D0E5D  "
      ]
     },
     "execution_count": 11,
     "metadata": {},
     "output_type": "execute_result"
    }
   ],
   "source": [
    "raw_log.head()"
   ]
  },
  {
   "cell_type": "code",
   "execution_count": 12,
   "metadata": {},
   "outputs": [
    {
     "data": {
      "text/html": [
       "<div>\n",
       "<style scoped>\n",
       "    .dataframe tbody tr th:only-of-type {\n",
       "        vertical-align: middle;\n",
       "    }\n",
       "\n",
       "    .dataframe tbody tr th {\n",
       "        vertical-align: top;\n",
       "    }\n",
       "\n",
       "    .dataframe thead th {\n",
       "        text-align: right;\n",
       "    }\n",
       "</style>\n",
       "<table border=\"1\" class=\"dataframe\">\n",
       "  <thead>\n",
       "    <tr style=\"text-align: right;\">\n",
       "      <th></th>\n",
       "      <th>userid</th>\n",
       "      <th>canonicaldeviceuuid</th>\n",
       "    </tr>\n",
       "  </thead>\n",
       "  <tbody>\n",
       "    <tr>\n",
       "      <td>0</td>\n",
       "      <td>F36FAA62-ADAC-4AA5-9B00-1FD6CB7EE957</td>\n",
       "      <td>F36FAA62-ADAC-4AA5-9B00-1FD6CB7EE957</td>\n",
       "    </tr>\n",
       "    <tr>\n",
       "      <td>1</td>\n",
       "      <td>8a871e50-0717-4aed-9bad-04ac3c3793be</td>\n",
       "      <td>8a871e50-0717-4aed-9bad-04ac3c3793be</td>\n",
       "    </tr>\n",
       "    <tr>\n",
       "      <td>2</td>\n",
       "      <td>A9E5778A-8F3D-4597-9718-74BF953A9F64</td>\n",
       "      <td>A9E5778A-8F3D-4597-9718-74BF953A9F64</td>\n",
       "    </tr>\n",
       "    <tr>\n",
       "      <td>3</td>\n",
       "      <td>168761CB-CB67-4592-867D-52780D651297</td>\n",
       "      <td>168761CB-CB67-4592-867D-52780D651297</td>\n",
       "    </tr>\n",
       "    <tr>\n",
       "      <td>4</td>\n",
       "      <td>ACABB7C0-4C76-413A-B314-E5D6DA0D0E5D</td>\n",
       "      <td>ACABB7C0-4C76-413A-B314-E5D6DA0D0E5D</td>\n",
       "    </tr>\n",
       "    <tr>\n",
       "      <td>...</td>\n",
       "      <td>...</td>\n",
       "      <td>...</td>\n",
       "    </tr>\n",
       "    <tr>\n",
       "      <td>434239</td>\n",
       "      <td>1fbc9ad2-8109-4294-ae9e-9acf6dce72c3</td>\n",
       "      <td>1fbc9ad2-8109-4294-ae9e-9acf6dce72c3</td>\n",
       "    </tr>\n",
       "    <tr>\n",
       "      <td>434240</td>\n",
       "      <td>ea69fbd8-16fe-4db4-ae1e-512d5bbd1d6f</td>\n",
       "      <td>ea69fbd8-16fe-4db4-ae1e-512d5bbd1d6f</td>\n",
       "    </tr>\n",
       "    <tr>\n",
       "      <td>434241</td>\n",
       "      <td>1fbc9ad2-8109-4294-ae9e-9acf6dce72c3</td>\n",
       "      <td>1fbc9ad2-8109-4294-ae9e-9acf6dce72c3</td>\n",
       "    </tr>\n",
       "    <tr>\n",
       "      <td>434242</td>\n",
       "      <td>ea69fbd8-16fe-4db4-ae1e-512d5bbd1d6f</td>\n",
       "      <td>ea69fbd8-16fe-4db4-ae1e-512d5bbd1d6f</td>\n",
       "    </tr>\n",
       "    <tr>\n",
       "      <td>434243</td>\n",
       "      <td>965b53e9-f6d6-4a9d-827e-e60c5eb52bb8</td>\n",
       "      <td>965b53e9-f6d6-4a9d-827e-e60c5eb52bb8</td>\n",
       "    </tr>\n",
       "  </tbody>\n",
       "</table>\n",
       "<p>434244 rows × 2 columns</p>\n",
       "</div>"
      ],
      "text/plain": [
       "                                      userid  \\\n",
       "0       F36FAA62-ADAC-4AA5-9B00-1FD6CB7EE957   \n",
       "1       8a871e50-0717-4aed-9bad-04ac3c3793be   \n",
       "2       A9E5778A-8F3D-4597-9718-74BF953A9F64   \n",
       "3       168761CB-CB67-4592-867D-52780D651297   \n",
       "4       ACABB7C0-4C76-413A-B314-E5D6DA0D0E5D   \n",
       "...                                      ...   \n",
       "434239  1fbc9ad2-8109-4294-ae9e-9acf6dce72c3   \n",
       "434240  ea69fbd8-16fe-4db4-ae1e-512d5bbd1d6f   \n",
       "434241  1fbc9ad2-8109-4294-ae9e-9acf6dce72c3   \n",
       "434242  ea69fbd8-16fe-4db4-ae1e-512d5bbd1d6f   \n",
       "434243  965b53e9-f6d6-4a9d-827e-e60c5eb52bb8   \n",
       "\n",
       "                         canonicaldeviceuuid  \n",
       "0       F36FAA62-ADAC-4AA5-9B00-1FD6CB7EE957  \n",
       "1       8a871e50-0717-4aed-9bad-04ac3c3793be  \n",
       "2       A9E5778A-8F3D-4597-9718-74BF953A9F64  \n",
       "3       168761CB-CB67-4592-867D-52780D651297  \n",
       "4       ACABB7C0-4C76-413A-B314-E5D6DA0D0E5D  \n",
       "...                                      ...  \n",
       "434239  1fbc9ad2-8109-4294-ae9e-9acf6dce72c3  \n",
       "434240  ea69fbd8-16fe-4db4-ae1e-512d5bbd1d6f  \n",
       "434241  1fbc9ad2-8109-4294-ae9e-9acf6dce72c3  \n",
       "434242  ea69fbd8-16fe-4db4-ae1e-512d5bbd1d6f  \n",
       "434243  965b53e9-f6d6-4a9d-827e-e60c5eb52bb8  \n",
       "\n",
       "[434244 rows x 2 columns]"
      ]
     },
     "execution_count": 12,
     "metadata": {},
     "output_type": "execute_result"
    }
   ],
   "source": [
    "raw_log[[\"userid\",\"canonicaldeviceuuid\"]]"
   ]
  },
  {
   "cell_type": "markdown",
   "metadata": {},
   "source": [
    "### 2. eventdatetime 컬럼은 datetime 형태로 바꾼 뒤 연/월/일/시/분/초 데이터를 추출해주세요."
   ]
  },
  {
   "cell_type": "code",
   "execution_count": 15,
   "metadata": {},
   "outputs": [
    {
     "data": {
      "text/plain": [
       "0         2018-09-28T00:00:00+09:00\n",
       "1         2018-09-28T00:00:00+09:00\n",
       "2         2018-09-28T00:00:00+09:00\n",
       "3         2018-09-28T00:00:01+09:00\n",
       "4         2018-09-28T00:00:02+09:00\n",
       "                    ...            \n",
       "434239    2018-09-29T23:59:52+09:00\n",
       "434240    2018-09-29T23:59:53+09:00\n",
       "434241    2018-09-29T23:59:53+09:00\n",
       "434242    2018-09-29T23:59:54+09:00\n",
       "434243    2018-09-29T23:59:58+09:00\n",
       "Name: eventdatetime, Length: 434244, dtype: object"
      ]
     },
     "execution_count": 15,
     "metadata": {},
     "output_type": "execute_result"
    }
   ],
   "source": [
    "\n",
    "raw_log[\"eventdatetime\"]"
   ]
  },
  {
   "cell_type": "code",
   "execution_count": 16,
   "metadata": {},
   "outputs": [
    {
     "data": {
      "text/plain": [
       "0        2018-09-28 00:00:00+09:00\n",
       "1        2018-09-28 00:00:00+09:00\n",
       "2        2018-09-28 00:00:00+09:00\n",
       "3        2018-09-28 00:00:01+09:00\n",
       "4        2018-09-28 00:00:02+09:00\n",
       "                    ...           \n",
       "434239   2018-09-29 23:59:52+09:00\n",
       "434240   2018-09-29 23:59:53+09:00\n",
       "434241   2018-09-29 23:59:53+09:00\n",
       "434242   2018-09-29 23:59:54+09:00\n",
       "434243   2018-09-29 23:59:58+09:00\n",
       "Name: eventdatetime, Length: 434244, dtype: datetime64[ns, pytz.FixedOffset(540)]"
      ]
     },
     "execution_count": 16,
     "metadata": {},
     "output_type": "execute_result"
    }
   ],
   "source": [
    "pd.to_datetime(raw_log[\"eventdatetime\"])"
   ]
  },
  {
   "cell_type": "code",
   "execution_count": 20,
   "metadata": {},
   "outputs": [],
   "source": [
    "raw_log[\"eventdatetime\"]=pd.to_datetime(raw_log[\"eventdatetime\"])"
   ]
  },
  {
   "cell_type": "code",
   "execution_count": 21,
   "metadata": {},
   "outputs": [
    {
     "data": {
      "text/plain": [
       "0        2018-09-28 00:00:00+09:00\n",
       "1        2018-09-28 00:00:00+09:00\n",
       "2        2018-09-28 00:00:00+09:00\n",
       "3        2018-09-28 00:00:01+09:00\n",
       "4        2018-09-28 00:00:02+09:00\n",
       "                    ...           \n",
       "434239   2018-09-29 23:59:52+09:00\n",
       "434240   2018-09-29 23:59:53+09:00\n",
       "434241   2018-09-29 23:59:53+09:00\n",
       "434242   2018-09-29 23:59:54+09:00\n",
       "434243   2018-09-29 23:59:58+09:00\n",
       "Name: eventdatetime, Length: 434244, dtype: datetime64[ns, pytz.FixedOffset(540)]"
      ]
     },
     "execution_count": 21,
     "metadata": {},
     "output_type": "execute_result"
    }
   ],
   "source": [
    "raw_log[\"eventdatetime\"]"
   ]
  },
  {
   "cell_type": "code",
   "execution_count": 22,
   "metadata": {},
   "outputs": [],
   "source": [
    "raw_log[\"eventdatetime_year\"]=raw_log[\"eventdatetime\"].dt.year"
   ]
  },
  {
   "cell_type": "code",
   "execution_count": 23,
   "metadata": {},
   "outputs": [],
   "source": [
    "raw_log[\"eventdatetime_month\"]=raw_log[\"eventdatetime\"].dt.month"
   ]
  },
  {
   "cell_type": "code",
   "execution_count": 24,
   "metadata": {},
   "outputs": [],
   "source": [
    "raw_log[\"eventdatetime_day\"]=raw_log[\"eventdatetime\"].dt.day"
   ]
  },
  {
   "cell_type": "code",
   "execution_count": 25,
   "metadata": {},
   "outputs": [],
   "source": [
    "raw_log[\"eventdatetime_hour\"]=raw_log[\"eventdatetime\"].dt.hour"
   ]
  },
  {
   "cell_type": "code",
   "execution_count": 26,
   "metadata": {},
   "outputs": [],
   "source": [
    "raw_log[\"eventdatetime_minute\"]=raw_log[\"eventdatetime\"].dt.minute"
   ]
  },
  {
   "cell_type": "code",
   "execution_count": 27,
   "metadata": {},
   "outputs": [],
   "source": [
    "raw_log[\"eventdatetime_second\"]=raw_log[\"eventdatetime\"].dt.second"
   ]
  },
  {
   "cell_type": "code",
   "execution_count": 29,
   "metadata": {},
   "outputs": [
    {
     "data": {
      "text/html": [
       "<div>\n",
       "<style scoped>\n",
       "    .dataframe tbody tr th:only-of-type {\n",
       "        vertical-align: middle;\n",
       "    }\n",
       "\n",
       "    .dataframe tbody tr th {\n",
       "        vertical-align: top;\n",
       "    }\n",
       "\n",
       "    .dataframe thead th {\n",
       "        text-align: right;\n",
       "    }\n",
       "</style>\n",
       "<table border=\"1\" class=\"dataframe\">\n",
       "  <thead>\n",
       "    <tr style=\"text-align: right;\">\n",
       "      <th></th>\n",
       "      <th>eventdatetime</th>\n",
       "      <th>eventdatetime_year</th>\n",
       "      <th>eventdatetime_month</th>\n",
       "      <th>eventdatetime_day</th>\n",
       "      <th>eventdatetime_hour</th>\n",
       "      <th>eventdatetime_minute</th>\n",
       "      <th>eventdatetime_second</th>\n",
       "    </tr>\n",
       "  </thead>\n",
       "  <tbody>\n",
       "    <tr>\n",
       "      <td>0</td>\n",
       "      <td>2018-09-28 00:00:00+09:00</td>\n",
       "      <td>2018</td>\n",
       "      <td>9</td>\n",
       "      <td>28</td>\n",
       "      <td>0</td>\n",
       "      <td>0</td>\n",
       "      <td>0</td>\n",
       "    </tr>\n",
       "    <tr>\n",
       "      <td>1</td>\n",
       "      <td>2018-09-28 00:00:00+09:00</td>\n",
       "      <td>2018</td>\n",
       "      <td>9</td>\n",
       "      <td>28</td>\n",
       "      <td>0</td>\n",
       "      <td>0</td>\n",
       "      <td>0</td>\n",
       "    </tr>\n",
       "    <tr>\n",
       "      <td>2</td>\n",
       "      <td>2018-09-28 00:00:00+09:00</td>\n",
       "      <td>2018</td>\n",
       "      <td>9</td>\n",
       "      <td>28</td>\n",
       "      <td>0</td>\n",
       "      <td>0</td>\n",
       "      <td>0</td>\n",
       "    </tr>\n",
       "    <tr>\n",
       "      <td>3</td>\n",
       "      <td>2018-09-28 00:00:01+09:00</td>\n",
       "      <td>2018</td>\n",
       "      <td>9</td>\n",
       "      <td>28</td>\n",
       "      <td>0</td>\n",
       "      <td>0</td>\n",
       "      <td>1</td>\n",
       "    </tr>\n",
       "    <tr>\n",
       "      <td>4</td>\n",
       "      <td>2018-09-28 00:00:02+09:00</td>\n",
       "      <td>2018</td>\n",
       "      <td>9</td>\n",
       "      <td>28</td>\n",
       "      <td>0</td>\n",
       "      <td>0</td>\n",
       "      <td>2</td>\n",
       "    </tr>\n",
       "  </tbody>\n",
       "</table>\n",
       "</div>"
      ],
      "text/plain": [
       "              eventdatetime  eventdatetime_year  eventdatetime_month  \\\n",
       "0 2018-09-28 00:00:00+09:00                2018                    9   \n",
       "1 2018-09-28 00:00:00+09:00                2018                    9   \n",
       "2 2018-09-28 00:00:00+09:00                2018                    9   \n",
       "3 2018-09-28 00:00:01+09:00                2018                    9   \n",
       "4 2018-09-28 00:00:02+09:00                2018                    9   \n",
       "\n",
       "   eventdatetime_day  eventdatetime_hour  eventdatetime_minute  \\\n",
       "0                 28                   0                     0   \n",
       "1                 28                   0                     0   \n",
       "2                 28                   0                     0   \n",
       "3                 28                   0                     0   \n",
       "4                 28                   0                     0   \n",
       "\n",
       "   eventdatetime_second  \n",
       "0                     0  \n",
       "1                     0  \n",
       "2                     0  \n",
       "3                     1  \n",
       "4                     2  "
      ]
     },
     "execution_count": 29,
     "metadata": {},
     "output_type": "execute_result"
    }
   ],
   "source": [
    "raw_log[[\"eventdatetime\",\"eventdatetime_year\",\"eventdatetime_month\",\"eventdatetime_day\",\"eventdatetime_hour\",\"eventdatetime_minute\",\"eventdatetime_second\"]].head()"
   ]
  },
  {
   "cell_type": "markdown",
   "metadata": {},
   "source": [
    "### 3. osversion 컬럼에 들어가 있는 정보를 여러 개의 컬럼으로 나눠주세요."
   ]
  },
  {
   "cell_type": "code",
   "execution_count": 31,
   "metadata": {},
   "outputs": [
    {
     "data": {
      "text/plain": [
       "0            iOS11.4.1\n",
       "1           Android7.0\n",
       "2              iOS12.0\n",
       "3            iOS11.4.1\n",
       "4            iOS11.4.1\n",
       "              ...     \n",
       "434239    Android8.0.0\n",
       "434240    Android8.0.0\n",
       "434241    Android8.0.0\n",
       "434242    Android8.0.0\n",
       "434243    Android8.0.0\n",
       "Name: osversion, Length: 434244, dtype: object"
      ]
     },
     "execution_count": 31,
     "metadata": {},
     "output_type": "execute_result"
    }
   ],
   "source": [
    "raw_log[\"osversion\"]"
   ]
  },
  {
   "cell_type": "code",
   "execution_count": 61,
   "metadata": {},
   "outputs": [],
   "source": [
    "raw_ios=raw_log.loc[raw_log[\"osversion\"].str.contains(\"iOS\"),\"osversion\"]"
   ]
  },
  {
   "cell_type": "code",
   "execution_count": 62,
   "metadata": {},
   "outputs": [
    {
     "data": {
      "text/plain": [
       "0         iOS11.4.1\n",
       "2           iOS12.0\n",
       "3         iOS11.4.1\n",
       "4         iOS11.4.1\n",
       "9         iOS11.4.1\n",
       "            ...    \n",
       "434230    iOS11.4.1\n",
       "434231    iOS11.4.1\n",
       "434232    iOS11.4.1\n",
       "434235    iOS11.4.1\n",
       "434236    iOS11.4.1\n",
       "Name: osversion, Length: 163566, dtype: object"
      ]
     },
     "execution_count": 62,
     "metadata": {},
     "output_type": "execute_result"
    }
   ],
   "source": [
    "raw_ios"
   ]
  },
  {
   "cell_type": "code",
   "execution_count": 74,
   "metadata": {},
   "outputs": [
    {
     "data": {
      "text/plain": [
       "0         11.4.1\n",
       "2           12.0\n",
       "3         11.4.1\n",
       "4         11.4.1\n",
       "9         11.4.1\n",
       "           ...  \n",
       "434230    11.4.1\n",
       "434231    11.4.1\n",
       "434232    11.4.1\n",
       "434235    11.4.1\n",
       "434236    11.4.1\n",
       "Name: osversion, Length: 163566, dtype: object"
      ]
     },
     "execution_count": 74,
     "metadata": {},
     "output_type": "execute_result"
    }
   ],
   "source": [
    "raw_ios.str[3:]"
   ]
  },
  {
   "cell_type": "code",
   "execution_count": 75,
   "metadata": {},
   "outputs": [
    {
     "data": {
      "text/plain": [
       "0         iOS\n",
       "2         iOS\n",
       "3         iOS\n",
       "4         iOS\n",
       "9         iOS\n",
       "         ... \n",
       "434230    iOS\n",
       "434231    iOS\n",
       "434232    iOS\n",
       "434235    iOS\n",
       "434236    iOS\n",
       "Name: osversion, Length: 163566, dtype: object"
      ]
     },
     "execution_count": 75,
     "metadata": {},
     "output_type": "execute_result"
    }
   ],
   "source": [
    "raw_ios.str[0:3]"
   ]
  },
  {
   "cell_type": "code",
   "execution_count": 76,
   "metadata": {},
   "outputs": [],
   "source": [
    "raw_log[\"ostype(clean)\"]=raw_ios.str[0:3]"
   ]
  },
  {
   "cell_type": "code",
   "execution_count": 77,
   "metadata": {},
   "outputs": [],
   "source": [
    "raw_log[\"osversion(clean)\"]=raw_ios.str[3:]"
   ]
  },
  {
   "cell_type": "code",
   "execution_count": 78,
   "metadata": {},
   "outputs": [
    {
     "data": {
      "text/html": [
       "<div>\n",
       "<style scoped>\n",
       "    .dataframe tbody tr th:only-of-type {\n",
       "        vertical-align: middle;\n",
       "    }\n",
       "\n",
       "    .dataframe tbody tr th {\n",
       "        vertical-align: top;\n",
       "    }\n",
       "\n",
       "    .dataframe thead th {\n",
       "        text-align: right;\n",
       "    }\n",
       "</style>\n",
       "<table border=\"1\" class=\"dataframe\">\n",
       "  <thead>\n",
       "    <tr style=\"text-align: right;\">\n",
       "      <th></th>\n",
       "      <th>osversion</th>\n",
       "      <th>ostype(clean)</th>\n",
       "      <th>osversion(clean)</th>\n",
       "    </tr>\n",
       "  </thead>\n",
       "  <tbody>\n",
       "    <tr>\n",
       "      <td>0</td>\n",
       "      <td>iOS11.4.1</td>\n",
       "      <td>iOS</td>\n",
       "      <td>11.4.1</td>\n",
       "    </tr>\n",
       "    <tr>\n",
       "      <td>1</td>\n",
       "      <td>Android7.0</td>\n",
       "      <td>NaN</td>\n",
       "      <td>NaN</td>\n",
       "    </tr>\n",
       "    <tr>\n",
       "      <td>2</td>\n",
       "      <td>iOS12.0</td>\n",
       "      <td>iOS</td>\n",
       "      <td>12.0</td>\n",
       "    </tr>\n",
       "    <tr>\n",
       "      <td>3</td>\n",
       "      <td>iOS11.4.1</td>\n",
       "      <td>iOS</td>\n",
       "      <td>11.4.1</td>\n",
       "    </tr>\n",
       "    <tr>\n",
       "      <td>4</td>\n",
       "      <td>iOS11.4.1</td>\n",
       "      <td>iOS</td>\n",
       "      <td>11.4.1</td>\n",
       "    </tr>\n",
       "  </tbody>\n",
       "</table>\n",
       "</div>"
      ],
      "text/plain": [
       "    osversion ostype(clean) osversion(clean)\n",
       "0   iOS11.4.1           iOS           11.4.1\n",
       "1  Android7.0           NaN              NaN\n",
       "2     iOS12.0           iOS             12.0\n",
       "3   iOS11.4.1           iOS           11.4.1\n",
       "4   iOS11.4.1           iOS           11.4.1"
      ]
     },
     "execution_count": 78,
     "metadata": {},
     "output_type": "execute_result"
    }
   ],
   "source": [
    "raw_log[[\"osversion\",\"ostype(clean)\",\"osversion(clean)\"]].head()"
   ]
  },
  {
   "cell_type": "code",
   "execution_count": 67,
   "metadata": {},
   "outputs": [],
   "source": [
    "raw_and=raw_log.loc[raw_log[\"osversion\"].str.contains(\"Android\"),\"osversion\"]"
   ]
  },
  {
   "cell_type": "code",
   "execution_count": 68,
   "metadata": {},
   "outputs": [
    {
     "data": {
      "text/plain": [
       "1         Android\n",
       "5         Android\n",
       "6         Android\n",
       "7         Android\n",
       "8         Android\n",
       "           ...   \n",
       "434239    Android\n",
       "434240    Android\n",
       "434241    Android\n",
       "434242    Android\n",
       "434243    Android\n",
       "Name: osversion, Length: 270678, dtype: object"
      ]
     },
     "execution_count": 68,
     "metadata": {},
     "output_type": "execute_result"
    }
   ],
   "source": [
    "raw_and.str[0:7]"
   ]
  },
  {
   "cell_type": "code",
   "execution_count": 69,
   "metadata": {},
   "outputs": [
    {
     "data": {
      "text/plain": [
       "1           7.0\n",
       "5         8.0.0\n",
       "6           7.0\n",
       "7         8.0.0\n",
       "8         8.0.0\n",
       "          ...  \n",
       "434239    8.0.0\n",
       "434240    8.0.0\n",
       "434241    8.0.0\n",
       "434242    8.0.0\n",
       "434243    8.0.0\n",
       "Name: osversion, Length: 270678, dtype: object"
      ]
     },
     "execution_count": 69,
     "metadata": {},
     "output_type": "execute_result"
    }
   ],
   "source": [
    "raw_and.str[7:]"
   ]
  },
  {
   "cell_type": "code",
   "execution_count": 70,
   "metadata": {},
   "outputs": [],
   "source": [
    "raw_log[\"ostype(clean)\"]=raw_and.str[0:7]"
   ]
  },
  {
   "cell_type": "code",
   "execution_count": 71,
   "metadata": {},
   "outputs": [],
   "source": [
    "raw_log[\"osversion(clean)\"]=raw_and.str[7:]"
   ]
  },
  {
   "cell_type": "code",
   "execution_count": 72,
   "metadata": {},
   "outputs": [
    {
     "data": {
      "text/html": [
       "<div>\n",
       "<style scoped>\n",
       "    .dataframe tbody tr th:only-of-type {\n",
       "        vertical-align: middle;\n",
       "    }\n",
       "\n",
       "    .dataframe tbody tr th {\n",
       "        vertical-align: top;\n",
       "    }\n",
       "\n",
       "    .dataframe thead th {\n",
       "        text-align: right;\n",
       "    }\n",
       "</style>\n",
       "<table border=\"1\" class=\"dataframe\">\n",
       "  <thead>\n",
       "    <tr style=\"text-align: right;\">\n",
       "      <th></th>\n",
       "      <th>osversion</th>\n",
       "      <th>ostype(clean)</th>\n",
       "      <th>osversion(clean)</th>\n",
       "    </tr>\n",
       "  </thead>\n",
       "  <tbody>\n",
       "    <tr>\n",
       "      <td>0</td>\n",
       "      <td>iOS11.4.1</td>\n",
       "      <td>NaN</td>\n",
       "      <td>NaN</td>\n",
       "    </tr>\n",
       "    <tr>\n",
       "      <td>1</td>\n",
       "      <td>Android7.0</td>\n",
       "      <td>Android</td>\n",
       "      <td>7.0</td>\n",
       "    </tr>\n",
       "    <tr>\n",
       "      <td>2</td>\n",
       "      <td>iOS12.0</td>\n",
       "      <td>NaN</td>\n",
       "      <td>NaN</td>\n",
       "    </tr>\n",
       "    <tr>\n",
       "      <td>3</td>\n",
       "      <td>iOS11.4.1</td>\n",
       "      <td>NaN</td>\n",
       "      <td>NaN</td>\n",
       "    </tr>\n",
       "    <tr>\n",
       "      <td>4</td>\n",
       "      <td>iOS11.4.1</td>\n",
       "      <td>NaN</td>\n",
       "      <td>NaN</td>\n",
       "    </tr>\n",
       "  </tbody>\n",
       "</table>\n",
       "</div>"
      ],
      "text/plain": [
       "    osversion ostype(clean) osversion(clean)\n",
       "0   iOS11.4.1           NaN              NaN\n",
       "1  Android7.0       Android              7.0\n",
       "2     iOS12.0           NaN              NaN\n",
       "3   iOS11.4.1           NaN              NaN\n",
       "4   iOS11.4.1           NaN              NaN"
      ]
     },
     "execution_count": 72,
     "metadata": {},
     "output_type": "execute_result"
    }
   ],
   "source": [
    "raw_log[[\"osversion\",\"ostype(clean)\",\"osversion(clean)\"]].head()"
   ]
  },
  {
   "cell_type": "code",
   "execution_count": 87,
   "metadata": {},
   "outputs": [
    {
     "ename": "ValueError",
     "evalue": "The truth value of a Series is ambiguous. Use a.empty, a.bool(), a.item(), a.any() or a.all().",
     "output_type": "error",
     "traceback": [
      "\u001b[1;31m---------------------------------------------------------------------------\u001b[0m",
      "\u001b[1;31mValueError\u001b[0m                                Traceback (most recent call last)",
      "\u001b[1;32m<ipython-input-87-898fa13c3294>\u001b[0m in \u001b[0;36m<module>\u001b[1;34m\u001b[0m\n\u001b[1;32m----> 1\u001b[1;33m \u001b[1;32mif\u001b[0m \u001b[0mraw_log\u001b[0m\u001b[1;33m[\u001b[0m\u001b[1;34m\"osversion\"\u001b[0m\u001b[1;33m]\u001b[0m\u001b[1;33m.\u001b[0m\u001b[0mstr\u001b[0m\u001b[1;33m.\u001b[0m\u001b[0mcontains\u001b[0m\u001b[1;33m(\u001b[0m\u001b[1;34m\"Android\"\u001b[0m\u001b[1;33m)\u001b[0m\u001b[1;33m:\u001b[0m\u001b[1;33m\u001b[0m\u001b[1;33m\u001b[0m\u001b[0m\n\u001b[0m\u001b[0;32m      2\u001b[0m     \u001b[0mraw_and\u001b[0m\u001b[1;33m=\u001b[0m\u001b[0mraw_log\u001b[0m\u001b[1;33m.\u001b[0m\u001b[0mloc\u001b[0m\u001b[1;33m[\u001b[0m\u001b[0mraw_log\u001b[0m\u001b[1;33m[\u001b[0m\u001b[1;34m\"osversion\"\u001b[0m\u001b[1;33m]\u001b[0m\u001b[1;33m.\u001b[0m\u001b[0mstr\u001b[0m\u001b[1;33m.\u001b[0m\u001b[0mcontains\u001b[0m\u001b[1;33m(\u001b[0m\u001b[1;34m\"Android\"\u001b[0m\u001b[1;33m)\u001b[0m\u001b[1;33m,\u001b[0m\u001b[1;34m\"osversion\"\u001b[0m\u001b[1;33m]\u001b[0m\u001b[1;33m\u001b[0m\u001b[1;33m\u001b[0m\u001b[0m\n\u001b[0;32m      3\u001b[0m     \u001b[0mraw_log\u001b[0m\u001b[1;33m[\u001b[0m\u001b[1;34m\"ostype(clean)\"\u001b[0m\u001b[1;33m]\u001b[0m\u001b[1;33m=\u001b[0m\u001b[0mraw_and\u001b[0m\u001b[1;33m.\u001b[0m\u001b[0mstr\u001b[0m\u001b[1;33m[\u001b[0m\u001b[1;36m0\u001b[0m\u001b[1;33m:\u001b[0m\u001b[1;36m7\u001b[0m\u001b[1;33m]\u001b[0m\u001b[1;33m\u001b[0m\u001b[1;33m\u001b[0m\u001b[0m\n\u001b[0;32m      4\u001b[0m     \u001b[0mraw_log\u001b[0m\u001b[1;33m[\u001b[0m\u001b[1;34m\"osversion(clean)\"\u001b[0m\u001b[1;33m]\u001b[0m\u001b[1;33m=\u001b[0m\u001b[0mraw_and\u001b[0m\u001b[1;33m.\u001b[0m\u001b[0mstr\u001b[0m\u001b[1;33m[\u001b[0m\u001b[1;36m7\u001b[0m\u001b[1;33m:\u001b[0m\u001b[1;33m]\u001b[0m\u001b[1;33m\u001b[0m\u001b[1;33m\u001b[0m\u001b[0m\n\u001b[0;32m      5\u001b[0m \u001b[1;32melse\u001b[0m\u001b[1;33m:\u001b[0m\u001b[1;33m\u001b[0m\u001b[1;33m\u001b[0m\u001b[0m\n",
      "\u001b[1;32m~\\Anaconda3\\lib\\site-packages\\pandas\\core\\generic.py\u001b[0m in \u001b[0;36m__nonzero__\u001b[1;34m(self)\u001b[0m\n\u001b[0;32m   1553\u001b[0m             \u001b[1;34m\"The truth value of a {0} is ambiguous. \"\u001b[0m\u001b[1;33m\u001b[0m\u001b[1;33m\u001b[0m\u001b[0m\n\u001b[0;32m   1554\u001b[0m             \"Use a.empty, a.bool(), a.item(), a.any() or a.all().\".format(\n\u001b[1;32m-> 1555\u001b[1;33m                 \u001b[0mself\u001b[0m\u001b[1;33m.\u001b[0m\u001b[0m__class__\u001b[0m\u001b[1;33m.\u001b[0m\u001b[0m__name__\u001b[0m\u001b[1;33m\u001b[0m\u001b[1;33m\u001b[0m\u001b[0m\n\u001b[0m\u001b[0;32m   1556\u001b[0m             )\n\u001b[0;32m   1557\u001b[0m         )\n",
      "\u001b[1;31mValueError\u001b[0m: The truth value of a Series is ambiguous. Use a.empty, a.bool(), a.item(), a.any() or a.all()."
     ]
    }
   ],
   "source": [
    "if raw_log[\"osversion\"].str.contains(\"Android\"):\n",
    "    raw_and=raw_log.loc[raw_log[\"osversion\"].str.contains(\"Android\"),\"osversion\"]\n",
    "    raw_log[\"ostype(clean)\"]=raw_and.str[0:7]\n",
    "    raw_log[\"osversion(clean)\"]=raw_and.str[7:]\n",
    "else:\n",
    "    raw_log[\"ostype(clean)\"]=raw_ios.str[0:3]\n",
    "    raw_log[\"osversion(clean)\"]=raw_ios.str[3:]\n",
    "    \n",
    "raw_log[\"ostype(clean)\"]"
   ]
  },
  {
   "cell_type": "markdown",
   "metadata": {},
   "source": [
    "### **4. ```devicemanufacturer``` 컬럼 정보를 정리해주세요.**"
   ]
  },
  {
   "cell_type": "code",
   "execution_count": 88,
   "metadata": {},
   "outputs": [
    {
     "data": {
      "text/plain": [
       "0           Apple\n",
       "1         samsung\n",
       "2           Apple\n",
       "3           Apple\n",
       "4           Apple\n",
       "           ...   \n",
       "434239    samsung\n",
       "434240    samsung\n",
       "434241    samsung\n",
       "434242    samsung\n",
       "434243    samsung\n",
       "Name: devicemanufacturer, Length: 434244, dtype: object"
      ]
     },
     "execution_count": 88,
     "metadata": {},
     "output_type": "execute_result"
    }
   ],
   "source": [
    "raw_log[\"devicemanufacturer\"]"
   ]
  },
  {
   "cell_type": "code",
   "execution_count": 89,
   "metadata": {},
   "outputs": [
    {
     "ename": "ValueError",
     "evalue": "The truth value of a Series is ambiguous. Use a.empty, a.bool(), a.item(), a.any() or a.all().",
     "output_type": "error",
     "traceback": [
      "\u001b[1;31m---------------------------------------------------------------------------\u001b[0m",
      "\u001b[1;31mValueError\u001b[0m                                Traceback (most recent call last)",
      "\u001b[1;32m<ipython-input-89-f5256e7785d8>\u001b[0m in \u001b[0;36m<module>\u001b[1;34m\u001b[0m\n\u001b[1;32m----> 1\u001b[1;33m \u001b[1;32mif\u001b[0m \u001b[0mraw_log\u001b[0m\u001b[1;33m[\u001b[0m\u001b[1;34m\"devicemanufacturer\"\u001b[0m\u001b[1;33m]\u001b[0m\u001b[1;33m.\u001b[0m\u001b[0mstr\u001b[0m\u001b[1;33m.\u001b[0m\u001b[0mcontains\u001b[0m\u001b[1;33m(\u001b[0m\u001b[1;34m\"LG\"\u001b[0m\u001b[1;33m)\u001b[0m\u001b[1;33m:\u001b[0m\u001b[1;33m\u001b[0m\u001b[1;33m\u001b[0m\u001b[0m\n\u001b[0m\u001b[0;32m      2\u001b[0m     \u001b[0mraw_log\u001b[0m\u001b[1;33m[\u001b[0m\u001b[1;34m\"devicemanufacturer\"\u001b[0m\u001b[1;33m]\u001b[0m\u001b[1;33m=\u001b[0m\u001b[1;34m\"LG\"\u001b[0m\u001b[1;33m\u001b[0m\u001b[1;33m\u001b[0m\u001b[0m\n",
      "\u001b[1;32m~\\Anaconda3\\lib\\site-packages\\pandas\\core\\generic.py\u001b[0m in \u001b[0;36m__nonzero__\u001b[1;34m(self)\u001b[0m\n\u001b[0;32m   1553\u001b[0m             \u001b[1;34m\"The truth value of a {0} is ambiguous. \"\u001b[0m\u001b[1;33m\u001b[0m\u001b[1;33m\u001b[0m\u001b[0m\n\u001b[0;32m   1554\u001b[0m             \"Use a.empty, a.bool(), a.item(), a.any() or a.all().\".format(\n\u001b[1;32m-> 1555\u001b[1;33m                 \u001b[0mself\u001b[0m\u001b[1;33m.\u001b[0m\u001b[0m__class__\u001b[0m\u001b[1;33m.\u001b[0m\u001b[0m__name__\u001b[0m\u001b[1;33m\u001b[0m\u001b[1;33m\u001b[0m\u001b[0m\n\u001b[0m\u001b[0;32m   1556\u001b[0m             )\n\u001b[0;32m   1557\u001b[0m         )\n",
      "\u001b[1;31mValueError\u001b[0m: The truth value of a Series is ambiguous. Use a.empty, a.bool(), a.item(), a.any() or a.all()."
     ]
    }
   ],
   "source": [
    "if raw_log[\"devicemanufacturer\"].str.contains(\"LG\"):\n",
    "    raw_log[\"devicemanufacturer\"]=\"LG\""
   ]
  },
  {
   "cell_type": "code",
   "execution_count": 90,
   "metadata": {},
   "outputs": [],
   "source": [
    "raw_log[\"devicemanufacturer\"]=raw_log[\"devicemanufacturer\"].replace([\"LGE\",\"LG Electronics\"],\"LG\")"
   ]
  },
  {
   "cell_type": "code",
   "execution_count": 91,
   "metadata": {},
   "outputs": [],
   "source": [
    "raw_log[\"devicemanufacturer\"]=raw_log[\"devicemanufacturer\"].replace(\"samsung\",\"Samsung\")"
   ]
  },
  {
   "cell_type": "code",
   "execution_count": 94,
   "metadata": {},
   "outputs": [
    {
     "data": {
      "text/plain": [
       "0           Apple\n",
       "1         Samsung\n",
       "2           Apple\n",
       "3           Apple\n",
       "4           Apple\n",
       "           ...   \n",
       "434239    Samsung\n",
       "434240    Samsung\n",
       "434241    Samsung\n",
       "434242    Samsung\n",
       "434243    Samsung\n",
       "Name: devicemanufacturer, Length: 434244, dtype: object"
      ]
     },
     "execution_count": 94,
     "metadata": {},
     "output_type": "execute_result"
    }
   ],
   "source": [
    "raw_log[\"devicemanufacturer\"]"
   ]
  },
  {
   "cell_type": "code",
   "execution_count": 96,
   "metadata": {},
   "outputs": [],
   "source": [
    "raw_log[raw_log[\"devicemanufacturer\"].isin([\"Samsung\",\"LG\",\"Apple\"])==False]=\"Others\""
   ]
  },
  {
   "cell_type": "code",
   "execution_count": 98,
   "metadata": {},
   "outputs": [
    {
     "data": {
      "text/plain": [
       "array(['Apple', 'Samsung', 'LG', 'Others'], dtype=object)"
      ]
     },
     "execution_count": 98,
     "metadata": {},
     "output_type": "execute_result"
    }
   ],
   "source": [
    "raw_log[\"devicemanufacturer\"].unique()"
   ]
  },
  {
   "cell_type": "markdown",
   "metadata": {},
   "source": [
    "### 5. channel 컬럼 정보를 정리해주세요."
   ]
  },
  {
   "cell_type": "code",
   "execution_count": 111,
   "metadata": {},
   "outputs": [
    {
     "data": {
      "text/plain": [
       "array(['google-play', 'google', 'google.adwords'], dtype=object)"
      ]
     },
     "execution_count": 111,
     "metadata": {},
     "output_type": "execute_result"
    }
   ],
   "source": [
    "ch_google=raw_log[raw_log[\"channel\"].str.contains(\"google\")==True][\"channel\"]\n",
    "\n",
    "ch_google.unique()"
   ]
  },
  {
   "cell_type": "code",
   "execution_count": 112,
   "metadata": {},
   "outputs": [],
   "source": [
    "raw_log[\"channel\"]=raw_log[\"channel\"].replace([\"google-play\",\"google\",\"google.adwords\"],\"google\")"
   ]
  },
  {
   "cell_type": "code",
   "execution_count": 113,
   "metadata": {},
   "outputs": [
    {
     "data": {
      "text/plain": [
       "array(['unattributed', nan, 'WEB', 'google', 'm_naver', 'Others',\n",
       "       '(not set)', 'm_naverpowercontents', 'pc_naver', 'apple.searchads',\n",
       "       'facebook', 'm_daum'], dtype=object)"
      ]
     },
     "execution_count": 113,
     "metadata": {},
     "output_type": "execute_result"
    }
   ],
   "source": [
    "raw_log[\"channel\"].unique()"
   ]
  },
  {
   "cell_type": "code",
   "execution_count": 114,
   "metadata": {},
   "outputs": [],
   "source": [
    "raw_log[\"channel\"]=raw_log[\"channel\"].replace(\"m_daum\",\"daum\")"
   ]
  },
  {
   "cell_type": "code",
   "execution_count": 115,
   "metadata": {},
   "outputs": [],
   "source": [
    "raw_log[\"channel\"]=raw_log[\"channel\"].replace([\"m_naver\",\"pc_naver\",\"m_naverpowercontents\"],\"naver\")"
   ]
  },
  {
   "cell_type": "code",
   "execution_count": 116,
   "metadata": {},
   "outputs": [],
   "source": [
    "raw_log[\"channel\"]=raw_log[\"channel\"].replace(\"apple.searchads\",\"appple\")"
   ]
  },
  {
   "cell_type": "code",
   "execution_count": 117,
   "metadata": {},
   "outputs": [],
   "source": [
    "# not set하는 방법을 모르겠음.. "
   ]
  },
  {
   "cell_type": "markdown",
   "metadata": {},
   "source": [
    "### 6. inappeventcategory 컬럼에 들어가 있는 정보를 여러 개의 컬럼으로 나눠주세요."
   ]
  },
  {
   "cell_type": "code",
   "execution_count": 129,
   "metadata": {},
   "outputs": [
    {
     "data": {
      "text/plain": [
       "0                 home\n",
       "1           gig_detail\n",
       "2         inbox_detail\n",
       "3                  NaN\n",
       "4    buyer_order_track\n",
       "Name: inappeventcategory, dtype: object"
      ]
     },
     "execution_count": 129,
     "metadata": {},
     "output_type": "execute_result"
    }
   ],
   "source": [
    "view_split=raw_log[\"inappeventcategory\"].str.split(\".\").str[0]\n",
    "\n",
    "view_split.head()"
   ]
  },
  {
   "cell_type": "code",
   "execution_count": 132,
   "metadata": {},
   "outputs": [
    {
     "data": {
      "text/plain": [
       "0    view\n",
       "1    view\n",
       "2    view\n",
       "3     NaN\n",
       "4    view\n",
       "Name: inappeventcategory, dtype: object"
      ]
     },
     "execution_count": 132,
     "metadata": {},
     "output_type": "execute_result"
    }
   ],
   "source": [
    "view_split2=raw_log[\"inappeventcategory\"].str.split(\".\").str[1]\n",
    "\n",
    "view_split2.head()"
   ]
  },
  {
   "cell_type": "code",
   "execution_count": 131,
   "metadata": {},
   "outputs": [
    {
     "data": {
      "text/plain": [
       "0             home\n",
       "1              gig\n",
       "2            inbox\n",
       "3              NaN\n",
       "4            buyer\n",
       "            ...   \n",
       "434239         gig\n",
       "434240        home\n",
       "434241    category\n",
       "434242         NaN\n",
       "434243      search\n",
       "Name: inappeventcategory, Length: 434244, dtype: object"
      ]
     },
     "execution_count": 131,
     "metadata": {},
     "output_type": "execute_result"
    }
   ],
   "source": [
    "cat_split=view_split.str.split(\"_\").str[0]\n",
    "\n",
    "cat_split"
   ]
  },
  {
   "cell_type": "code",
   "execution_count": 133,
   "metadata": {},
   "outputs": [],
   "source": [
    "raw_log[\"viewcategory\"]=cat_split\n",
    "raw_log[\"viewid\"]=view_split\n",
    "raw_log[\"viewaction\"]=view_split2"
   ]
  },
  {
   "cell_type": "code",
   "execution_count": 137,
   "metadata": {},
   "outputs": [
    {
     "data": {
      "text/html": [
       "<div>\n",
       "<style scoped>\n",
       "    .dataframe tbody tr th:only-of-type {\n",
       "        vertical-align: middle;\n",
       "    }\n",
       "\n",
       "    .dataframe tbody tr th {\n",
       "        vertical-align: top;\n",
       "    }\n",
       "\n",
       "    .dataframe thead th {\n",
       "        text-align: right;\n",
       "    }\n",
       "</style>\n",
       "<table border=\"1\" class=\"dataframe\">\n",
       "  <thead>\n",
       "    <tr style=\"text-align: right;\">\n",
       "      <th></th>\n",
       "      <th>inappeventcategory</th>\n",
       "      <th>viewcategory</th>\n",
       "      <th>viewid</th>\n",
       "      <th>viewaction</th>\n",
       "    </tr>\n",
       "  </thead>\n",
       "  <tbody>\n",
       "    <tr>\n",
       "      <td>0</td>\n",
       "      <td>home.view</td>\n",
       "      <td>home</td>\n",
       "      <td>home</td>\n",
       "      <td>view</td>\n",
       "    </tr>\n",
       "    <tr>\n",
       "      <td>1</td>\n",
       "      <td>gig_detail.view</td>\n",
       "      <td>gig</td>\n",
       "      <td>gig_detail</td>\n",
       "      <td>view</td>\n",
       "    </tr>\n",
       "    <tr>\n",
       "      <td>2</td>\n",
       "      <td>inbox_detail.view</td>\n",
       "      <td>inbox</td>\n",
       "      <td>inbox_detail</td>\n",
       "      <td>view</td>\n",
       "    </tr>\n",
       "    <tr>\n",
       "      <td>3</td>\n",
       "      <td>NaN</td>\n",
       "      <td>NaN</td>\n",
       "      <td>NaN</td>\n",
       "      <td>NaN</td>\n",
       "    </tr>\n",
       "    <tr>\n",
       "      <td>4</td>\n",
       "      <td>buyer_order_track.view</td>\n",
       "      <td>buyer</td>\n",
       "      <td>buyer_order_track</td>\n",
       "      <td>view</td>\n",
       "    </tr>\n",
       "  </tbody>\n",
       "</table>\n",
       "</div>"
      ],
      "text/plain": [
       "       inappeventcategory viewcategory             viewid viewaction\n",
       "0               home.view         home               home       view\n",
       "1         gig_detail.view          gig         gig_detail       view\n",
       "2       inbox_detail.view        inbox       inbox_detail       view\n",
       "3                     NaN          NaN                NaN        NaN\n",
       "4  buyer_order_track.view        buyer  buyer_order_track       view"
      ]
     },
     "execution_count": 137,
     "metadata": {},
     "output_type": "execute_result"
    }
   ],
   "source": [
    "raw_log[[\"inappeventcategory\",\"viewcategory\",\"viewid\",\"viewaction\"]].head()"
   ]
  },
  {
   "cell_type": "markdown",
   "metadata": {},
   "source": [
    "### 7. 필요하지 않은 컬럼을 버려주세요."
   ]
  },
  {
   "cell_type": "code",
   "execution_count": 139,
   "metadata": {},
   "outputs": [
    {
     "data": {
      "text/plain": [
       "Index(['eventcategory', 'isfirstactivity', 'apppackagename', 'appversion',\n",
       "       'devicetype', 'devicemanufacturer', 'osversion', 'canonicaldeviceuuid',\n",
       "       'sourcetype', 'channel', 'params_campaign', 'params_medium',\n",
       "       'params_term', 'inappeventcategory', 'inappeventlabel', 'eventdatetime',\n",
       "       'rowuuid', 'isfirstgoalactivity', 'event_rank', 'userid',\n",
       "       'eventdatetime_year', 'eventdatetime_month', 'eventdatetime_day',\n",
       "       'eventdatetime_hour', 'eventdatetime_minute', 'eventdatetime_second',\n",
       "       'ostype(clean)', 'osversion(clean)', 'viewcategory', 'viewid',\n",
       "       'viewaction'],\n",
       "      dtype='object')"
      ]
     },
     "execution_count": 139,
     "metadata": {},
     "output_type": "execute_result"
    }
   ],
   "source": [
    "raw_log.columns"
   ]
  },
  {
   "cell_type": "code",
   "execution_count": 143,
   "metadata": {},
   "outputs": [],
   "source": [
    "raw_log=raw_log.drop([\"event_rank\",\"canonicaldeviceuuid\"],axis=1)"
   ]
  },
  {
   "cell_type": "code",
   "execution_count": 144,
   "metadata": {},
   "outputs": [
    {
     "data": {
      "text/plain": [
       "Index(['eventcategory', 'isfirstactivity', 'apppackagename', 'appversion',\n",
       "       'devicetype', 'devicemanufacturer', 'osversion', 'sourcetype',\n",
       "       'channel', 'params_campaign', 'params_medium', 'params_term',\n",
       "       'inappeventcategory', 'inappeventlabel', 'eventdatetime', 'rowuuid',\n",
       "       'isfirstgoalactivity', 'userid', 'eventdatetime_year',\n",
       "       'eventdatetime_month', 'eventdatetime_day', 'eventdatetime_hour',\n",
       "       'eventdatetime_minute', 'eventdatetime_second', 'ostype(clean)',\n",
       "       'osversion(clean)', 'viewcategory', 'viewid', 'viewaction'],\n",
       "      dtype='object')"
      ]
     },
     "execution_count": 144,
     "metadata": {},
     "output_type": "execute_result"
    }
   ],
   "source": [
    "raw_log.columns"
   ]
  },
  {
   "cell_type": "code",
   "execution_count": null,
   "metadata": {},
   "outputs": [],
   "source": [
    "# devicemanufacturer, channel, osversion은 제대로 하지 못해서 삭제하지 못함.. "
   ]
  }
 ],
 "metadata": {
  "kernelspec": {
   "display_name": "Python 3",
   "language": "python",
   "name": "python3"
  },
  "language_info": {
   "codemirror_mode": {
    "name": "ipython",
    "version": 3
   },
   "file_extension": ".py",
   "mimetype": "text/x-python",
   "name": "python",
   "nbconvert_exporter": "python",
   "pygments_lexer": "ipython3",
   "version": "3.7.4"
  }
 },
 "nbformat": 4,
 "nbformat_minor": 2
}
