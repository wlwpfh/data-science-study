{
 "cells": [
  {
   "cell_type": "markdown",
   "id": "51eb3354",
   "metadata": {},
   "source": [
    "대회용 데이터: train(feature, label), test(feature), submisison  \n",
    "    \n",
    "현실용 데이터: train(feature, label), train를 test화 시킨다."
   ]
  },
  {
   "cell_type": "markdown",
   "id": "619636e0",
   "metadata": {},
   "source": [
    "### 1. Import packages"
   ]
  },
  {
   "cell_type": "code",
   "execution_count": 26,
   "id": "e7544ece",
   "metadata": {},
   "outputs": [],
   "source": [
    "import pandas as pd\n",
    "import matplotlib.pyplot as plt\n",
    "import seaborn as sns\n",
    "import numpy as np"
   ]
  },
  {
   "cell_type": "code",
   "execution_count": 19,
   "id": "8ac66b63",
   "metadata": {},
   "outputs": [
    {
     "name": "stderr",
     "output_type": "stream",
     "text": [
      "C:\\Users\\User\\anaconda3\\lib\\site-packages\\ipykernel\\ipkernel.py:287: DeprecationWarning: `should_run_async` will not call `transform_cell` automatically in the future. Please pass the result to `transformed_cell` argument and any exception that happen during thetransform in `preprocessing_exc_tuple` in IPython 7.17 and above.\n",
      "  and should_run_async(code)\n"
     ]
    }
   ],
   "source": [
    "# 한글 깨짐 방지\n",
    "plt.rc('font',family='Malgun Gothic')\n",
    "\n",
    "import warnings\n",
    "warnings.filterwarnings(\"ignore\", category=DeprecationWarning)"
   ]
  },
  {
   "cell_type": "code",
   "execution_count": null,
   "id": "99ddef20",
   "metadata": {},
   "outputs": [],
   "source": []
  },
  {
   "cell_type": "markdown",
   "id": "40b2d882",
   "metadata": {},
   "source": [
    "### 2. Data loading & Preprocessing :\n",
    "#### 2-1) Data loading\n",
    "\n",
    "- 일자\n",
    "- 요일\n",
    "- 본사정원수\n",
    "- 본사휴가자수\n",
    "- 본사출장자수\n",
    "- 시간외근무명령서승인건수\n",
    "- 현본사소속재택근무자수\n",
    "- 조식메뉴\n",
    "- 중식메뉴\n",
    "- 석식메뉴\n",
    "- 중식계\n",
    "- 석식계"
   ]
  },
  {
   "cell_type": "code",
   "execution_count": 3,
   "id": "4622c699",
   "metadata": {},
   "outputs": [],
   "source": [
    "train=pd.read_csv(\"train.csv\")\n",
    "test=pd.read_csv(\"test.csv\")\n",
    "submission=pd.read_csv(\"sample_submission.csv\")"
   ]
  },
  {
   "cell_type": "code",
   "execution_count": 4,
   "id": "c4a6d6f7",
   "metadata": {},
   "outputs": [
    {
     "name": "stdout",
     "output_type": "stream",
     "text": [
      "(1205, 12)\n"
     ]
    },
    {
     "data": {
      "text/html": [
       "<div>\n",
       "<style scoped>\n",
       "    .dataframe tbody tr th:only-of-type {\n",
       "        vertical-align: middle;\n",
       "    }\n",
       "\n",
       "    .dataframe tbody tr th {\n",
       "        vertical-align: top;\n",
       "    }\n",
       "\n",
       "    .dataframe thead th {\n",
       "        text-align: right;\n",
       "    }\n",
       "</style>\n",
       "<table border=\"1\" class=\"dataframe\">\n",
       "  <thead>\n",
       "    <tr style=\"text-align: right;\">\n",
       "      <th></th>\n",
       "      <th>일자</th>\n",
       "      <th>요일</th>\n",
       "      <th>본사정원수</th>\n",
       "      <th>본사휴가자수</th>\n",
       "      <th>본사출장자수</th>\n",
       "      <th>본사시간외근무명령서승인건수</th>\n",
       "      <th>현본사소속재택근무자수</th>\n",
       "      <th>조식메뉴</th>\n",
       "      <th>중식메뉴</th>\n",
       "      <th>석식메뉴</th>\n",
       "      <th>중식계</th>\n",
       "      <th>석식계</th>\n",
       "    </tr>\n",
       "  </thead>\n",
       "  <tbody>\n",
       "    <tr>\n",
       "      <th>0</th>\n",
       "      <td>2016-02-01</td>\n",
       "      <td>월</td>\n",
       "      <td>2601</td>\n",
       "      <td>50</td>\n",
       "      <td>150</td>\n",
       "      <td>238</td>\n",
       "      <td>0.0</td>\n",
       "      <td>모닝롤/찐빵  우유/두유/주스 계란후라이  호두죽/쌀밥 (쌀:국내산) 된장찌개  쥐...</td>\n",
       "      <td>쌀밥/잡곡밥 (쌀,현미흑미:국내산) 오징어찌개  쇠불고기 (쇠고기:호주산) 계란찜 ...</td>\n",
       "      <td>쌀밥/잡곡밥 (쌀,현미흑미:국내산) 육개장  자반고등어구이  두부조림  건파래무침 ...</td>\n",
       "      <td>1039.0</td>\n",
       "      <td>331.0</td>\n",
       "    </tr>\n",
       "    <tr>\n",
       "      <th>1</th>\n",
       "      <td>2016-02-02</td>\n",
       "      <td>화</td>\n",
       "      <td>2601</td>\n",
       "      <td>50</td>\n",
       "      <td>173</td>\n",
       "      <td>319</td>\n",
       "      <td>0.0</td>\n",
       "      <td>모닝롤/단호박샌드  우유/두유/주스 계란후라이  팥죽/쌀밥 (쌀:국내산) 호박젓국찌...</td>\n",
       "      <td>쌀밥/잡곡밥 (쌀,현미흑미:국내산) 김치찌개  가자미튀김  모둠소세지구이  마늘쫑무...</td>\n",
       "      <td>콩나물밥*양념장 (쌀,현미흑미:국내산) 어묵국  유산슬 (쇠고기:호주산) 아삭고추무...</td>\n",
       "      <td>867.0</td>\n",
       "      <td>560.0</td>\n",
       "    </tr>\n",
       "    <tr>\n",
       "      <th>2</th>\n",
       "      <td>2016-02-03</td>\n",
       "      <td>수</td>\n",
       "      <td>2601</td>\n",
       "      <td>56</td>\n",
       "      <td>180</td>\n",
       "      <td>111</td>\n",
       "      <td>0.0</td>\n",
       "      <td>모닝롤/베이글  우유/두유/주스 계란후라이  표고버섯죽/쌀밥 (쌀:국내산) 콩나물국...</td>\n",
       "      <td>카레덮밥 (쌀,현미흑미:국내산) 팽이장국  치킨핑거 (닭고기:국내산) 쫄면야채무침 ...</td>\n",
       "      <td>쌀밥/잡곡밥 (쌀,현미흑미:국내산) 청국장찌개  황태양념구이 (황태:러시아산) 고기...</td>\n",
       "      <td>1017.0</td>\n",
       "      <td>573.0</td>\n",
       "    </tr>\n",
       "  </tbody>\n",
       "</table>\n",
       "</div>"
      ],
      "text/plain": [
       "           일자 요일  본사정원수  본사휴가자수  본사출장자수  본사시간외근무명령서승인건수  현본사소속재택근무자수  \\\n",
       "0  2016-02-01  월   2601      50     150             238          0.0   \n",
       "1  2016-02-02  화   2601      50     173             319          0.0   \n",
       "2  2016-02-03  수   2601      56     180             111          0.0   \n",
       "\n",
       "                                                조식메뉴  \\\n",
       "0  모닝롤/찐빵  우유/두유/주스 계란후라이  호두죽/쌀밥 (쌀:국내산) 된장찌개  쥐...   \n",
       "1  모닝롤/단호박샌드  우유/두유/주스 계란후라이  팥죽/쌀밥 (쌀:국내산) 호박젓국찌...   \n",
       "2  모닝롤/베이글  우유/두유/주스 계란후라이  표고버섯죽/쌀밥 (쌀:국내산) 콩나물국...   \n",
       "\n",
       "                                                중식메뉴  \\\n",
       "0  쌀밥/잡곡밥 (쌀,현미흑미:국내산) 오징어찌개  쇠불고기 (쇠고기:호주산) 계란찜 ...   \n",
       "1  쌀밥/잡곡밥 (쌀,현미흑미:국내산) 김치찌개  가자미튀김  모둠소세지구이  마늘쫑무...   \n",
       "2  카레덮밥 (쌀,현미흑미:국내산) 팽이장국  치킨핑거 (닭고기:국내산) 쫄면야채무침 ...   \n",
       "\n",
       "                                                석식메뉴     중식계    석식계  \n",
       "0  쌀밥/잡곡밥 (쌀,현미흑미:국내산) 육개장  자반고등어구이  두부조림  건파래무침 ...  1039.0  331.0  \n",
       "1  콩나물밥*양념장 (쌀,현미흑미:국내산) 어묵국  유산슬 (쇠고기:호주산) 아삭고추무...   867.0  560.0  \n",
       "2  쌀밥/잡곡밥 (쌀,현미흑미:국내산) 청국장찌개  황태양념구이 (황태:러시아산) 고기...  1017.0  573.0  "
      ]
     },
     "execution_count": 4,
     "metadata": {},
     "output_type": "execute_result"
    }
   ],
   "source": [
    "print(train.shape)\n",
    "train.head(3)\n",
    "\n",
    "# label이 2개 -> 각가 2개로 나눠서 해야 함. (중식계, 석식계)\n",
    "# ML로 읽으려면 숫자로 바꿔야 함. \n",
    "# 날짜, 사람 수, 메뉴, 계"
   ]
  },
  {
   "cell_type": "code",
   "execution_count": 5,
   "id": "75b6ebcf",
   "metadata": {},
   "outputs": [
    {
     "name": "stdout",
     "output_type": "stream",
     "text": [
      "(50, 10)\n"
     ]
    },
    {
     "data": {
      "text/html": [
       "<div>\n",
       "<style scoped>\n",
       "    .dataframe tbody tr th:only-of-type {\n",
       "        vertical-align: middle;\n",
       "    }\n",
       "\n",
       "    .dataframe tbody tr th {\n",
       "        vertical-align: top;\n",
       "    }\n",
       "\n",
       "    .dataframe thead th {\n",
       "        text-align: right;\n",
       "    }\n",
       "</style>\n",
       "<table border=\"1\" class=\"dataframe\">\n",
       "  <thead>\n",
       "    <tr style=\"text-align: right;\">\n",
       "      <th></th>\n",
       "      <th>일자</th>\n",
       "      <th>요일</th>\n",
       "      <th>본사정원수</th>\n",
       "      <th>본사휴가자수</th>\n",
       "      <th>본사출장자수</th>\n",
       "      <th>본사시간외근무명령서승인건수</th>\n",
       "      <th>현본사소속재택근무자수</th>\n",
       "      <th>조식메뉴</th>\n",
       "      <th>중식메뉴</th>\n",
       "      <th>석식메뉴</th>\n",
       "    </tr>\n",
       "  </thead>\n",
       "  <tbody>\n",
       "    <tr>\n",
       "      <th>0</th>\n",
       "      <td>2021-01-27</td>\n",
       "      <td>수</td>\n",
       "      <td>2983</td>\n",
       "      <td>88</td>\n",
       "      <td>182</td>\n",
       "      <td>5</td>\n",
       "      <td>358.0</td>\n",
       "      <td>모닝롤/연유버터베이글 우유/주스 계란후라이/찐계란 단호박죽/흑미밥 우거지국 고기완자...</td>\n",
       "      <td>쌀밥/흑미밥/찰현미밥 대구지리 매운돈갈비찜 오꼬노미계란말이 상추무침 포기김치 양상추...</td>\n",
       "      <td>흑미밥 얼큰순두부찌개 쇠고기우엉볶음 버섯햄볶음 (New)아삭이고추무절임 포기김치</td>\n",
       "    </tr>\n",
       "    <tr>\n",
       "      <th>1</th>\n",
       "      <td>2021-01-28</td>\n",
       "      <td>목</td>\n",
       "      <td>2983</td>\n",
       "      <td>104</td>\n",
       "      <td>212</td>\n",
       "      <td>409</td>\n",
       "      <td>348.0</td>\n",
       "      <td>모닝롤/대만샌드위치 우유/주스 계란후라이/찐계란 누룽지탕/흑미밥 황태국 시래기지짐 ...</td>\n",
       "      <td>쌀밥/보리밥/찰현미밥 우렁된장찌개 오리주물럭 청양부추전 수제삼색무쌈 겉절이김치 양상...</td>\n",
       "      <td>충무김밥 우동국물 오징어무침 꽃맛살샐러드 얼갈이쌈장무침 석박지</td>\n",
       "    </tr>\n",
       "    <tr>\n",
       "      <th>2</th>\n",
       "      <td>2021-01-29</td>\n",
       "      <td>금</td>\n",
       "      <td>2983</td>\n",
       "      <td>270</td>\n",
       "      <td>249</td>\n",
       "      <td>0</td>\n",
       "      <td>294.0</td>\n",
       "      <td>모닝롤/핫케익 우유/주스 계란후라이/찐계란 오곡죽/흑미밥 매생이굴국 고구마순볶음 양...</td>\n",
       "      <td>쌀밥/흑미밥/찰현미밥 팽이장국 수제돈까스*소스 가자미조림 동초나물무침 포기김치 양상...</td>\n",
       "      <td>흑미밥 물만둣국 카레찜닭 숯불양념꼬지어묵 꼬시래기무침 포기김치</td>\n",
       "    </tr>\n",
       "  </tbody>\n",
       "</table>\n",
       "</div>"
      ],
      "text/plain": [
       "           일자 요일  본사정원수  본사휴가자수  본사출장자수  본사시간외근무명령서승인건수  현본사소속재택근무자수  \\\n",
       "0  2021-01-27  수   2983      88     182               5        358.0   \n",
       "1  2021-01-28  목   2983     104     212             409        348.0   \n",
       "2  2021-01-29  금   2983     270     249               0        294.0   \n",
       "\n",
       "                                                조식메뉴  \\\n",
       "0  모닝롤/연유버터베이글 우유/주스 계란후라이/찐계란 단호박죽/흑미밥 우거지국 고기완자...   \n",
       "1  모닝롤/대만샌드위치 우유/주스 계란후라이/찐계란 누룽지탕/흑미밥 황태국 시래기지짐 ...   \n",
       "2  모닝롤/핫케익 우유/주스 계란후라이/찐계란 오곡죽/흑미밥 매생이굴국 고구마순볶음 양...   \n",
       "\n",
       "                                                중식메뉴  \\\n",
       "0  쌀밥/흑미밥/찰현미밥 대구지리 매운돈갈비찜 오꼬노미계란말이 상추무침 포기김치 양상추...   \n",
       "1  쌀밥/보리밥/찰현미밥 우렁된장찌개 오리주물럭 청양부추전 수제삼색무쌈 겉절이김치 양상...   \n",
       "2  쌀밥/흑미밥/찰현미밥 팽이장국 수제돈까스*소스 가자미조림 동초나물무침 포기김치 양상...   \n",
       "\n",
       "                                            석식메뉴  \n",
       "0  흑미밥 얼큰순두부찌개 쇠고기우엉볶음 버섯햄볶음 (New)아삭이고추무절임 포기김치   \n",
       "1            충무김밥 우동국물 오징어무침 꽃맛살샐러드 얼갈이쌈장무침 석박지   \n",
       "2            흑미밥 물만둣국 카레찜닭 숯불양념꼬지어묵 꼬시래기무침 포기김치   "
      ]
     },
     "execution_count": 5,
     "metadata": {},
     "output_type": "execute_result"
    }
   ],
   "source": [
    "print(test.shape)\n",
    "test.head(3)"
   ]
  },
  {
   "cell_type": "code",
   "execution_count": 6,
   "id": "ab3b89a5",
   "metadata": {},
   "outputs": [
    {
     "name": "stdout",
     "output_type": "stream",
     "text": [
      "(50, 3)\n"
     ]
    },
    {
     "data": {
      "text/html": [
       "<div>\n",
       "<style scoped>\n",
       "    .dataframe tbody tr th:only-of-type {\n",
       "        vertical-align: middle;\n",
       "    }\n",
       "\n",
       "    .dataframe tbody tr th {\n",
       "        vertical-align: top;\n",
       "    }\n",
       "\n",
       "    .dataframe thead th {\n",
       "        text-align: right;\n",
       "    }\n",
       "</style>\n",
       "<table border=\"1\" class=\"dataframe\">\n",
       "  <thead>\n",
       "    <tr style=\"text-align: right;\">\n",
       "      <th></th>\n",
       "      <th>일자</th>\n",
       "      <th>중식계</th>\n",
       "      <th>석식계</th>\n",
       "    </tr>\n",
       "  </thead>\n",
       "  <tbody>\n",
       "    <tr>\n",
       "      <th>0</th>\n",
       "      <td>2021-01-27</td>\n",
       "      <td>0</td>\n",
       "      <td>0</td>\n",
       "    </tr>\n",
       "    <tr>\n",
       "      <th>1</th>\n",
       "      <td>2021-01-28</td>\n",
       "      <td>0</td>\n",
       "      <td>0</td>\n",
       "    </tr>\n",
       "    <tr>\n",
       "      <th>2</th>\n",
       "      <td>2021-01-29</td>\n",
       "      <td>0</td>\n",
       "      <td>0</td>\n",
       "    </tr>\n",
       "  </tbody>\n",
       "</table>\n",
       "</div>"
      ],
      "text/plain": [
       "           일자  중식계  석식계\n",
       "0  2021-01-27    0    0\n",
       "1  2021-01-28    0    0\n",
       "2  2021-01-29    0    0"
      ]
     },
     "execution_count": 6,
     "metadata": {},
     "output_type": "execute_result"
    }
   ],
   "source": [
    "print(submission.shape)\n",
    "submission.head(3)"
   ]
  },
  {
   "cell_type": "code",
   "execution_count": null,
   "id": "b1a0f0b9",
   "metadata": {},
   "outputs": [],
   "source": []
  },
  {
   "cell_type": "markdown",
   "id": "9614502f",
   "metadata": {},
   "source": [
    "#### 2-2) Data profiles : missing values & etc."
   ]
  },
  {
   "cell_type": "code",
   "execution_count": 8,
   "id": "5d4fb20b",
   "metadata": {},
   "outputs": [
    {
     "data": {
      "text/plain": [
       "일자                0\n",
       "요일                0\n",
       "본사정원수             0\n",
       "본사휴가자수            0\n",
       "본사출장자수            0\n",
       "본사시간외근무명령서승인건수    0\n",
       "현본사소속재택근무자수       0\n",
       "조식메뉴              0\n",
       "중식메뉴              0\n",
       "석식메뉴              0\n",
       "중식계               0\n",
       "석식계               0\n",
       "dtype: int64"
      ]
     },
     "execution_count": 8,
     "metadata": {},
     "output_type": "execute_result"
    }
   ],
   "source": [
    "train.isnull().sum()"
   ]
  },
  {
   "cell_type": "code",
   "execution_count": 10,
   "id": "8e1a9fac",
   "metadata": {},
   "outputs": [
    {
     "name": "stdout",
     "output_type": "stream",
     "text": [
      "<class 'pandas.core.frame.DataFrame'>\n",
      "RangeIndex: 1205 entries, 0 to 1204\n",
      "Data columns (total 12 columns):\n",
      " #   Column          Non-Null Count  Dtype  \n",
      "---  ------          --------------  -----  \n",
      " 0   일자              1205 non-null   object \n",
      " 1   요일              1205 non-null   object \n",
      " 2   본사정원수           1205 non-null   int64  \n",
      " 3   본사휴가자수          1205 non-null   int64  \n",
      " 4   본사출장자수          1205 non-null   int64  \n",
      " 5   본사시간외근무명령서승인건수  1205 non-null   int64  \n",
      " 6   현본사소속재택근무자수     1205 non-null   float64\n",
      " 7   조식메뉴            1205 non-null   object \n",
      " 8   중식메뉴            1205 non-null   object \n",
      " 9   석식메뉴            1205 non-null   object \n",
      " 10  중식계             1205 non-null   float64\n",
      " 11  석식계             1205 non-null   float64\n",
      "dtypes: float64(3), int64(4), object(5)\n",
      "memory usage: 113.1+ KB\n"
     ]
    }
   ],
   "source": [
    "train.info()"
   ]
  },
  {
   "cell_type": "code",
   "execution_count": 9,
   "id": "ca21dc01",
   "metadata": {},
   "outputs": [
    {
     "data": {
      "text/plain": [
       "일자                0\n",
       "요일                0\n",
       "본사정원수             0\n",
       "본사휴가자수            0\n",
       "본사출장자수            0\n",
       "본사시간외근무명령서승인건수    0\n",
       "현본사소속재택근무자수       0\n",
       "조식메뉴              0\n",
       "중식메뉴              0\n",
       "석식메뉴              0\n",
       "dtype: int64"
      ]
     },
     "execution_count": 9,
     "metadata": {},
     "output_type": "execute_result"
    }
   ],
   "source": [
    "test.isnull().sum()"
   ]
  },
  {
   "cell_type": "code",
   "execution_count": 11,
   "id": "7e6c8ec1",
   "metadata": {},
   "outputs": [
    {
     "data": {
      "text/plain": [
       "0       1039.0\n",
       "1        867.0\n",
       "2       1017.0\n",
       "3        978.0\n",
       "4        925.0\n",
       "         ...  \n",
       "1200    1093.0\n",
       "1201     832.0\n",
       "1202     579.0\n",
       "1203    1145.0\n",
       "1204    1015.0\n",
       "Name: 중식계, Length: 1205, dtype: float64"
      ]
     },
     "execution_count": 11,
     "metadata": {},
     "output_type": "execute_result"
    }
   ],
   "source": [
    "# label이 분류형태이면 비율 분포를 확인해봐야한다. (이 경우는 회귀여서 상관X)\n",
    "train[\"중식계\"]"
   ]
  },
  {
   "cell_type": "code",
   "execution_count": 28,
   "id": "3373dee6",
   "metadata": {},
   "outputs": [
    {
     "name": "stderr",
     "output_type": "stream",
     "text": [
      "C:\\Users\\User\\anaconda3\\lib\\site-packages\\seaborn\\distributions.py:2557: FutureWarning: `distplot` is a deprecated function and will be removed in a future version. Please adapt your code to use either `displot` (a figure-level function with similar flexibility) or `histplot` (an axes-level function for histograms).\n",
      "  warnings.warn(msg, FutureWarning)\n",
      "C:\\Users\\User\\anaconda3\\lib\\site-packages\\seaborn\\distributions.py:2557: FutureWarning: `distplot` is a deprecated function and will be removed in a future version. Please adapt your code to use either `displot` (a figure-level function with similar flexibility) or `histplot` (an axes-level function for histograms).\n",
      "  warnings.warn(msg, FutureWarning)\n",
      "C:\\Users\\User\\anaconda3\\lib\\site-packages\\seaborn\\distributions.py:2557: FutureWarning: `distplot` is a deprecated function and will be removed in a future version. Please adapt your code to use either `displot` (a figure-level function with similar flexibility) or `histplot` (an axes-level function for histograms).\n",
      "  warnings.warn(msg, FutureWarning)\n"
     ]
    },
    {
     "data": {
      "text/plain": [
       "<AxesSubplot:xlabel='석식계', ylabel='Density'>"
      ]
     },
     "execution_count": 28,
     "metadata": {},
     "output_type": "execute_result"
    },
    {
     "data": {
      "image/png": "[encoded data removed]",
      "text/plain": [
       "<Figure size 720x360 with 4 Axes>"
      ]
     },
     "metadata": {
      "needs_background": "light"
     },
     "output_type": "display_data"
    }
   ],
   "source": [
    "figure, ((a1, a2), (b1,b2))=plt.subplots(2,2)\n",
    "figure.set_size_inches(10,5)\n",
    "\n",
    "sns.distplot(train[\"중식계\"], ax=a1)\n",
    "sns.distplot(train[\"석식계\"], ax=a2)\n",
    "\n",
    "sns.distplot(np.log(train[\"중식계\"]), ax=b1)\n",
    "sns.distplot(np.log(train[\"석식계\"]+1), ax=b2)\n",
    "\n",
    "#데이터가 몰려있는 지 그래프로 확인해보기  \n",
    "# 데이터가 몰려있다면 statistics transformation을 이용\n",
    "\n",
    "# 석식의 0 데이터 신경쓰기 "
   ]
  },
  {
   "cell_type": "markdown",
   "id": "03de696b",
   "metadata": {},
   "source": [
    "#### 2-3) Data encoding"
   ]
  },
  {
   "cell_type": "markdown",
   "id": "8672222d",
   "metadata": {},
   "source": [
    "    문자열 데이터 -> 숫자화"
   ]
  },
  {
   "cell_type": "code",
   "execution_count": 29,
   "id": "dd592455",
   "metadata": {},
   "outputs": [
    {
     "data": {
      "text/html": [
       "<div>\n",
       "<style scoped>\n",
       "    .dataframe tbody tr th:only-of-type {\n",
       "        vertical-align: middle;\n",
       "    }\n",
       "\n",
       "    .dataframe tbody tr th {\n",
       "        vertical-align: top;\n",
       "    }\n",
       "\n",
       "    .dataframe thead th {\n",
       "        text-align: right;\n",
       "    }\n",
       "</style>\n",
       "<table border=\"1\" class=\"dataframe\">\n",
       "  <thead>\n",
       "    <tr style=\"text-align: right;\">\n",
       "      <th></th>\n",
       "      <th>일자</th>\n",
       "      <th>요일</th>\n",
       "      <th>본사정원수</th>\n",
       "      <th>본사휴가자수</th>\n",
       "      <th>본사출장자수</th>\n",
       "      <th>본사시간외근무명령서승인건수</th>\n",
       "      <th>현본사소속재택근무자수</th>\n",
       "      <th>조식메뉴</th>\n",
       "      <th>중식메뉴</th>\n",
       "      <th>석식메뉴</th>\n",
       "      <th>중식계</th>\n",
       "      <th>석식계</th>\n",
       "    </tr>\n",
       "  </thead>\n",
       "  <tbody>\n",
       "    <tr>\n",
       "      <th>0</th>\n",
       "      <td>2016-02-01</td>\n",
       "      <td>월</td>\n",
       "      <td>2601</td>\n",
       "      <td>50</td>\n",
       "      <td>150</td>\n",
       "      <td>238</td>\n",
       "      <td>0.0</td>\n",
       "      <td>모닝롤/찐빵  우유/두유/주스 계란후라이  호두죽/쌀밥 (쌀:국내산) 된장찌개  쥐...</td>\n",
       "      <td>쌀밥/잡곡밥 (쌀,현미흑미:국내산) 오징어찌개  쇠불고기 (쇠고기:호주산) 계란찜 ...</td>\n",
       "      <td>쌀밥/잡곡밥 (쌀,현미흑미:국내산) 육개장  자반고등어구이  두부조림  건파래무침 ...</td>\n",
       "      <td>1039.0</td>\n",
       "      <td>331.0</td>\n",
       "    </tr>\n",
       "  </tbody>\n",
       "</table>\n",
       "</div>"
      ],
      "text/plain": [
       "           일자 요일  본사정원수  본사휴가자수  본사출장자수  본사시간외근무명령서승인건수  현본사소속재택근무자수  \\\n",
       "0  2016-02-01  월   2601      50     150             238          0.0   \n",
       "\n",
       "                                                조식메뉴  \\\n",
       "0  모닝롤/찐빵  우유/두유/주스 계란후라이  호두죽/쌀밥 (쌀:국내산) 된장찌개  쥐...   \n",
       "\n",
       "                                                중식메뉴  \\\n",
       "0  쌀밥/잡곡밥 (쌀,현미흑미:국내산) 오징어찌개  쇠불고기 (쇠고기:호주산) 계란찜 ...   \n",
       "\n",
       "                                                석식메뉴     중식계    석식계  \n",
       "0  쌀밥/잡곡밥 (쌀,현미흑미:국내산) 육개장  자반고등어구이  두부조림  건파래무침 ...  1039.0  331.0  "
      ]
     },
     "execution_count": 29,
     "metadata": {},
     "output_type": "execute_result"
    }
   ],
   "source": [
    "train.head(1)\n",
    "\n",
    "# 일자, 요일을 숫자화하기 - 연, 월, 일, 주차,"
   ]
  },
  {
   "cell_type": "code",
   "execution_count": 57,
   "id": "7d5f3f8e",
   "metadata": {},
   "outputs": [],
   "source": [
    "datetime=pd.to_datetime(train[\"일자\"])"
   ]
  },
  {
   "cell_type": "code",
   "execution_count": 106,
   "id": "32748a92",
   "metadata": {},
   "outputs": [
    {
     "name": "stderr",
     "output_type": "stream",
     "text": [
      "<ipython-input-106-3338f84f3578>:6: FutureWarning: Series.dt.weekofyear and Series.dt.week have been deprecated.  Please use Series.dt.isocalendar().week instead.\n",
      "  train[\"WOY\"]=datetime.dt.weekofyear\n"
     ]
    },
    {
     "data": {
      "text/plain": [
       "Index(['일자', '요일', '본사정원수', '본사휴가자수', '본사출장자수', '본사시간외근무명령서승인건수',\n",
       "       '현본사소속재택근무자수', '조식메뉴', '중식메뉴', '석식메뉴', '중식계', '석식계', 'YY', 'MM', 'dd',\n",
       "       'DOF', 'WOY', 'DD', '식사대상수', 'rate1', 'rate2'],\n",
       "      dtype='object')"
      ]
     },
     "execution_count": 106,
     "metadata": {},
     "output_type": "execute_result"
    }
   ],
   "source": [
    "train[\"YY\"]=datetime.dt.year\n",
    "train[\"MM\"]=datetime.dt.month\n",
    "train[\"dd\"]=datetime.dt.day\n",
    "train[\"DD\"]=datetime.dt.day\n",
    "train[\"DOF\"]=datetime.dt.dayofweek\n",
    "train[\"WOY\"]=datetime.dt.weekofyear\n",
    "\n",
    "train.columns"
   ]
  },
  {
   "cell_type": "code",
   "execution_count": 107,
   "id": "c693995b",
   "metadata": {},
   "outputs": [
    {
     "data": {
      "text/html": [
       "<div>\n",
       "<style scoped>\n",
       "    .dataframe tbody tr th:only-of-type {\n",
       "        vertical-align: middle;\n",
       "    }\n",
       "\n",
       "    .dataframe tbody tr th {\n",
       "        vertical-align: top;\n",
       "    }\n",
       "\n",
       "    .dataframe thead th {\n",
       "        text-align: right;\n",
       "    }\n",
       "</style>\n",
       "<table border=\"1\" class=\"dataframe\">\n",
       "  <thead>\n",
       "    <tr style=\"text-align: right;\">\n",
       "      <th></th>\n",
       "      <th>일자</th>\n",
       "      <th>요일</th>\n",
       "      <th>본사정원수</th>\n",
       "      <th>본사휴가자수</th>\n",
       "      <th>본사출장자수</th>\n",
       "      <th>본사시간외근무명령서승인건수</th>\n",
       "      <th>현본사소속재택근무자수</th>\n",
       "      <th>조식메뉴</th>\n",
       "      <th>중식메뉴</th>\n",
       "      <th>석식메뉴</th>\n",
       "      <th>...</th>\n",
       "      <th>석식계</th>\n",
       "      <th>YY</th>\n",
       "      <th>MM</th>\n",
       "      <th>dd</th>\n",
       "      <th>DOF</th>\n",
       "      <th>WOY</th>\n",
       "      <th>DD</th>\n",
       "      <th>식사대상수</th>\n",
       "      <th>rate1</th>\n",
       "      <th>rate2</th>\n",
       "    </tr>\n",
       "  </thead>\n",
       "  <tbody>\n",
       "    <tr>\n",
       "      <th>0</th>\n",
       "      <td>2016-02-01</td>\n",
       "      <td>월</td>\n",
       "      <td>2601</td>\n",
       "      <td>50</td>\n",
       "      <td>150</td>\n",
       "      <td>238</td>\n",
       "      <td>0.0</td>\n",
       "      <td>모닝롤/찐빵  우유/두유/주스 계란후라이  호두죽/쌀밥 (쌀:국내산) 된장찌개  쥐...</td>\n",
       "      <td>쌀밥/잡곡밥 (쌀,현미흑미:국내산) 오징어찌개  쇠불고기 (쇠고기:호주산) 계란찜 ...</td>\n",
       "      <td>쌀밥/잡곡밥 (쌀,현미흑미:국내산) 육개장  자반고등어구이  두부조림  건파래무침 ...</td>\n",
       "      <td>...</td>\n",
       "      <td>331.0</td>\n",
       "      <td>2016</td>\n",
       "      <td>2</td>\n",
       "      <td>1</td>\n",
       "      <td>0</td>\n",
       "      <td>5</td>\n",
       "      <td>1</td>\n",
       "      <td>2401.0</td>\n",
       "      <td>0.076894</td>\n",
       "      <td>0.091503</td>\n",
       "    </tr>\n",
       "  </tbody>\n",
       "</table>\n",
       "<p>1 rows × 21 columns</p>\n",
       "</div>"
      ],
      "text/plain": [
       "           일자 요일  본사정원수  본사휴가자수  본사출장자수  본사시간외근무명령서승인건수  현본사소속재택근무자수  \\\n",
       "0  2016-02-01  월   2601      50     150             238          0.0   \n",
       "\n",
       "                                                조식메뉴  \\\n",
       "0  모닝롤/찐빵  우유/두유/주스 계란후라이  호두죽/쌀밥 (쌀:국내산) 된장찌개  쥐...   \n",
       "\n",
       "                                                중식메뉴  \\\n",
       "0  쌀밥/잡곡밥 (쌀,현미흑미:국내산) 오징어찌개  쇠불고기 (쇠고기:호주산) 계란찜 ...   \n",
       "\n",
       "                                                석식메뉴  ...    석식계    YY  MM  \\\n",
       "0  쌀밥/잡곡밥 (쌀,현미흑미:국내산) 육개장  자반고등어구이  두부조림  건파래무침 ...  ...  331.0  2016   2   \n",
       "\n",
       "   dd  DOF  WOY  DD   식사대상수     rate1     rate2  \n",
       "0   1    0    5   1  2401.0  0.076894  0.091503  \n",
       "\n",
       "[1 rows x 21 columns]"
      ]
     },
     "execution_count": 107,
     "metadata": {},
     "output_type": "execute_result"
    }
   ],
   "source": [
    "train.head(1)"
   ]
  },
  {
   "cell_type": "code",
   "execution_count": 108,
   "id": "911c9658",
   "metadata": {},
   "outputs": [],
   "source": [
    "datetime=pd.to_datetime(test[\"일자\"])"
   ]
  },
  {
   "cell_type": "code",
   "execution_count": 111,
   "id": "85bd3e3f",
   "metadata": {},
   "outputs": [
    {
     "name": "stderr",
     "output_type": "stream",
     "text": [
      "<ipython-input-111-9069e5b75f7a>:6: FutureWarning: Series.dt.weekofyear and Series.dt.week have been deprecated.  Please use Series.dt.isocalendar().week instead.\n",
      "  test[\"WOY\"]=datetime.dt.weekofyear\n"
     ]
    }
   ],
   "source": [
    "test[\"YY\"]=datetime.dt.year\n",
    "test[\"MM\"]=datetime.dt.month\n",
    "test[\"dd\"]=datetime.dt.day\n",
    "test[\"DD\"]=datetime.dt.day\n",
    "test[\"DOF\"]=datetime.dt.dayofweek\n",
    "test[\"WOY\"]=datetime.dt.weekofyear"
   ]
  },
  {
   "cell_type": "code",
   "execution_count": 112,
   "id": "3fb7288d",
   "metadata": {},
   "outputs": [
    {
     "data": {
      "text/html": [
       "<div>\n",
       "<style scoped>\n",
       "    .dataframe tbody tr th:only-of-type {\n",
       "        vertical-align: middle;\n",
       "    }\n",
       "\n",
       "    .dataframe tbody tr th {\n",
       "        vertical-align: top;\n",
       "    }\n",
       "\n",
       "    .dataframe thead th {\n",
       "        text-align: right;\n",
       "    }\n",
       "</style>\n",
       "<table border=\"1\" class=\"dataframe\">\n",
       "  <thead>\n",
       "    <tr style=\"text-align: right;\">\n",
       "      <th></th>\n",
       "      <th>일자</th>\n",
       "      <th>요일</th>\n",
       "      <th>본사정원수</th>\n",
       "      <th>본사휴가자수</th>\n",
       "      <th>본사출장자수</th>\n",
       "      <th>본사시간외근무명령서승인건수</th>\n",
       "      <th>현본사소속재택근무자수</th>\n",
       "      <th>조식메뉴</th>\n",
       "      <th>중식메뉴</th>\n",
       "      <th>석식메뉴</th>\n",
       "      <th>YY</th>\n",
       "      <th>MM</th>\n",
       "      <th>dd</th>\n",
       "      <th>DOF</th>\n",
       "      <th>WOY</th>\n",
       "      <th>DD</th>\n",
       "    </tr>\n",
       "  </thead>\n",
       "  <tbody>\n",
       "    <tr>\n",
       "      <th>0</th>\n",
       "      <td>2021-01-27</td>\n",
       "      <td>수</td>\n",
       "      <td>2983</td>\n",
       "      <td>88</td>\n",
       "      <td>182</td>\n",
       "      <td>5</td>\n",
       "      <td>358.0</td>\n",
       "      <td>모닝롤/연유버터베이글 우유/주스 계란후라이/찐계란 단호박죽/흑미밥 우거지국 고기완자...</td>\n",
       "      <td>쌀밥/흑미밥/찰현미밥 대구지리 매운돈갈비찜 오꼬노미계란말이 상추무침 포기김치 양상추...</td>\n",
       "      <td>흑미밥 얼큰순두부찌개 쇠고기우엉볶음 버섯햄볶음 (New)아삭이고추무절임 포기김치</td>\n",
       "      <td>2021</td>\n",
       "      <td>1</td>\n",
       "      <td>27</td>\n",
       "      <td>2</td>\n",
       "      <td>4</td>\n",
       "      <td>27</td>\n",
       "    </tr>\n",
       "  </tbody>\n",
       "</table>\n",
       "</div>"
      ],
      "text/plain": [
       "           일자 요일  본사정원수  본사휴가자수  본사출장자수  본사시간외근무명령서승인건수  현본사소속재택근무자수  \\\n",
       "0  2021-01-27  수   2983      88     182               5        358.0   \n",
       "\n",
       "                                                조식메뉴  \\\n",
       "0  모닝롤/연유버터베이글 우유/주스 계란후라이/찐계란 단호박죽/흑미밥 우거지국 고기완자...   \n",
       "\n",
       "                                                중식메뉴  \\\n",
       "0  쌀밥/흑미밥/찰현미밥 대구지리 매운돈갈비찜 오꼬노미계란말이 상추무침 포기김치 양상추...   \n",
       "\n",
       "                                            석식메뉴    YY  MM  dd  DOF  WOY  DD  \n",
       "0  흑미밥 얼큰순두부찌개 쇠고기우엉볶음 버섯햄볶음 (New)아삭이고추무절임 포기김치   2021   1  27    2    4  27  "
      ]
     },
     "execution_count": 112,
     "metadata": {},
     "output_type": "execute_result"
    }
   ],
   "source": [
    "test.head(1)"
   ]
  },
  {
   "cell_type": "markdown",
   "id": "2ad40f80",
   "metadata": {},
   "source": [
    "틀을 만들고 수정하면서 원사이클로 처리하기 - basic coding  \n",
    "=> 파이프라이닝 구성  "
   ]
  },
  {
   "cell_type": "markdown",
   "id": "bdf92783",
   "metadata": {},
   "source": [
    "### 3. Analysis :"
   ]
  },
  {
   "cell_type": "markdown",
   "id": "26ba4825",
   "metadata": {},
   "source": [
    "#### 3-1) Visualization"
   ]
  },
  {
   "cell_type": "code",
   "execution_count": 90,
   "id": "bb02272e",
   "metadata": {},
   "outputs": [
    {
     "data": {
      "text/plain": [
       "<AxesSubplot:xlabel='WOY', ylabel='석식계'>"
      ]
     },
     "execution_count": 90,
     "metadata": {},
     "output_type": "execute_result"
    },
    {
     "data": {
      "image/png": "[encoded data removed]",
      "text/plain": [
       "<Figure size 1152x720 with 15 Axes>"
      ]
     },
     "metadata": {
      "needs_background": "light"
     },
     "output_type": "display_data"
    }
   ],
   "source": [
    "# timeline의 분포를 보기\n",
    "# sns.countplot으로 \n",
    "# 중식, 석식에 관련된 내용\n",
    "\n",
    "figure, ax = plt.subplots(3,5)\n",
    "figure.set_size_inches(16,10)\n",
    "\n",
    "sns.countplot(data=train, x='YY', ax=ax[0,0])\n",
    "sns.countplot(data=train, x='MM', ax=ax[0,1])\n",
    "sns.countplot(data=train, x='dd', ax=ax[0,2])\n",
    "sns.countplot(data=train, x='DOF', ax=ax[0,3])\n",
    "sns.countplot(data=train, x='WOY', ax=ax[0,4])\n",
    "\n",
    "sns.boxplot(data=train, x='YY', y=\"중식계\", ax=ax[1,0])\n",
    "sns.boxplot(data=train, x='MM', y=\"중식계\", ax=ax[1,1])\n",
    "sns.boxplot(data=train, x='dd', y=\"중식계\", ax=ax[1,2])\n",
    "sns.boxplot(data=train, x='DOF', y=\"중식계\", ax=ax[1,3])\n",
    "sns.boxplot(data=train, x='WOY', y=\"중식계\", ax=ax[1,4])\n",
    "\n",
    "sns.boxplot(data=train, x='YY', y=\"석식계\", ax=ax[2,0])\n",
    "sns.boxplot(data=train, x='MM', y=\"석식계\", ax=ax[2,1])\n",
    "sns.boxplot(data=train, x='dd', y=\"석식계\", ax=ax[2,2])\n",
    "sns.boxplot(data=train, x='DOF', y=\"석식계\", ax=ax[2,3])\n",
    "sns.boxplot(data=train, x='WOY', y=\"석식계\", ax=ax[2,4])\n",
    "\n",
    "# 연속과 범주형 -> boxplot"
   ]
  },
  {
   "cell_type": "markdown",
   "id": "7444512f",
   "metadata": {},
   "source": [
    "    중식계: 요일이 특이하게 나타남. 월요일엔 많이, 금요일엔 적게 이용함.   \n",
    "    석식계: 연도가 갈수록 감소한다. 수요일과 금요일이 적다. -> 마찬가지로 요일의 영향이 있을 것"
   ]
  },
  {
   "cell_type": "code",
   "execution_count": null,
   "id": "f960a9b3",
   "metadata": {},
   "outputs": [],
   "source": [
    "'본사정원수', '본사휴가자수', '본사출장자수', '본사시간외근무명령서승인건수', '현본사소속재택근무자수'\n",
    "                                                # 석식과 관련 있을 것"
   ]
  },
  {
   "cell_type": "code",
   "execution_count": 91,
   "id": "3fe3aea3",
   "metadata": {},
   "outputs": [],
   "source": [
    "p_col=\"본사정원수,본사휴가자수,본사출장자수,본사시간외근무명령서승인건수,현본사소속재택근무자수\".split(\",\")"
   ]
  },
  {
   "cell_type": "code",
   "execution_count": 92,
   "id": "18a66713",
   "metadata": {},
   "outputs": [
    {
     "data": {
      "text/html": [
       "<div>\n",
       "<style scoped>\n",
       "    .dataframe tbody tr th:only-of-type {\n",
       "        vertical-align: middle;\n",
       "    }\n",
       "\n",
       "    .dataframe tbody tr th {\n",
       "        vertical-align: top;\n",
       "    }\n",
       "\n",
       "    .dataframe thead th {\n",
       "        text-align: right;\n",
       "    }\n",
       "</style>\n",
       "<table border=\"1\" class=\"dataframe\">\n",
       "  <thead>\n",
       "    <tr style=\"text-align: right;\">\n",
       "      <th></th>\n",
       "      <th>본사정원수</th>\n",
       "      <th>본사휴가자수</th>\n",
       "      <th>본사출장자수</th>\n",
       "      <th>본사시간외근무명령서승인건수</th>\n",
       "      <th>현본사소속재택근무자수</th>\n",
       "    </tr>\n",
       "  </thead>\n",
       "  <tbody>\n",
       "    <tr>\n",
       "      <th>0</th>\n",
       "      <td>2601</td>\n",
       "      <td>50</td>\n",
       "      <td>150</td>\n",
       "      <td>238</td>\n",
       "      <td>0.0</td>\n",
       "    </tr>\n",
       "    <tr>\n",
       "      <th>1</th>\n",
       "      <td>2601</td>\n",
       "      <td>50</td>\n",
       "      <td>173</td>\n",
       "      <td>319</td>\n",
       "      <td>0.0</td>\n",
       "    </tr>\n",
       "    <tr>\n",
       "      <th>2</th>\n",
       "      <td>2601</td>\n",
       "      <td>56</td>\n",
       "      <td>180</td>\n",
       "      <td>111</td>\n",
       "      <td>0.0</td>\n",
       "    </tr>\n",
       "    <tr>\n",
       "      <th>3</th>\n",
       "      <td>2601</td>\n",
       "      <td>104</td>\n",
       "      <td>220</td>\n",
       "      <td>355</td>\n",
       "      <td>0.0</td>\n",
       "    </tr>\n",
       "    <tr>\n",
       "      <th>4</th>\n",
       "      <td>2601</td>\n",
       "      <td>278</td>\n",
       "      <td>181</td>\n",
       "      <td>34</td>\n",
       "      <td>0.0</td>\n",
       "    </tr>\n",
       "    <tr>\n",
       "      <th>...</th>\n",
       "      <td>...</td>\n",
       "      <td>...</td>\n",
       "      <td>...</td>\n",
       "      <td>...</td>\n",
       "      <td>...</td>\n",
       "    </tr>\n",
       "    <tr>\n",
       "      <th>1200</th>\n",
       "      <td>2983</td>\n",
       "      <td>75</td>\n",
       "      <td>198</td>\n",
       "      <td>4</td>\n",
       "      <td>391.0</td>\n",
       "    </tr>\n",
       "    <tr>\n",
       "      <th>1201</th>\n",
       "      <td>2983</td>\n",
       "      <td>92</td>\n",
       "      <td>231</td>\n",
       "      <td>462</td>\n",
       "      <td>351.0</td>\n",
       "    </tr>\n",
       "    <tr>\n",
       "      <th>1202</th>\n",
       "      <td>2983</td>\n",
       "      <td>255</td>\n",
       "      <td>248</td>\n",
       "      <td>1</td>\n",
       "      <td>303.0</td>\n",
       "    </tr>\n",
       "    <tr>\n",
       "      <th>1203</th>\n",
       "      <td>2983</td>\n",
       "      <td>107</td>\n",
       "      <td>153</td>\n",
       "      <td>616</td>\n",
       "      <td>327.0</td>\n",
       "    </tr>\n",
       "    <tr>\n",
       "      <th>1204</th>\n",
       "      <td>2983</td>\n",
       "      <td>69</td>\n",
       "      <td>183</td>\n",
       "      <td>551</td>\n",
       "      <td>362.0</td>\n",
       "    </tr>\n",
       "  </tbody>\n",
       "</table>\n",
       "<p>1205 rows × 5 columns</p>\n",
       "</div>"
      ],
      "text/plain": [
       "      본사정원수  본사휴가자수  본사출장자수  본사시간외근무명령서승인건수  현본사소속재택근무자수\n",
       "0      2601      50     150             238          0.0\n",
       "1      2601      50     173             319          0.0\n",
       "2      2601      56     180             111          0.0\n",
       "3      2601     104     220             355          0.0\n",
       "4      2601     278     181              34          0.0\n",
       "...     ...     ...     ...             ...          ...\n",
       "1200   2983      75     198               4        391.0\n",
       "1201   2983      92     231             462        351.0\n",
       "1202   2983     255     248               1        303.0\n",
       "1203   2983     107     153             616        327.0\n",
       "1204   2983      69     183             551        362.0\n",
       "\n",
       "[1205 rows x 5 columns]"
      ]
     },
     "execution_count": 92,
     "metadata": {},
     "output_type": "execute_result"
    }
   ],
   "source": [
    "train[p_col]"
   ]
  },
  {
   "cell_type": "code",
   "execution_count": 113,
   "id": "44994c3b",
   "metadata": {},
   "outputs": [],
   "source": [
    "train[\"식사대상수\"]=train[\"본사정원수\"]-train[\"본사휴가자수\"]-train[\"본사출장자수\"]-train[\"현본사소속재택근무자수\"]\n",
    "test[\"식사대상수\"]=test[\"본사정원수\"]-test[\"본사휴가자수\"]-test[\"본사출장자수\"]-test[\"현본사소속재택근무자수\"]"
   ]
  },
  {
   "cell_type": "code",
   "execution_count": 114,
   "id": "ac202994",
   "metadata": {},
   "outputs": [
    {
     "data": {
      "text/plain": [
       "0       2401.0\n",
       "1       2378.0\n",
       "2       2365.0\n",
       "3       2277.0\n",
       "4       2142.0\n",
       "         ...  \n",
       "1200    2319.0\n",
       "1201    2309.0\n",
       "1202    2177.0\n",
       "1203    2396.0\n",
       "1204    2369.0\n",
       "Name: 식사대상수, Length: 1205, dtype: float64"
      ]
     },
     "execution_count": 114,
     "metadata": {},
     "output_type": "execute_result"
    }
   ],
   "source": [
    "train[\"식사대상수\"]"
   ]
  },
  {
   "cell_type": "code",
   "execution_count": 115,
   "id": "bd42cee1",
   "metadata": {},
   "outputs": [],
   "source": [
    "# 정원 수 대비 식사대상수, 정원 수 대비 본사시간외근무명ㅇ령서승인건수\n",
    "\n",
    "train[\"rate1\"]=(train[\"본사정원수\"]-train[\"식사대상수\"])/train[\"본사정원수\"]\n",
    "\n",
    "train[\"rate2\"]=train[\"본사시간외근무명령서승인건수\"]/train[\"본사정원수\"]"
   ]
  },
  {
   "cell_type": "code",
   "execution_count": 116,
   "id": "46bc50f4",
   "metadata": {},
   "outputs": [
    {
     "data": {
      "text/html": [
       "<div>\n",
       "<style scoped>\n",
       "    .dataframe tbody tr th:only-of-type {\n",
       "        vertical-align: middle;\n",
       "    }\n",
       "\n",
       "    .dataframe tbody tr th {\n",
       "        vertical-align: top;\n",
       "    }\n",
       "\n",
       "    .dataframe thead th {\n",
       "        text-align: right;\n",
       "    }\n",
       "</style>\n",
       "<table border=\"1\" class=\"dataframe\">\n",
       "  <thead>\n",
       "    <tr style=\"text-align: right;\">\n",
       "      <th></th>\n",
       "      <th>일자</th>\n",
       "      <th>요일</th>\n",
       "      <th>본사정원수</th>\n",
       "      <th>본사휴가자수</th>\n",
       "      <th>본사출장자수</th>\n",
       "      <th>본사시간외근무명령서승인건수</th>\n",
       "      <th>현본사소속재택근무자수</th>\n",
       "      <th>조식메뉴</th>\n",
       "      <th>중식메뉴</th>\n",
       "      <th>석식메뉴</th>\n",
       "      <th>...</th>\n",
       "      <th>석식계</th>\n",
       "      <th>YY</th>\n",
       "      <th>MM</th>\n",
       "      <th>dd</th>\n",
       "      <th>DOF</th>\n",
       "      <th>WOY</th>\n",
       "      <th>DD</th>\n",
       "      <th>식사대상수</th>\n",
       "      <th>rate1</th>\n",
       "      <th>rate2</th>\n",
       "    </tr>\n",
       "  </thead>\n",
       "  <tbody>\n",
       "    <tr>\n",
       "      <th>0</th>\n",
       "      <td>2016-02-01</td>\n",
       "      <td>월</td>\n",
       "      <td>2601</td>\n",
       "      <td>50</td>\n",
       "      <td>150</td>\n",
       "      <td>238</td>\n",
       "      <td>0.0</td>\n",
       "      <td>모닝롤/찐빵  우유/두유/주스 계란후라이  호두죽/쌀밥 (쌀:국내산) 된장찌개  쥐...</td>\n",
       "      <td>쌀밥/잡곡밥 (쌀,현미흑미:국내산) 오징어찌개  쇠불고기 (쇠고기:호주산) 계란찜 ...</td>\n",
       "      <td>쌀밥/잡곡밥 (쌀,현미흑미:국내산) 육개장  자반고등어구이  두부조림  건파래무침 ...</td>\n",
       "      <td>...</td>\n",
       "      <td>331.0</td>\n",
       "      <td>2016</td>\n",
       "      <td>2</td>\n",
       "      <td>1</td>\n",
       "      <td>0</td>\n",
       "      <td>5</td>\n",
       "      <td>27.0</td>\n",
       "      <td>2401.0</td>\n",
       "      <td>0.076894</td>\n",
       "      <td>0.091503</td>\n",
       "    </tr>\n",
       "    <tr>\n",
       "      <th>1</th>\n",
       "      <td>2016-02-02</td>\n",
       "      <td>화</td>\n",
       "      <td>2601</td>\n",
       "      <td>50</td>\n",
       "      <td>173</td>\n",
       "      <td>319</td>\n",
       "      <td>0.0</td>\n",
       "      <td>모닝롤/단호박샌드  우유/두유/주스 계란후라이  팥죽/쌀밥 (쌀:국내산) 호박젓국찌...</td>\n",
       "      <td>쌀밥/잡곡밥 (쌀,현미흑미:국내산) 김치찌개  가자미튀김  모둠소세지구이  마늘쫑무...</td>\n",
       "      <td>콩나물밥*양념장 (쌀,현미흑미:국내산) 어묵국  유산슬 (쇠고기:호주산) 아삭고추무...</td>\n",
       "      <td>...</td>\n",
       "      <td>560.0</td>\n",
       "      <td>2016</td>\n",
       "      <td>2</td>\n",
       "      <td>2</td>\n",
       "      <td>1</td>\n",
       "      <td>5</td>\n",
       "      <td>28.0</td>\n",
       "      <td>2378.0</td>\n",
       "      <td>0.085736</td>\n",
       "      <td>0.122645</td>\n",
       "    </tr>\n",
       "  </tbody>\n",
       "</table>\n",
       "<p>2 rows × 21 columns</p>\n",
       "</div>"
      ],
      "text/plain": [
       "           일자 요일  본사정원수  본사휴가자수  본사출장자수  본사시간외근무명령서승인건수  현본사소속재택근무자수  \\\n",
       "0  2016-02-01  월   2601      50     150             238          0.0   \n",
       "1  2016-02-02  화   2601      50     173             319          0.0   \n",
       "\n",
       "                                                조식메뉴  \\\n",
       "0  모닝롤/찐빵  우유/두유/주스 계란후라이  호두죽/쌀밥 (쌀:국내산) 된장찌개  쥐...   \n",
       "1  모닝롤/단호박샌드  우유/두유/주스 계란후라이  팥죽/쌀밥 (쌀:국내산) 호박젓국찌...   \n",
       "\n",
       "                                                중식메뉴  \\\n",
       "0  쌀밥/잡곡밥 (쌀,현미흑미:국내산) 오징어찌개  쇠불고기 (쇠고기:호주산) 계란찜 ...   \n",
       "1  쌀밥/잡곡밥 (쌀,현미흑미:국내산) 김치찌개  가자미튀김  모둠소세지구이  마늘쫑무...   \n",
       "\n",
       "                                                석식메뉴  ...    석식계    YY  MM  \\\n",
       "0  쌀밥/잡곡밥 (쌀,현미흑미:국내산) 육개장  자반고등어구이  두부조림  건파래무침 ...  ...  331.0  2016   2   \n",
       "1  콩나물밥*양념장 (쌀,현미흑미:국내산) 어묵국  유산슬 (쇠고기:호주산) 아삭고추무...  ...  560.0  2016   2   \n",
       "\n",
       "   dd  DOF  WOY    DD   식사대상수     rate1     rate2  \n",
       "0   1    0    5  27.0  2401.0  0.076894  0.091503  \n",
       "1   2    1    5  28.0  2378.0  0.085736  0.122645  \n",
       "\n",
       "[2 rows x 21 columns]"
      ]
     },
     "execution_count": 116,
     "metadata": {},
     "output_type": "execute_result"
    }
   ],
   "source": [
    "train.head(2)"
   ]
  },
  {
   "cell_type": "code",
   "execution_count": 117,
   "id": "fa39d444",
   "metadata": {},
   "outputs": [],
   "source": [
    "test[\"rate1\"]=(test[\"본사정원수\"]-test[\"식사대상수\"])/test[\"본사정원수\"]\n",
    "\n",
    "test[\"rate2\"]=test[\"본사시간외근무명령서승인건수\"]/test[\"본사정원수\"]"
   ]
  },
  {
   "cell_type": "markdown",
   "id": "9c50b1e7",
   "metadata": {},
   "source": [
    "#### 3-2)"
   ]
  },
  {
   "cell_type": "markdown",
   "id": "24b22dba",
   "metadata": {},
   "source": [
    "### 4. Modeling :"
   ]
  },
  {
   "cell_type": "markdown",
   "id": "9fc52c08",
   "metadata": {},
   "source": [
    "#### 4-1) Feature selection"
   ]
  },
  {
   "cell_type": "code",
   "execution_count": 118,
   "id": "77a02949",
   "metadata": {},
   "outputs": [
    {
     "data": {
      "text/html": [
       "<div>\n",
       "<style scoped>\n",
       "    .dataframe tbody tr th:only-of-type {\n",
       "        vertical-align: middle;\n",
       "    }\n",
       "\n",
       "    .dataframe tbody tr th {\n",
       "        vertical-align: top;\n",
       "    }\n",
       "\n",
       "    .dataframe thead th {\n",
       "        text-align: right;\n",
       "    }\n",
       "</style>\n",
       "<table border=\"1\" class=\"dataframe\">\n",
       "  <thead>\n",
       "    <tr style=\"text-align: right;\">\n",
       "      <th></th>\n",
       "      <th>일자</th>\n",
       "      <th>요일</th>\n",
       "      <th>본사정원수</th>\n",
       "      <th>본사휴가자수</th>\n",
       "      <th>본사출장자수</th>\n",
       "      <th>본사시간외근무명령서승인건수</th>\n",
       "      <th>현본사소속재택근무자수</th>\n",
       "      <th>조식메뉴</th>\n",
       "      <th>중식메뉴</th>\n",
       "      <th>석식메뉴</th>\n",
       "      <th>...</th>\n",
       "      <th>석식계</th>\n",
       "      <th>YY</th>\n",
       "      <th>MM</th>\n",
       "      <th>dd</th>\n",
       "      <th>DOF</th>\n",
       "      <th>WOY</th>\n",
       "      <th>DD</th>\n",
       "      <th>식사대상수</th>\n",
       "      <th>rate1</th>\n",
       "      <th>rate2</th>\n",
       "    </tr>\n",
       "  </thead>\n",
       "  <tbody>\n",
       "    <tr>\n",
       "      <th>0</th>\n",
       "      <td>2016-02-01</td>\n",
       "      <td>월</td>\n",
       "      <td>2601</td>\n",
       "      <td>50</td>\n",
       "      <td>150</td>\n",
       "      <td>238</td>\n",
       "      <td>0.0</td>\n",
       "      <td>모닝롤/찐빵  우유/두유/주스 계란후라이  호두죽/쌀밥 (쌀:국내산) 된장찌개  쥐...</td>\n",
       "      <td>쌀밥/잡곡밥 (쌀,현미흑미:국내산) 오징어찌개  쇠불고기 (쇠고기:호주산) 계란찜 ...</td>\n",
       "      <td>쌀밥/잡곡밥 (쌀,현미흑미:국내산) 육개장  자반고등어구이  두부조림  건파래무침 ...</td>\n",
       "      <td>...</td>\n",
       "      <td>331.0</td>\n",
       "      <td>2016</td>\n",
       "      <td>2</td>\n",
       "      <td>1</td>\n",
       "      <td>0</td>\n",
       "      <td>5</td>\n",
       "      <td>27.0</td>\n",
       "      <td>2401.0</td>\n",
       "      <td>0.076894</td>\n",
       "      <td>0.091503</td>\n",
       "    </tr>\n",
       "  </tbody>\n",
       "</table>\n",
       "<p>1 rows × 21 columns</p>\n",
       "</div>"
      ],
      "text/plain": [
       "           일자 요일  본사정원수  본사휴가자수  본사출장자수  본사시간외근무명령서승인건수  현본사소속재택근무자수  \\\n",
       "0  2016-02-01  월   2601      50     150             238          0.0   \n",
       "\n",
       "                                                조식메뉴  \\\n",
       "0  모닝롤/찐빵  우유/두유/주스 계란후라이  호두죽/쌀밥 (쌀:국내산) 된장찌개  쥐...   \n",
       "\n",
       "                                                중식메뉴  \\\n",
       "0  쌀밥/잡곡밥 (쌀,현미흑미:국내산) 오징어찌개  쇠불고기 (쇠고기:호주산) 계란찜 ...   \n",
       "\n",
       "                                                석식메뉴  ...    석식계    YY  MM  \\\n",
       "0  쌀밥/잡곡밥 (쌀,현미흑미:국내산) 육개장  자반고등어구이  두부조림  건파래무침 ...  ...  331.0  2016   2   \n",
       "\n",
       "   dd  DOF  WOY    DD   식사대상수     rate1     rate2  \n",
       "0   1    0    5  27.0  2401.0  0.076894  0.091503  \n",
       "\n",
       "[1 rows x 21 columns]"
      ]
     },
     "execution_count": 118,
     "metadata": {},
     "output_type": "execute_result"
    }
   ],
   "source": [
    "# 공부시킬 것을 넣기\n",
    "train.head(1)\n",
    "\n",
    "# 중식계, 석식계는 맞춰야 할 label"
   ]
  },
  {
   "cell_type": "code",
   "execution_count": 119,
   "id": "3b6a45ac",
   "metadata": {},
   "outputs": [
    {
     "data": {
      "text/plain": [
       "Index(['일자', '요일', '본사정원수', '본사휴가자수', '본사출장자수', '본사시간외근무명령서승인건수',\n",
       "       '현본사소속재택근무자수', '조식메뉴', '중식메뉴', '석식메뉴', '중식계', '석식계', 'YY', 'MM', 'dd',\n",
       "       'DOF', 'WOY', 'DD', '식사대상수', 'rate1', 'rate2'],\n",
       "      dtype='object')"
      ]
     },
     "execution_count": 119,
     "metadata": {},
     "output_type": "execute_result"
    }
   ],
   "source": [
    "train.columns"
   ]
  },
  {
   "cell_type": "code",
   "execution_count": 120,
   "id": "f255d619",
   "metadata": {},
   "outputs": [],
   "source": [
    "f_names=['본사정원수', '본사휴가자수', '본사출장자수', '본사시간외근무명령서승인건수',\n",
    "       '현본사소속재택근무자수','YY', 'MM', 'dd',\n",
    "       'DOF', 'WOY', '식사대상수', 'rate1','rate2']\n",
    "\n",
    "# feature name - 숫자로 이루어진 것"
   ]
  },
  {
   "cell_type": "code",
   "execution_count": 121,
   "id": "db839259",
   "metadata": {},
   "outputs": [],
   "source": [
    "f_label_l='중식계'\n",
    "f_label_d='석식계'"
   ]
  },
  {
   "cell_type": "code",
   "execution_count": 122,
   "id": "815775c3",
   "metadata": {},
   "outputs": [],
   "source": [
    "X_train=train[f_names] \n",
    "y_train_l=train[f_label_l] #중식용 label\n",
    "y_train_d=train[f_label_d] #석식용 label"
   ]
  },
  {
   "cell_type": "code",
   "execution_count": 123,
   "id": "c8351718",
   "metadata": {},
   "outputs": [
    {
     "data": {
      "text/plain": [
       "0    331.0\n",
       "Name: 석식계, dtype: float64"
      ]
     },
     "execution_count": 123,
     "metadata": {},
     "output_type": "execute_result"
    }
   ],
   "source": [
    "X_train.head(1)\n",
    "y_train_l.head(1)\n",
    "y_train_d.head(1)"
   ]
  },
  {
   "cell_type": "code",
   "execution_count": 124,
   "id": "d9431a45",
   "metadata": {},
   "outputs": [],
   "source": [
    "X_test=test[f_names]\n"
   ]
  },
  {
   "cell_type": "markdown",
   "id": "ea41a551",
   "metadata": {},
   "source": [
    "#### 4-2) Models : RandomForest & etc"
   ]
  },
  {
   "cell_type": "code",
   "execution_count": 125,
   "id": "f4c8510d",
   "metadata": {},
   "outputs": [],
   "source": [
    "from sklearn.ensemble import RandomForestRegressor\n",
    "\n",
    "# 수치형 -> 회귀 "
   ]
  },
  {
   "cell_type": "code",
   "execution_count": 126,
   "id": "4b395597",
   "metadata": {},
   "outputs": [],
   "source": [
    "rf_reg_l=RandomForestRegressor(random_state=125)\n",
    "\n",
    "rf_reg_d=RandomForestRegressor(random_state=125)\n",
    "# 해당 수만큼의 random의 규칙성을 갖는다.\n",
    "# 영향을 주는 요소를 줄이기 위해서 random_state를 준다."
   ]
  },
  {
   "cell_type": "code",
   "execution_count": 127,
   "id": "fdee6727",
   "metadata": {},
   "outputs": [
    {
     "data": {
      "text/plain": [
       "RandomForestRegressor(random_state=125)"
      ]
     },
     "execution_count": 127,
     "metadata": {},
     "output_type": "execute_result"
    }
   ],
   "source": [
    "rf_reg_l.fit(X_train, y_train_l)\n",
    "\n",
    "# 문제와 정답을 fitting"
   ]
  },
  {
   "cell_type": "code",
   "execution_count": 128,
   "id": "95aeea89",
   "metadata": {},
   "outputs": [
    {
     "data": {
      "text/plain": [
       "RandomForestRegressor(random_state=125)"
      ]
     },
     "execution_count": 128,
     "metadata": {},
     "output_type": "execute_result"
    }
   ],
   "source": [
    "rf_reg_d.fit(X_train, y_train_d)\n"
   ]
  },
  {
   "cell_type": "code",
   "execution_count": 129,
   "id": "efe243e0",
   "metadata": {},
   "outputs": [
    {
     "data": {
      "text/plain": [
       "array([1011.37,  958.28,  569.27, 1183.63, 1055.31, 1053.76,  989.39,\n",
       "        612.8 , 1260.01, 1036.67,  698.9 , 1244.57, 1070.17, 1045.7 ,\n",
       "        866.88,  611.34, 1227.46,  993.59,  826.79,  845.69,  554.47,\n",
       "       1046.54, 1045.39,  918.18,  645.15, 1256.7 , 1107.48, 1004.11,\n",
       "        930.16,  641.29, 1241.4 ,  994.06, 1026.26,  882.73,  615.09,\n",
       "       1193.76,  982.68,  886.6 ,  796.29,  558.21, 1200.62,  974.84,\n",
       "        936.65,  843.16,  594.5 , 1189.3 , 1046.13, 1010.05,  884.52,\n",
       "        589.34])"
      ]
     },
     "execution_count": 129,
     "metadata": {},
     "output_type": "execute_result"
    }
   ],
   "source": [
    "pred_l=rf_reg_l.predict(X_test)\n",
    "pred_l"
   ]
  },
  {
   "cell_type": "code",
   "execution_count": 130,
   "id": "c98ff00d",
   "metadata": {},
   "outputs": [
    {
     "data": {
      "text/plain": [
       "array([328.18, 407.86, 319.18, 482.47, 410.92, 424.91, 431.74, 351.99,\n",
       "       643.85, 466.08, 220.38, 706.  , 670.83, 393.79, 504.93, 358.66,\n",
       "       677.65, 626.15, 314.46, 519.69, 322.83, 649.08, 454.58, 563.64,\n",
       "       372.08, 688.54, 678.1 , 425.23, 510.91, 275.26, 699.59, 585.61,\n",
       "       414.24, 465.73, 264.63, 640.59, 603.56, 288.84, 413.53, 307.86,\n",
       "       616.67, 530.17, 321.36, 404.88, 272.01, 635.8 , 568.68, 394.66,\n",
       "       455.53, 267.74])"
      ]
     },
     "execution_count": 130,
     "metadata": {},
     "output_type": "execute_result"
    }
   ],
   "source": [
    "pred_d=rf_reg_d.predict(X_test)\n",
    "pred_d"
   ]
  },
  {
   "cell_type": "markdown",
   "id": "04a8c53e",
   "metadata": {},
   "source": [
    "### 5. Validation & Tuning :"
   ]
  },
  {
   "cell_type": "markdown",
   "id": "43363ba5",
   "metadata": {},
   "source": [
    "#### 5-0) feature importance"
   ]
  },
  {
   "cell_type": "code",
   "execution_count": 131,
   "id": "13b4bf02",
   "metadata": {},
   "outputs": [
    {
     "data": {
      "text/plain": [
       "Index(['본사정원수', '본사휴가자수', '본사출장자수', '본사시간외근무명령서승인건수', '현본사소속재택근무자수', 'YY',\n",
       "       'MM', 'dd', 'DOF', 'WOY', '식사대상수', 'rate1', 'rate2'],\n",
       "      dtype='object')"
      ]
     },
     "execution_count": 131,
     "metadata": {},
     "output_type": "execute_result"
    }
   ],
   "source": [
    "X_train.columns"
   ]
  },
  {
   "cell_type": "code",
   "execution_count": 132,
   "id": "eb9ea7b7",
   "metadata": {},
   "outputs": [
    {
     "data": {
      "text/plain": [
       "array([0.02030449, 0.09970413, 0.06504753, 0.0301706 , 0.01615808,\n",
       "       0.00938868, 0.0094473 , 0.02039614, 0.55564512, 0.03143079,\n",
       "       0.02623802, 0.06948343, 0.04658569])"
      ]
     },
     "execution_count": 132,
     "metadata": {},
     "output_type": "execute_result"
    }
   ],
   "source": [
    "rf_reg_l.feature_importances_"
   ]
  },
  {
   "cell_type": "code",
   "execution_count": 133,
   "id": "b068163c",
   "metadata": {},
   "outputs": [
    {
     "data": {
      "text/plain": [
       "array([0.04162201, 0.06010905, 0.05906399, 0.19199544, 0.01829971,\n",
       "       0.06635264, 0.01904531, 0.12567677, 0.05751847, 0.04827575,\n",
       "       0.0306032 , 0.08412487, 0.19731278])"
      ]
     },
     "execution_count": 133,
     "metadata": {},
     "output_type": "execute_result"
    }
   ],
   "source": [
    "rf_reg_d.feature_importances_"
   ]
  },
  {
   "cell_type": "code",
   "execution_count": 134,
   "id": "c61c13a1",
   "metadata": {},
   "outputs": [
    {
     "data": {
      "text/html": [
       "<div>\n",
       "<style scoped>\n",
       "    .dataframe tbody tr th:only-of-type {\n",
       "        vertical-align: middle;\n",
       "    }\n",
       "\n",
       "    .dataframe tbody tr th {\n",
       "        vertical-align: top;\n",
       "    }\n",
       "\n",
       "    .dataframe thead th {\n",
       "        text-align: right;\n",
       "    }\n",
       "</style>\n",
       "<table border=\"1\" class=\"dataframe\">\n",
       "  <thead>\n",
       "    <tr style=\"text-align: right;\">\n",
       "      <th></th>\n",
       "      <th>Lunch</th>\n",
       "    </tr>\n",
       "  </thead>\n",
       "  <tbody>\n",
       "    <tr>\n",
       "      <th>DOF</th>\n",
       "      <td>0.555645</td>\n",
       "    </tr>\n",
       "    <tr>\n",
       "      <th>본사휴가자수</th>\n",
       "      <td>0.099704</td>\n",
       "    </tr>\n",
       "    <tr>\n",
       "      <th>rate1</th>\n",
       "      <td>0.069483</td>\n",
       "    </tr>\n",
       "    <tr>\n",
       "      <th>본사출장자수</th>\n",
       "      <td>0.065048</td>\n",
       "    </tr>\n",
       "    <tr>\n",
       "      <th>rate2</th>\n",
       "      <td>0.046586</td>\n",
       "    </tr>\n",
       "    <tr>\n",
       "      <th>WOY</th>\n",
       "      <td>0.031431</td>\n",
       "    </tr>\n",
       "    <tr>\n",
       "      <th>본사시간외근무명령서승인건수</th>\n",
       "      <td>0.030171</td>\n",
       "    </tr>\n",
       "    <tr>\n",
       "      <th>식사대상수</th>\n",
       "      <td>0.026238</td>\n",
       "    </tr>\n",
       "    <tr>\n",
       "      <th>dd</th>\n",
       "      <td>0.020396</td>\n",
       "    </tr>\n",
       "    <tr>\n",
       "      <th>본사정원수</th>\n",
       "      <td>0.020304</td>\n",
       "    </tr>\n",
       "    <tr>\n",
       "      <th>현본사소속재택근무자수</th>\n",
       "      <td>0.016158</td>\n",
       "    </tr>\n",
       "    <tr>\n",
       "      <th>MM</th>\n",
       "      <td>0.009447</td>\n",
       "    </tr>\n",
       "    <tr>\n",
       "      <th>YY</th>\n",
       "      <td>0.009389</td>\n",
       "    </tr>\n",
       "  </tbody>\n",
       "</table>\n",
       "</div>"
      ],
      "text/plain": [
       "                   Lunch\n",
       "DOF             0.555645\n",
       "본사휴가자수          0.099704\n",
       "rate1           0.069483\n",
       "본사출장자수          0.065048\n",
       "rate2           0.046586\n",
       "WOY             0.031431\n",
       "본사시간외근무명령서승인건수  0.030171\n",
       "식사대상수           0.026238\n",
       "dd              0.020396\n",
       "본사정원수           0.020304\n",
       "현본사소속재택근무자수     0.016158\n",
       "MM              0.009447\n",
       "YY              0.009389"
      ]
     },
     "execution_count": 134,
     "metadata": {},
     "output_type": "execute_result"
    }
   ],
   "source": [
    "pd.DataFrame(rf_reg_l.feature_importances_, index=X_train.columns, columns=[\"Lunch\"]). sort_values(by='Lunch', ascending=False)"
   ]
  },
  {
   "cell_type": "code",
   "execution_count": 135,
   "id": "9d4a925c",
   "metadata": {},
   "outputs": [
    {
     "data": {
      "text/html": [
       "<div>\n",
       "<style scoped>\n",
       "    .dataframe tbody tr th:only-of-type {\n",
       "        vertical-align: middle;\n",
       "    }\n",
       "\n",
       "    .dataframe tbody tr th {\n",
       "        vertical-align: top;\n",
       "    }\n",
       "\n",
       "    .dataframe thead th {\n",
       "        text-align: right;\n",
       "    }\n",
       "</style>\n",
       "<table border=\"1\" class=\"dataframe\">\n",
       "  <thead>\n",
       "    <tr style=\"text-align: right;\">\n",
       "      <th></th>\n",
       "      <th>Dinner</th>\n",
       "    </tr>\n",
       "  </thead>\n",
       "  <tbody>\n",
       "    <tr>\n",
       "      <th>rate2</th>\n",
       "      <td>0.197313</td>\n",
       "    </tr>\n",
       "    <tr>\n",
       "      <th>본사시간외근무명령서승인건수</th>\n",
       "      <td>0.191995</td>\n",
       "    </tr>\n",
       "    <tr>\n",
       "      <th>dd</th>\n",
       "      <td>0.125677</td>\n",
       "    </tr>\n",
       "    <tr>\n",
       "      <th>rate1</th>\n",
       "      <td>0.084125</td>\n",
       "    </tr>\n",
       "    <tr>\n",
       "      <th>YY</th>\n",
       "      <td>0.066353</td>\n",
       "    </tr>\n",
       "    <tr>\n",
       "      <th>본사휴가자수</th>\n",
       "      <td>0.060109</td>\n",
       "    </tr>\n",
       "    <tr>\n",
       "      <th>본사출장자수</th>\n",
       "      <td>0.059064</td>\n",
       "    </tr>\n",
       "    <tr>\n",
       "      <th>DOF</th>\n",
       "      <td>0.057518</td>\n",
       "    </tr>\n",
       "    <tr>\n",
       "      <th>WOY</th>\n",
       "      <td>0.048276</td>\n",
       "    </tr>\n",
       "    <tr>\n",
       "      <th>본사정원수</th>\n",
       "      <td>0.041622</td>\n",
       "    </tr>\n",
       "    <tr>\n",
       "      <th>식사대상수</th>\n",
       "      <td>0.030603</td>\n",
       "    </tr>\n",
       "    <tr>\n",
       "      <th>MM</th>\n",
       "      <td>0.019045</td>\n",
       "    </tr>\n",
       "    <tr>\n",
       "      <th>현본사소속재택근무자수</th>\n",
       "      <td>0.018300</td>\n",
       "    </tr>\n",
       "  </tbody>\n",
       "</table>\n",
       "</div>"
      ],
      "text/plain": [
       "                  Dinner\n",
       "rate2           0.197313\n",
       "본사시간외근무명령서승인건수  0.191995\n",
       "dd              0.125677\n",
       "rate1           0.084125\n",
       "YY              0.066353\n",
       "본사휴가자수          0.060109\n",
       "본사출장자수          0.059064\n",
       "DOF             0.057518\n",
       "WOY             0.048276\n",
       "본사정원수           0.041622\n",
       "식사대상수           0.030603\n",
       "MM              0.019045\n",
       "현본사소속재택근무자수     0.018300"
      ]
     },
     "execution_count": 135,
     "metadata": {},
     "output_type": "execute_result"
    }
   ],
   "source": [
    "pd.DataFrame(rf_reg_d.feature_importances_, index=X_train.columns, columns=[\"Dinner\"]). sort_values(by='Dinner', ascending=False)\n",
    "\n",
    "# 석식은 안먹는 날이 있음. -> 특이한 케이스"
   ]
  },
  {
   "cell_type": "markdown",
   "id": "b02e812c",
   "metadata": {},
   "source": [
    "#### 5-1) Validation test"
   ]
  },
  {
   "cell_type": "markdown",
   "id": "4f920325",
   "metadata": {},
   "source": [
    "#### 5-2) Tune"
   ]
  },
  {
   "cell_type": "markdown",
   "id": "b48bf5f4",
   "metadata": {},
   "source": [
    "### 6. Submission"
   ]
  },
  {
   "cell_type": "code",
   "execution_count": 136,
   "id": "a6bd53f1",
   "metadata": {},
   "outputs": [
    {
     "data": {
      "text/html": [
       "<div>\n",
       "<style scoped>\n",
       "    .dataframe tbody tr th:only-of-type {\n",
       "        vertical-align: middle;\n",
       "    }\n",
       "\n",
       "    .dataframe tbody tr th {\n",
       "        vertical-align: top;\n",
       "    }\n",
       "\n",
       "    .dataframe thead th {\n",
       "        text-align: right;\n",
       "    }\n",
       "</style>\n",
       "<table border=\"1\" class=\"dataframe\">\n",
       "  <thead>\n",
       "    <tr style=\"text-align: right;\">\n",
       "      <th></th>\n",
       "      <th>일자</th>\n",
       "      <th>중식계</th>\n",
       "      <th>석식계</th>\n",
       "    </tr>\n",
       "  </thead>\n",
       "  <tbody>\n",
       "    <tr>\n",
       "      <th>0</th>\n",
       "      <td>2021-01-27</td>\n",
       "      <td>1004.44</td>\n",
       "      <td>278.15</td>\n",
       "    </tr>\n",
       "  </tbody>\n",
       "</table>\n",
       "</div>"
      ],
      "text/plain": [
       "           일자      중식계     석식계\n",
       "0  2021-01-27  1004.44  278.15"
      ]
     },
     "execution_count": 136,
     "metadata": {},
     "output_type": "execute_result"
    }
   ],
   "source": [
    "submission.head(1)"
   ]
  },
  {
   "cell_type": "code",
   "execution_count": 137,
   "id": "beb3a32d",
   "metadata": {},
   "outputs": [],
   "source": [
    "# 순서대로 넣으면 된다.\n",
    "submission[\"중식계\"]=pred_l\n",
    "submission[\"석식계\"]=pred_d"
   ]
  },
  {
   "cell_type": "code",
   "execution_count": 138,
   "id": "b9db7dfc",
   "metadata": {},
   "outputs": [
    {
     "data": {
      "text/html": [
       "<div>\n",
       "<style scoped>\n",
       "    .dataframe tbody tr th:only-of-type {\n",
       "        vertical-align: middle;\n",
       "    }\n",
       "\n",
       "    .dataframe tbody tr th {\n",
       "        vertical-align: top;\n",
       "    }\n",
       "\n",
       "    .dataframe thead th {\n",
       "        text-align: right;\n",
       "    }\n",
       "</style>\n",
       "<table border=\"1\" class=\"dataframe\">\n",
       "  <thead>\n",
       "    <tr style=\"text-align: right;\">\n",
       "      <th></th>\n",
       "      <th>일자</th>\n",
       "      <th>중식계</th>\n",
       "      <th>석식계</th>\n",
       "    </tr>\n",
       "  </thead>\n",
       "  <tbody>\n",
       "    <tr>\n",
       "      <th>0</th>\n",
       "      <td>2021-01-27</td>\n",
       "      <td>1011.37</td>\n",
       "      <td>328.18</td>\n",
       "    </tr>\n",
       "    <tr>\n",
       "      <th>1</th>\n",
       "      <td>2021-01-28</td>\n",
       "      <td>958.28</td>\n",
       "      <td>407.86</td>\n",
       "    </tr>\n",
       "    <tr>\n",
       "      <th>2</th>\n",
       "      <td>2021-01-29</td>\n",
       "      <td>569.27</td>\n",
       "      <td>319.18</td>\n",
       "    </tr>\n",
       "    <tr>\n",
       "      <th>3</th>\n",
       "      <td>2021-02-01</td>\n",
       "      <td>1183.63</td>\n",
       "      <td>482.47</td>\n",
       "    </tr>\n",
       "    <tr>\n",
       "      <th>4</th>\n",
       "      <td>2021-02-02</td>\n",
       "      <td>1055.31</td>\n",
       "      <td>410.92</td>\n",
       "    </tr>\n",
       "  </tbody>\n",
       "</table>\n",
       "</div>"
      ],
      "text/plain": [
       "           일자      중식계     석식계\n",
       "0  2021-01-27  1011.37  328.18\n",
       "1  2021-01-28   958.28  407.86\n",
       "2  2021-01-29   569.27  319.18\n",
       "3  2021-02-01  1183.63  482.47\n",
       "4  2021-02-02  1055.31  410.92"
      ]
     },
     "execution_count": 138,
     "metadata": {},
     "output_type": "execute_result"
    }
   ],
   "source": [
    "submission.head()"
   ]
  },
  {
   "cell_type": "code",
   "execution_count": 67,
   "id": "47566708",
   "metadata": {},
   "outputs": [],
   "source": [
    "submission.to_csv(\"output1_0125.csv\", index=False)"
   ]
  },
  {
   "cell_type": "code",
   "execution_count": null,
   "id": "3c2e48dc",
   "metadata": {},
   "outputs": [],
   "source": []
  }
 ],
 "metadata": {
  "kernelspec": {
   "display_name": "Python 3",
   "language": "python",
   "name": "python3"
  },
  "language_info": {
   "codemirror_mode": {
    "name": "ipython",
    "version": 3
   },
   "file_extension": ".py",
   "mimetype": "text/x-python",
   "name": "python",
   "nbconvert_exporter": "python",
   "pygments_lexer": "ipython3",
   "version": "3.8.8"
  }
 },
 "nbformat": 4,
 "nbformat_minor": 5
}
