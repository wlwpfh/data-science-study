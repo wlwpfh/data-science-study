{
 "cells": [
  {
   "cell_type": "markdown",
   "metadata": {},
   "source": [
    "### List"
   ]
  },
  {
   "cell_type": "code",
   "execution_count": 2,
   "metadata": {},
   "outputs": [
    {
     "name": "stdout",
     "output_type": "stream",
     "text": [
      "a[0]= 10 a[1]= 20 a[2]= 30 a[3]= 40 a[4]= 50\n",
      "a[-1]= 50 a[-2]= 40 a[3]= 30 a[-4]= 20 a[5]= 10\n"
     ]
    }
   ],
   "source": [
    "\n",
    "a=[10,20,30,40,50]\n",
    "\n",
    "print('a[0]=',a[0], 'a[1]=',a[1],'a[2]=',a[2],'a[3]=',a[3],'a[4]=',a[4])\n",
    "print('a[-1]=',a[-1], 'a[-2]=',a[-2],'a[3]=',a[-3],'a[-4]=',a[-4],'a[5]=',a[-5])"
   ]
  },
  {
   "cell_type": "code",
   "execution_count": 3,
   "metadata": {},
   "outputs": [
    {
     "name": "stdout",
     "output_type": "stream",
     "text": [
      "b =  [100, 200, 300]\n"
     ]
    }
   ],
   "source": [
    "# list의 append\n",
    "\n",
    "b=[]\n",
    "b.append(100)\n",
    "b.append(200)\n",
    "b.append(300)\n",
    "\n",
    "print(\"b = \",b)"
   ]
  },
  {
   "cell_type": "code",
   "execution_count": 4,
   "metadata": {},
   "outputs": [
    {
     "name": "stdout",
     "output_type": "stream",
     "text": [
      "c[0:2] = [10, 20] c[1:] =  [20, 30, 40, 50]\n",
      "c[:3] =  [10, 20, 30] c[:-2] =  [10, 20, 30]\n",
      "c[:] =  [10, 20, 30, 40, 50]\n"
     ]
    }
   ],
   "source": [
    "# list의 slice\n",
    "\n",
    "c=[10,20,30,40,50]\n",
    "\n",
    "print('c[0:2] =', c[0:2], 'c[1:] = ',c[1:])\n",
    "print('c[:3] = ',c[:3], 'c[:-2] = ', c[:-2]) \n",
    "print('c[:] = ', c[:])"
   ]
  },
  {
   "cell_type": "markdown",
   "metadata": {},
   "source": [
    "### Tuple"
   ]
  },
  {
   "cell_type": "code",
   "execution_count": 6,
   "metadata": {},
   "outputs": [
    {
     "name": "stdout",
     "output_type": "stream",
     "text": [
      "a[0] = 10 a[-2]=  40\n",
      "a[0:2] = (10, 20) , a[1:] =  (20, 30, 40, 50) , a[:] =  (10, 20, 30, 40, 50)\n"
     ]
    }
   ],
   "source": [
    "a=(10,20,30,40,50)\n",
    "\n",
    "print('a[0] =',a[0], 'a[-2]= ',a[-2])\n",
    "print('a[0:2] =',a[0:2],', a[1:] = ',a[1:],', a[:] = ',a[:])"
   ]
  },
  {
   "cell_type": "code",
   "execution_count": 7,
   "metadata": {},
   "outputs": [
    {
     "ename": "TypeError",
     "evalue": "'tuple' object does not support item assignment",
     "output_type": "error",
     "traceback": [
      "\u001b[1;31m---------------------------------------------------------------------------\u001b[0m",
      "\u001b[1;31mTypeError\u001b[0m                                 Traceback (most recent call last)",
      "\u001b[1;32m<ipython-input-7-f96ffea17930>\u001b[0m in \u001b[0;36m<module>\u001b[1;34m\u001b[0m\n\u001b[1;32m----> 1\u001b[1;33m \u001b[0ma\u001b[0m\u001b[1;33m[\u001b[0m\u001b[1;36m0\u001b[0m\u001b[1;33m]\u001b[0m\u001b[1;33m=\u001b[0m\u001b[1;36m100\u001b[0m\u001b[1;33m\u001b[0m\u001b[1;33m\u001b[0m\u001b[0m\n\u001b[0m",
      "\u001b[1;31mTypeError\u001b[0m: 'tuple' object does not support item assignment"
     ]
    }
   ],
   "source": [
    "a[0]=100\n",
    "\n",
    "# tuple은 readonly"
   ]
  },
  {
   "cell_type": "markdown",
   "metadata": {},
   "source": [
    "### Dictionary"
   ]
  },
  {
   "cell_type": "code",
   "execution_count": 8,
   "metadata": {},
   "outputs": [
    {
     "name": "stdout",
     "output_type": "stream",
     "text": [
      "{'kim': 90, 'lee': 85, 'jun': 95}\n",
      "score['kim'] = 90\n"
     ]
    }
   ],
   "source": [
    "score={'kim':90, 'lee':85, 'jun':95}\n",
    "\n",
    "print(score)\n",
    "print(\"score['kim'] =\", score['kim'])"
   ]
  },
  {
   "cell_type": "code",
   "execution_count": 9,
   "metadata": {},
   "outputs": [
    {
     "name": "stdout",
     "output_type": "stream",
     "text": [
      "dict_keys(['kim', 'lee', 'jun'])\n",
      "dict_values([90, 85, 95])\n",
      "dict_items([('kim', 90), ('lee', 85), ('jun', 95)])\n"
     ]
    }
   ],
   "source": [
    "print(score.keys())\n",
    "print(score.values())\n",
    "print(score.items())"
   ]
  },
  {
   "cell_type": "markdown",
   "metadata": {},
   "source": [
    "### Type, Length"
   ]
  },
  {
   "cell_type": "code",
   "execution_count": 10,
   "metadata": {},
   "outputs": [
    {
     "name": "stdout",
     "output_type": "stream",
     "text": [
      "<class 'list'> <class 'tuple'> <class 'dict'> <class 'list'>\n",
      "5 3 2 3\n"
     ]
    }
   ],
   "source": [
    "a=[10,20,30,40,50]\n",
    "b=(10,20,30)\n",
    "c={'kim':90, 'lee':85}\n",
    "d=[[100,200],[300,400],[500,600]]\n",
    "\n",
    "print(type(a), type(b), type(c), type(d))\n",
    "print(len(a), len(b), len(c), len(d))"
   ]
  },
  {
   "cell_type": "code",
   "execution_count": null,
   "metadata": {},
   "outputs": [],
   "source": []
  }
 ],
 "metadata": {
  "kernelspec": {
   "display_name": "Python 3",
   "language": "python",
   "name": "python3"
  },
  "language_info": {
   "codemirror_mode": {
    "name": "ipython",
    "version": 3
   },
   "file_extension": ".py",
   "mimetype": "text/x-python",
   "name": "python",
   "nbconvert_exporter": "python",
   "pygments_lexer": "ipython3",
   "version": "3.7.4"
  }
 },
 "nbformat": 4,
 "nbformat_minor": 2
}
