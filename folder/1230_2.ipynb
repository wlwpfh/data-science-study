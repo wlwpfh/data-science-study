{
 "cells": [
  {
   "cell_type": "markdown",
   "id": "d7853c76",
   "metadata": {},
   "source": [
    "## Database"
   ]
  },
  {
   "cell_type": "markdown",
   "id": "5cf240cb",
   "metadata": {},
   "source": [
    "### SQLite 활용 "
   ]
  },
  {
   "cell_type": "markdown",
   "id": "b21cde9a",
   "metadata": {},
   "source": [
    "1) DDL  \n",
    "2) DML  \n",
    "3) DCL  "
   ]
  },
  {
   "cell_type": "markdown",
   "id": "1cdbe590",
   "metadata": {},
   "source": [
    "파이썬에서 제공하는 기본적인 db가 sqlite"
   ]
  },
  {
   "cell_type": "code",
   "execution_count": 1,
   "id": "d53da523",
   "metadata": {},
   "outputs": [],
   "source": [
    "import sqlite3"
   ]
  },
  {
   "cell_type": "code",
   "execution_count": 2,
   "id": "21ec7cc1",
   "metadata": {},
   "outputs": [
    {
     "data": {
      "text/plain": [
       "'3.35.4'"
      ]
     },
     "execution_count": 2,
     "metadata": {},
     "output_type": "execute_result"
    }
   ],
   "source": [
    "sqlite3.sqlite_version"
   ]
  },
  {
   "cell_type": "code",
   "execution_count": 3,
   "id": "c3128130",
   "metadata": {},
   "outputs": [
    {
     "name": "stdout",
     "output_type": "stream",
     "text": [
      "<sqlite3.Connection object at 0x0000015B9DCC34E0>\n"
     ]
    }
   ],
   "source": [
    "# connection 객체를 생성\n",
    "conn = sqlite3.connect('sqlite_1230.db')\n",
    "print(conn)"
   ]
  },
  {
   "cell_type": "markdown",
   "id": "1c776151",
   "metadata": {},
   "source": [
    "#### sqlite3 데이터베이스 CRUD (Create, Read, Update, Delete ) \n",
    " - sqlite3.connect() 로 데이터베이스 연결객체 Conn 생성 \n",
    " - Conn 객체의 cursor() 메소드를 이용, Cursor 객체 생성\n",
    " - Cursor 객체의 execute() 메소드를 이용하여 SQL 구문 실행\n",
    " - Conn 객체의 commit() 메소드를 이용하여 최종 내용 데이터베이스에 반영 (commit, rollback 개념 참고 )\n",
    " - Conn 데이터베이스 연결 closed (종료)\n",
    " "
   ]
  },
  {
   "cell_type": "code",
   "execution_count": 4,
   "id": "c0f5b428",
   "metadata": {},
   "outputs": [],
   "source": [
    "# cursor 객체 생성\n",
    "cursor = conn.cursor()"
   ]
  },
  {
   "cell_type": "code",
   "execution_count": 5,
   "id": "29b7819c",
   "metadata": {},
   "outputs": [
    {
     "data": {
      "text/plain": [
       "<sqlite3.Cursor at 0x15b9dc6fa40>"
      ]
     },
     "execution_count": 5,
     "metadata": {},
     "output_type": "execute_result"
    }
   ],
   "source": [
    "# cursor 객체를 이용, SQL 구문 실행: 테이블 생성\n",
    "cursor.execute('CREATE TABLE contact(name text, age int, email text)')\n",
    "\n",
    "# string이 아니라 text이다. \n",
    "\n",
    "# NULL, INTEGER, REAL, TEXT, BLOB 이렇게 5가지 데이터 타입으로 분류 된다.\n"
   ]
  },
  {
   "cell_type": "markdown",
   "id": "ca900bd4",
   "metadata": {},
   "source": [
    "Cursor 객체의 execute() 메서드를 사용하여 SQL 문장을 DB 서버에 보낸다.  \n",
    "SQL 쿼리의 경우 Cursor 객체의 fetchall(), fetchone(), fetchmany() 등의 메서드를 사용하여 데이타를 서버로부터 가져온 후, Fetch 된 데이타를 사용한다.  "
   ]
  },
  {
   "cell_type": "code",
   "execution_count": 6,
   "id": "ba2ba34c",
   "metadata": {},
   "outputs": [
    {
     "data": {
      "text/plain": [
       "<sqlite3.Cursor at 0x15b9dc6fd50>"
      ]
     },
     "execution_count": 6,
     "metadata": {},
     "output_type": "execute_result"
    }
   ],
   "source": [
    "# 생성된 테이블에 데이터 입력 \n",
    "conn.execute(\"INSERT INTO contact VALUES('kim', 20, 'kim@megait.edu')\")\n",
    "conn.execute(\"INSERT INTO contact VALUES('lee', 40, 'lee@macademy.org')\")\n",
    "conn.execute(\"INSERT INTO contact VALUES('park', 60, 'park@daum.net')\")\n",
    "\n",
    "# python에서 사용할 때 conn.execute를 사용한다. "
   ]
  },
  {
   "cell_type": "code",
   "execution_count": 7,
   "id": "d2439ccf",
   "metadata": {},
   "outputs": [
    {
     "data": {
      "text/plain": [
       "[('kim', 20, 'kim@megait.edu'),\n",
       " ('lee', 40, 'lee@macademy.org'),\n",
       " ('park', 60, 'park@daum.net')]"
      ]
     },
     "execution_count": 7,
     "metadata": {},
     "output_type": "execute_result"
    }
   ],
   "source": [
    "# SQL 구문으로 데이터 조회 사례1\n",
    "cursor.execute(\"SELECT * FROM contact\")\n",
    "#cursor.fetchone()\n",
    "cursor.fetchall()"
   ]
  },
  {
   "cell_type": "code",
   "execution_count": 8,
   "id": "81759b72",
   "metadata": {},
   "outputs": [],
   "source": [
    "conn.commit()"
   ]
  },
  {
   "cell_type": "code",
   "execution_count": null,
   "id": "d409bc17",
   "metadata": {},
   "outputs": [],
   "source": []
  }
 ],
 "metadata": {
  "kernelspec": {
   "display_name": "Python 3",
   "language": "python",
   "name": "python3"
  },
  "language_info": {
   "codemirror_mode": {
    "name": "ipython",
    "version": 3
   },
   "file_extension": ".py",
   "mimetype": "text/x-python",
   "name": "python",
   "nbconvert_exporter": "python",
   "pygments_lexer": "ipython3",
   "version": "3.8.8"
  }
 },
 "nbformat": 4,
 "nbformat_minor": 5
}
