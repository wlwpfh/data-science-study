{
 "cells": [
  {
   "cell_type": "markdown",
   "metadata": {},
   "source": [
    "# Numpy"
   ]
  },
  {
   "cell_type": "code",
   "execution_count": 1,
   "metadata": {},
   "outputs": [],
   "source": [
    "import numpy as np"
   ]
  },
  {
   "cell_type": "code",
   "execution_count": 2,
   "metadata": {},
   "outputs": [
    {
     "data": {
      "text/plain": [
       "[[1, 0], [0, 1], [0, 1], [1, 0]]"
      ]
     },
     "execution_count": 2,
     "metadata": {},
     "output_type": "execute_result"
    }
   ],
   "source": [
    "A=[[1,0],[0,1]]\n",
    "B=[[0,1],[1,0]]\n",
    "\n",
    "A+B \n",
    "\n",
    "# list는 더하는 것이 append의 개념이다"
   ]
  },
  {
   "cell_type": "code",
   "execution_count": 4,
   "metadata": {},
   "outputs": [
    {
     "data": {
      "text/plain": [
       "array([[1, 1],\n",
       "       [1, 1]])"
      ]
     },
     "execution_count": 4,
     "metadata": {},
     "output_type": "execute_result"
    }
   ],
   "source": [
    "A=np.array([[1,0],[0,1]])\n",
    "B=np.array([[0,1],[1,0]])\n",
    "\n",
    "A+B \n",
    "#np.array로 해야 값이 더해진다."
   ]
  },
  {
   "cell_type": "markdown",
   "metadata": {},
   "source": [
    "### vector"
   ]
  },
  {
   "cell_type": "code",
   "execution_count": 5,
   "metadata": {},
   "outputs": [
    {
     "name": "stdout",
     "output_type": "stream",
     "text": [
      "A== [1 2 3] , B== [4 5 6]\n",
      "vector A shape= (3,) , vector B shape= (3,)\n",
      "vector A dimension= 1 , vector B dimension= 1\n"
     ]
    }
   ],
   "source": [
    "A=np.array([1,2,3])\n",
    "B=np.array([4,5,6])\n",
    "\n",
    "print(\"A==\",A,\", B==\",B)\n",
    "print(\"vector A shape=\",A.shape,\", vector B shape=\",B.shape)\n",
    "print(\"vector A dimension=\",A.ndim,\", vector B dimension=\",B.ndim) #numpy dimension"
   ]
  },
  {
   "cell_type": "markdown",
   "metadata": {},
   "source": [
    "### matrix"
   ]
  },
  {
   "cell_type": "code",
   "execution_count": 6,
   "metadata": {},
   "outputs": [
    {
     "name": "stdout",
     "output_type": "stream",
     "text": [
      "matrix A = [[1 2 3]\n",
      " [4 5 6]]\n",
      "matrix B = [[-1 -2 -3]\n",
      " [-4 -5 -6]]\n",
      "matrix A shape== (2, 3) , matrix B shape== (2, 3)\n",
      "matrix A dimension== 2 , matrix B dimension== 2\n"
     ]
    }
   ],
   "source": [
    "A=np.array([[1,2,3],[4,5,6]])\n",
    "B=np.array([[-1,-2,-3],[-4,-5,-6]])\n",
    "\n",
    "print(\"matrix A =\",A)\n",
    "print(\"matrix B =\",B)\n",
    "print(\"matrix A shape==\",A.shape,\", matrix B shape==\",B.shape)\n",
    "print(\"matrix A dimension==\",A.ndim,\", matrix B dimension==\",B.ndim)"
   ]
  },
  {
   "cell_type": "markdown",
   "metadata": {},
   "source": [
    "### 산술 연산"
   ]
  },
  {
   "cell_type": "code",
   "execution_count": 8,
   "metadata": {},
   "outputs": [
    {
     "name": "stdout",
     "output_type": "stream",
     "text": [
      "A== [1 2 3] , B== [4 5 6]\n",
      "A+B== [5 7 9]\n",
      "A-B== [-3 -3 -3]\n",
      "A*B== [ 4 10 18]\n",
      "A/B== [0.25 0.4  0.5 ]\n"
     ]
    }
   ],
   "source": [
    "A=np.array([1,2,3])\n",
    "B=np.array([4,5,6])\n",
    "\n",
    "print(\"A==\",A,\", B==\",B)\n",
    "print(\"A+B==\",A+B)\n",
    "print(\"A-B==\",A-B)\n",
    "print(\"A*B==\",A*B)\n",
    "print(\"A/B==\",A/B)\n",
    "\n",
    "# 무조건 원소의 개수가 같아야 한다."
   ]
  },
  {
   "cell_type": "markdown",
   "metadata": {},
   "source": [
    "### 형 변환"
   ]
  },
  {
   "cell_type": "code",
   "execution_count": 11,
   "metadata": {},
   "outputs": [
    {
     "name": "stdout",
     "output_type": "stream",
     "text": [
      "C.shape== (3,)\n",
      "[1 2 3]\n",
      "C.shape== (1, 3)\n",
      "[[1 2 3]]\n"
     ]
    }
   ],
   "source": [
    "C=np.array([1,2,3])\n",
    "print(\"C.shape==\",C.shape)\n",
    "print(C);\n",
    "C=C.reshape(1,3)\n",
    "print(\"C.shape==\",C.shape)\n",
    "\n",
    "print(C)"
   ]
  },
  {
   "cell_type": "code",
   "execution_count": 12,
   "metadata": {},
   "outputs": [
    {
     "name": "stdout",
     "output_type": "stream",
     "text": [
      "D.shape== (2, 3)\n",
      "[[1 2 3]\n",
      " [4 5 6]]\n",
      "D.shape== (3, 2)\n",
      "[[1 2]\n",
      " [3 4]\n",
      " [5 6]]\n"
     ]
    }
   ],
   "source": [
    "D=np.array([[1,2,3],[4,5,6]])\n",
    "\n",
    "print(\"D.shape==\",D.shape)\n",
    "print(D)\n",
    "\n",
    "D=D.reshape(3,2)\n",
    "print(\"D.shape==\",D.shape)\n",
    "print(D)"
   ]
  },
  {
   "cell_type": "code",
   "execution_count": 13,
   "metadata": {},
   "outputs": [
    {
     "name": "stdout",
     "output_type": "stream",
     "text": [
      "(3, 4)\n"
     ]
    }
   ],
   "source": [
    "A=np.array([\n",
    "    [1,2,3,4],\n",
    "    [10,20,30,40],\n",
    "    [100,200,300,400]\n",
    "])\n",
    "\n",
    "print(A.shape)"
   ]
  },
  {
   "cell_type": "code",
   "execution_count": 14,
   "metadata": {},
   "outputs": [
    {
     "name": "stdout",
     "output_type": "stream",
     "text": [
      "[[  1   2   3]\n",
      " [  4  10  20]\n",
      " [ 30  40 100]\n",
      " [200 300 400]]\n",
      "(4, 3)\n"
     ]
    }
   ],
   "source": [
    "B=A.reshape(-1,3)\n",
    "\n",
    "print(B)\n",
    "print(B.shape)"
   ]
  },
  {
   "cell_type": "code",
   "execution_count": 15,
   "metadata": {},
   "outputs": [
    {
     "name": "stdout",
     "output_type": "stream",
     "text": [
      "[[  1   2   3   4  10  20]\n",
      " [ 30  40 100 200 300 400]]\n",
      "(2, 6)\n"
     ]
    }
   ],
   "source": [
    "C=A.reshape(-1,6)\n",
    "print(C)\n",
    "print(C.shape)"
   ]
  },
  {
   "cell_type": "markdown",
   "metadata": {},
   "source": [
    "### broadcast"
   ]
  },
  {
   "cell_type": "code",
   "execution_count": 16,
   "metadata": {},
   "outputs": [
    {
     "name": "stdout",
     "output_type": "stream",
     "text": [
      "[[6 7]\n",
      " [8 9]]\n"
     ]
    }
   ],
   "source": [
    "A=np.array([[1,2],[3,4]])\n",
    "B=5\n",
    "\n",
    "print(A+B)"
   ]
  },
  {
   "cell_type": "code",
   "execution_count": 17,
   "metadata": {},
   "outputs": [
    {
     "name": "stdout",
     "output_type": "stream",
     "text": [
      "[[5 7]\n",
      " [7 9]]\n"
     ]
    }
   ],
   "source": [
    "C=np.array([[1,2],[3,4]])\n",
    "D=np.array([4,5])\n",
    "\n",
    "print(C+D)"
   ]
  },
  {
   "cell_type": "markdown",
   "metadata": {},
   "source": [
    "### Transpose 전치 행렬"
   ]
  },
  {
   "cell_type": "code",
   "execution_count": 18,
   "metadata": {},
   "outputs": [
    {
     "name": "stdout",
     "output_type": "stream",
     "text": [
      "A.shape= (3, 2) , B.shape= (2, 3)\n",
      "A= [[1 2]\n",
      " [3 4]\n",
      " [5 6]]\n",
      "B= [[1 3 5]\n",
      " [2 4 6]]\n"
     ]
    }
   ],
   "source": [
    "A=np.array([[1,2],[3,4],[5,6]])\n",
    "\n",
    "B=A.T\n",
    "\n",
    "print(\"A.shape=\",A.shape,\", B.shape=\",B.shape)\n",
    "\n",
    "print(\"A=\",A)\n",
    "print(\"B=\",B)"
   ]
  },
  {
   "cell_type": "code",
   "execution_count": 19,
   "metadata": {},
   "outputs": [
    {
     "name": "stdout",
     "output_type": "stream",
     "text": [
      "C= [1 2 3 4 5]\n",
      "D= [1 2 3 4 5]\n",
      "C.shape= (5,) , D.shape= (5,)\n"
     ]
    }
   ],
   "source": [
    "C=np.array([1,2,3,4,5])\n",
    "\n",
    "D=C.T\n",
    "\n",
    "print(\"C=\",C)\n",
    "print(\"D=\",D)\n",
    "\n",
    "print(\"C.shape=\",C.shape,\", D.shape=\",D.shape)\n",
    "\n",
    "#1차원은 열과 행을 구별하지 않기에 전치행렬을 해도 바뀌지 않는다."
   ]
  },
  {
   "cell_type": "code",
   "execution_count": 21,
   "metadata": {},
   "outputs": [
    {
     "name": "stdout",
     "output_type": "stream",
     "text": [
      "E= [[1 2 3 4 5]]\n",
      "F= [[1]\n",
      " [2]\n",
      " [3]\n",
      " [4]\n",
      " [5]]\n",
      "E.shape= (1, 5) , F.shape= (5, 1)\n"
     ]
    }
   ],
   "source": [
    "E=C.reshape(1,5)\n",
    "\n",
    "F=E.T\n",
    "\n",
    "print(\"E=\",E)\n",
    "print(\"F=\",F)\n",
    "\n",
    "print(\"E.shape=\",E.shape,\", F.shape=\",F.shape)"
   ]
  },
  {
   "cell_type": "markdown",
   "metadata": {},
   "source": [
    "### 행렬 곱"
   ]
  },
  {
   "cell_type": "code",
   "execution_count": 22,
   "metadata": {},
   "outputs": [
    {
     "name": "stdout",
     "output_type": "stream",
     "text": [
      "A.shape= (2, 3) , B.shape= (3, 2)\n",
      "C.shape= (2, 2)\n",
      "[[-22 -28]\n",
      " [-49 -64]]\n"
     ]
    }
   ],
   "source": [
    "\n",
    "A=np.array([[1,2,3],[4,5,6]])\n",
    "B=np.array([[-1,-2],[-3,-4],[-5,-6]])\n",
    "\n",
    "C=np.dot(A,B)\n",
    "\n",
    "print(\"A.shape=\",A.shape,\", B.shape=\",B.shape)\n",
    "print(\"C.shape=\",C.shape)\n",
    "\n",
    "print(C)\n"
   ]
  },
  {
   "cell_type": "markdown",
   "metadata": {},
   "source": [
    "### 행렬 원소 접근 - indexing, slicing"
   ]
  },
  {
   "cell_type": "code",
   "execution_count": 25,
   "metadata": {},
   "outputs": [
    {
     "name": "stdout",
     "output_type": "stream",
     "text": [
      "A.shape= (3, 2)\n",
      "[[10 20]\n",
      " [30 40]\n",
      " [50 60]]\n",
      "A[0,0]== 10\n",
      "A[2,1]== 60\n",
      "A[:,0]== [10 30 50]\n",
      "A[0:-1, 1:2]== [[20]\n",
      " [40]]\n",
      "A[:,:]=== [[10 20]\n",
      " [30 40]\n",
      " [50 60]]\n"
     ]
    }
   ],
   "source": [
    "A=np.array([[10,20],[30,40],[50,60]])\n",
    "\n",
    "print(\"A.shape=\",A.shape)\n",
    "print(A)\n",
    "\n",
    "print(\"A[0,0]==\",A[0,0])\n",
    "print(\"A[2,1]==\",A[2,1])\n",
    "print(\"A[:,0]==\",A[:,0])\n",
    "print(\"A[0:-1, 1:2]==\",A[0:-1,1:2])\n",
    "# 0에서 1번까지\n",
    "print(\"A[:,:]===\",A[:,:])"
   ]
  },
  {
   "cell_type": "markdown",
   "metadata": {},
   "source": [
    "### Iterator"
   ]
  },
  {
   "cell_type": "code",
   "execution_count": 26,
   "metadata": {},
   "outputs": [
    {
     "name": "stdout",
     "output_type": "stream",
     "text": [
      "index ->  (0, 0) , value ->  10\n",
      "index ->  (0, 1) , value ->  20\n",
      "index ->  (0, 2) , value ->  30\n",
      "index ->  (0, 3) , value ->  40\n",
      "index ->  (1, 0) , value ->  50\n",
      "index ->  (1, 1) , value ->  60\n",
      "index ->  (1, 2) , value ->  70\n",
      "index ->  (1, 3) , value ->  80\n"
     ]
    }
   ],
   "source": [
    "A=np.array([[10,20,30,40],[50,60,70,80]])\n",
    "it=np.nditer(A, flags=['multi_index'], op_flags=['readwrite'])\n",
    "\n",
    "while not it.finished:\n",
    "    idx=it.multi_index\n",
    "    print(\"index -> \",idx,\", value -> \",A[idx])\n",
    "    it.iternext()"
   ]
  },
  {
   "cell_type": "markdown",
   "metadata": {},
   "source": [
    "### 유용한 함수"
   ]
  },
  {
   "cell_type": "code",
   "execution_count": 27,
   "metadata": {},
   "outputs": [
    {
     "name": "stdout",
     "output_type": "stream",
     "text": [
      "random_number 1== [0.36231146 0.06777056 0.41384234]\n",
      "random number 2== [[0.26674439 0.09852064 0.06957202]]\n",
      "random number 3== [[0.8340346 ]\n",
      " [0.9310289 ]\n",
      " [0.44087903]]\n"
     ]
    }
   ],
   "source": [
    "number1=np.random.rand(3)\n",
    "number2=np.random.rand(1,3)\n",
    "number3=np.random.rand(3,1)\n",
    "\n",
    "print(\"random_number 1==\",number1)\n",
    "print(\"random number 2==\",number2)\n",
    "print(\"random number 3==\",number3)\n",
    "\n",
    "# rand함수는 0과 1 사이의 임의의 실수값을 얻고 싶을 때 사용\n",
    "# 인자를 추가하여 벡터나 행렬로 생성할 수 있다."
   ]
  },
  {
   "cell_type": "code",
   "execution_count": 28,
   "metadata": {},
   "outputs": [
    {
     "name": "stdout",
     "output_type": "stream",
     "text": [
      "np.max(A)== 6\n",
      "np.argmax(A)== 1\n"
     ]
    }
   ],
   "source": [
    "A=np.array([2,6,3,1])\n",
    "\n",
    "print(\"np.max(A)==\",np.max(A))\n",
    "print(\"np.argmax(A)==\",np.argmax(A))\n",
    "#최댓값을 갖고 있는 벡터나 행렬의 인덱스 값을 알려주는 함수"
   ]
  },
  {
   "cell_type": "code",
   "execution_count": null,
   "metadata": {},
   "outputs": [],
   "source": []
  }
 ],
 "metadata": {
  "kernelspec": {
   "display_name": "Python 3",
   "language": "python",
   "name": "python3"
  },
  "language_info": {
   "codemirror_mode": {
    "name": "ipython",
    "version": 3
   },
   "file_extension": ".py",
   "mimetype": "text/x-python",
   "name": "python",
   "nbconvert_exporter": "python",
   "pygments_lexer": "ipython3",
   "version": "3.7.4"
  }
 },
 "nbformat": 4,
 "nbformat_minor": 2
}
