{
 "cells": [
  {
   "cell_type": "markdown",
   "metadata": {},
   "source": [
    "## 입력 변수가 1개인 경우 "
   ]
  },
  {
   "cell_type": "code",
   "execution_count": 1,
   "metadata": {},
   "outputs": [],
   "source": [
    "import numpy as np"
   ]
  },
  {
   "cell_type": "code",
   "execution_count": 19,
   "metadata": {},
   "outputs": [],
   "source": [
    "x_data=np.array([1,2,3,4,5]).reshape(5,1)\n",
    "t_data=np.array([2,3,4,5,6]).reshape(5,1)"
   ]
  },
  {
   "cell_type": "code",
   "execution_count": 20,
   "metadata": {},
   "outputs": [],
   "source": [
    "W=np.random.rand(1,1) # (1,1) 생성 \n",
    "b=np.random.rand(1)"
   ]
  },
  {
   "cell_type": "code",
   "execution_count": 21,
   "metadata": {},
   "outputs": [],
   "source": [
    "def loss_func(x, t):\n",
    "    y=np.dot(x,W)+b\n",
    "    return (np.sum(t-y)**2)/len(x)"
   ]
  },
  {
   "cell_type": "code",
   "execution_count": 22,
   "metadata": {},
   "outputs": [],
   "source": [
    "def predict(x):\n",
    "    y=np/dot(x,W)+b\n",
    "    return y"
   ]
  },
  {
   "cell_type": "code",
   "execution_count": 23,
   "metadata": {},
   "outputs": [],
   "source": [
    "def derivative(f, var):\n",
    "    if var.ndim==1: # 1차원 벡터인 경우\n",
    "        tmp_var=var\n",
    "        \n",
    "        delta=1e-5\n",
    "        diff_val=np.zeros(var.shape)\n",
    "        \n",
    "        for index in range(len(var)):\n",
    "            target_var=float(tmp_var[index])\n",
    "          \n",
    "            tmp_var[index]=target_var+delta\n",
    "            fx1=f(tmp_var)\n",
    "            \n",
    "            tmp_var[index]=target_var-delta\n",
    "            fx2=f(tmp_var)\n",
    "            \n",
    "            diff_val[index]=(fx1-fx2)/(2*delta)\n",
    "            \n",
    "            tmp_var[index]=target_var\n",
    "        \n",
    "        return diff_val\n",
    "    \n",
    "    elif var.ndim==2: #2차원 매트릭스인 경우 \n",
    "        \n",
    "        grad=np.zeros_like(var)\n",
    "        \n",
    "        delta=1e-5\n",
    "        \n",
    "        it=np.nditer(var, flags=['multi_index'], op_flags=['readwrite'])\n",
    "        \n",
    "        while not it.finished:\n",
    "            index=it.multi_index\n",
    "            \n",
    "            tmp_val=var[index]\n",
    "            \n",
    "            var[index]=float(tmp_val)+delta\n",
    "            fx1=f(var)\n",
    "            \n",
    "            var[index]=float(tmp_val)-delta\n",
    "            fx2=f(var)\n",
    "            \n",
    "            grad[index]=(fx1-fx2)/(2*delta)\n",
    "            \n",
    "            var[index]=tmp_val\n",
    "            it.iternext()\n",
    "        \n",
    "        return grad"
   ]
  },
  {
   "cell_type": "code",
   "execution_count": 24,
   "metadata": {},
   "outputs": [
    {
     "name": "stdout",
     "output_type": "stream",
     "text": [
      "Initial loss value = 64.51034552623398 initial W =  [[0.08526426]] b =  [0.15226218]\n",
      "step =  0 loss_value = 55.22078538175892 W =  [[1.16284777]] b =  [0.18818163]\n",
      "step =  600 loss_value = 45.0 W =  [[1.26942197]] b =  [0.1917341]\n",
      "step =  1200 loss_value = 45.0 W =  [[1.26942197]] b =  [0.1917341]\n",
      "step =  1800 loss_value = 45.0 W =  [[1.26942197]] b =  [0.1917341]\n",
      "step =  2400 loss_value = 45.0 W =  [[1.26942197]] b =  [0.1917341]\n",
      "step =  3000 loss_value = 45.0 W =  [[1.26942197]] b =  [0.1917341]\n",
      "step =  3600 loss_value = 45.0 W =  [[1.26942197]] b =  [0.1917341]\n",
      "step =  4200 loss_value = 45.0 W =  [[1.26942197]] b =  [0.1917341]\n",
      "step =  4800 loss_value = 45.0 W =  [[1.26942197]] b =  [0.1917341]\n",
      "step =  5400 loss_value = 45.0 W =  [[1.26942197]] b =  [0.1917341]\n",
      "step =  6000 loss_value = 45.0 W =  [[1.26942197]] b =  [0.1917341]\n"
     ]
    }
   ],
   "source": [
    "learning_rate=1e-2\n",
    "\n",
    "f= lambda x: loss_func(x_data, t_data)\n",
    "\n",
    "print(\"Initial loss value =\", loss_func(x_data, t_data), \"initial W = \",W,\"b = \",b)\n",
    "\n",
    "for step in range(6001):\n",
    "    W-=learning_rate*derivative(f,W)\n",
    "    b-=learning_rate*derivative(f, b)\n",
    "    \n",
    "    if(step%600 == 0):\n",
    "        print(\"step = \",step, \"loss_value =\", loss_func(x_data, y_data), \"W = \",W, \"b = \",b)"
   ]
  },
  {
   "cell_type": "code",
   "execution_count": null,
   "metadata": {},
   "outputs": [],
   "source": []
  }
 ],
 "metadata": {
  "kernelspec": {
   "display_name": "Python 3",
   "language": "python",
   "name": "python3"
  },
  "language_info": {
   "codemirror_mode": {
    "name": "ipython",
    "version": 3
   },
   "file_extension": ".py",
   "mimetype": "text/x-python",
   "name": "python",
   "nbconvert_exporter": "python",
   "pygments_lexer": "ipython3",
   "version": "3.7.4"
  }
 },
 "nbformat": 4,
 "nbformat_minor": 2
}
