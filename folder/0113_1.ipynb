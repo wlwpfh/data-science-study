{
 "cells": [
  {
   "cell_type": "markdown",
   "metadata": {},
   "source": [
    "## 지도학습\n",
    "1. 분류 - label의 형태가 범주형 -> YES/NO의 결과가 판단의 기준 -> accuracy\n",
    "2. 회귀 - label의 형태가 수치형, 연속형 정보 -> 정확하게 맞추기 힘들다. -> 예측한 True값과 prediction값 차이(=lost function)로 판단한다 (cost function)\n",
    "\n",
    "내부적으로 학습 -> 그림 그려짐"
   ]
  },
  {
   "cell_type": "code",
   "execution_count": 1,
   "metadata": {},
   "outputs": [],
   "source": [
    "from sklearn.datasets import load_iris\n",
    "from sklearn.tree import DecisionTreeClassifier\n",
    "from sklearn.model_selection import train_test_split"
   ]
  },
  {
   "cell_type": "markdown",
   "metadata": {},
   "source": [
    "label에 접근하는 방법을 algorithm이 판별.  \n",
    "한번 철회해서 제일 많이 분류할 수 있는 중요한 인자에 대한 질문을 던짐.  \n",
    "petal length를 기준으로 하게 됨. 완벽하게 분류될 수 있는 질문을 던지게 됨,  \n",
    "마지막에 남은 애들은 분류하기 어려운 애들만 남음     \n",
    "\n",
    "+) 반대로 어려운 애들 먼저 분류하는 방법이 있음.   \n",
    "\n",
    "불순도를 따짐 (gini)   \n",
    "->종료하는 타이밍은 불순도가 0이 되는 것을 따라감  \n",
    "\n",
    "\n",
    "feature ---> label  \n",
    " \n",
    " label에 따라서 분류인지 회귀인지 나뉜다.  \n",
    " \n",
    "feature와 label을 설정한 다음  \n",
    "\n",
    "함수를 통해 추론  \n",
    "\n",
    "기울기와 절편 변형을 통해 맞추는 과정  \n",
    "\n",
    "\n",
    " "
   ]
  },
  {
   "cell_type": "markdown",
   "metadata": {},
   "source": [
    "f1-score : 일반적인 accuracy와 차이가 난다. "
   ]
  },
  {
   "cell_type": "markdown",
   "metadata": {},
   "source": [
    "learning_rate() : 정확도에 도달하는 속도가 빨라진다."
   ]
  },
  {
   "cell_type": "markdown",
   "metadata": {},
   "source": [
    "##  titanic - 분류 \n",
    "## bike sharing - 연속형"
   ]
  },
  {
   "cell_type": "code",
   "execution_count": null,
   "metadata": {},
   "outputs": [],
   "source": []
  }
 ],
 "metadata": {
  "kernelspec": {
   "display_name": "Python 3",
   "language": "python",
   "name": "python3"
  },
  "language_info": {
   "codemirror_mode": {
    "name": "ipython",
    "version": 3
   },
   "file_extension": ".py",
   "mimetype": "text/x-python",
   "name": "python",
   "nbconvert_exporter": "python",
   "pygments_lexer": "ipython3",
   "version": "3.7.4"
  }
 },
 "nbformat": 4,
 "nbformat_minor": 2
}
