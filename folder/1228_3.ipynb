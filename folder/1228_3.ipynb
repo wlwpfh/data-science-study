{
 "cells": [
  {
   "cell_type": "markdown",
   "id": "dc9baf77",
   "metadata": {},
   "source": [
    "## Web crawling test under the tag of framset"
   ]
  },
  {
   "cell_type": "code",
   "execution_count": 8,
   "id": "92699874",
   "metadata": {},
   "outputs": [],
   "source": [
    "# 기본 Package loading:\n",
    "\n",
    "import pandas as pd\n",
    "\n",
    "from bs4 import BeautifulSoup\n",
    "from selenium import webdriver"
   ]
  },
  {
   "cell_type": "code",
   "execution_count": 9,
   "id": "b1b1e5bb",
   "metadata": {},
   "outputs": [],
   "source": [
    "url = 'https://www.rm1.co.kr/'"
   ]
  },
  {
   "cell_type": "code",
   "execution_count": 10,
   "id": "8e7b6403",
   "metadata": {},
   "outputs": [
    {
     "name": "stderr",
     "output_type": "stream",
     "text": [
      "<ipython-input-10-f54c79595346>:1: DeprecationWarning: executable_path has been deprecated, please pass in a Service object\n",
      "  driver = webdriver.Chrome('chromedriver.exe')\n"
     ]
    }
   ],
   "source": [
    "driver = webdriver.Chrome('chromedriver.exe')"
   ]
  },
  {
   "cell_type": "code",
   "execution_count": 11,
   "id": "5e9ed58e",
   "metadata": {},
   "outputs": [],
   "source": [
    "url_frame = url + '/p00/A0001M002.nice'"
   ]
  },
  {
   "cell_type": "code",
   "execution_count": 12,
   "id": "2e8d578c",
   "metadata": {},
   "outputs": [],
   "source": [
    "driver.get(url_frame)\n",
    "html = driver.page_source"
   ]
  },
  {
   "cell_type": "code",
   "execution_count": 15,
   "id": "b8cc7e92",
   "metadata": {},
   "outputs": [],
   "source": [
    "soup=BeautifulSoup(html, 'html.parser')"
   ]
  },
  {
   "cell_type": "markdown",
   "id": "f39db8aa",
   "metadata": {},
   "source": [
    "### 불필요한 문자열 제거 "
   ]
  },
  {
   "cell_type": "code",
   "execution_count": 17,
   "id": "4da6f40e",
   "metadata": {},
   "outputs": [],
   "source": [
    "# text handling -> regular expression "
   ]
  },
  {
   "cell_type": "code",
   "execution_count": 16,
   "id": "e3f895a5",
   "metadata": {},
   "outputs": [
    {
     "data": {
      "text/plain": [
       "'2021년9월분반기상장/코스닥/코넥스...2021.12.27시스템점검에따른서비스일시중단안내2021.11.12'"
      ]
     },
     "execution_count": 16,
     "metadata": {},
     "output_type": "execute_result"
    }
   ],
   "source": [
    "import re\n",
    "\n",
    "re.sub(r\"[\\n\\t\\s]*\", \"\", soup.find('div', attrs = {'class': 'board'}).find('ul').getText())"
   ]
  },
  {
   "cell_type": "markdown",
   "id": "137d53b5",
   "metadata": {},
   "source": [
    "### 팝업 크롤링 "
   ]
  },
  {
   "cell_type": "code",
   "execution_count": 21,
   "id": "74bcf943",
   "metadata": {},
   "outputs": [
    {
     "ename": "AttributeError",
     "evalue": "'WebDriver' object has no attribute 'switch_to_window'",
     "output_type": "error",
     "traceback": [
      "\u001b[1;31m---------------------------------------------------------------------------\u001b[0m",
      "\u001b[1;31mAttributeError\u001b[0m                            Traceback (most recent call last)",
      "\u001b[1;32m<ipython-input-21-6c6d5ce6602d>\u001b[0m in \u001b[0;36m<module>\u001b[1;34m\u001b[0m\n\u001b[1;32m----> 1\u001b[1;33m \u001b[0mdriver\u001b[0m\u001b[1;33m.\u001b[0m\u001b[0mswitch_to_window\u001b[0m\u001b[1;33m(\u001b[0m\u001b[0mdriver\u001b[0m\u001b[1;33m.\u001b[0m\u001b[0mwindow_handles\u001b[0m\u001b[1;33m[\u001b[0m\u001b[1;36m1\u001b[0m\u001b[1;33m]\u001b[0m\u001b[1;33m)\u001b[0m\u001b[1;33m\u001b[0m\u001b[1;33m\u001b[0m\u001b[0m\n\u001b[0m",
      "\u001b[1;31mAttributeError\u001b[0m: 'WebDriver' object has no attribute 'switch_to_window'"
     ]
    }
   ],
   "source": [
    "\n",
    "driver.switch_to_window(driver.window_handles[1])"
   ]
  },
  {
   "cell_type": "code",
   "execution_count": null,
   "id": "bade5ef4",
   "metadata": {},
   "outputs": [],
   "source": [
    "driver.page_source"
   ]
  }
 ],
 "metadata": {
  "kernelspec": {
   "display_name": "Python 3",
   "language": "python",
   "name": "python3"
  },
  "language_info": {
   "codemirror_mode": {
    "name": "ipython",
    "version": 3
   },
   "file_extension": ".py",
   "mimetype": "text/x-python",
   "name": "python",
   "nbconvert_exporter": "python",
   "pygments_lexer": "ipython3",
   "version": "3.8.8"
  }
 },
 "nbformat": 4,
 "nbformat_minor": 5
}
