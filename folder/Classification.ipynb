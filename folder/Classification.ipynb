{
 "cells": [
  {
   "cell_type": "code",
   "execution_count": 2,
   "metadata": {},
   "outputs": [],
   "source": [
    "import numpy as np"
   ]
  },
  {
   "cell_type": "code",
   "execution_count": 3,
   "metadata": {},
   "outputs": [],
   "source": [
    "x_data=np.array([2,4,6,8,10,12,14,16,18,20]).reshape(10,1)\n",
    "t_data=np.array([0,0,0,0,0,0,1,1,1,1]).reshape(10,1)"
   ]
  },
  {
   "cell_type": "code",
   "execution_count": 5,
   "metadata": {},
   "outputs": [
    {
     "name": "stdout",
     "output_type": "stream",
     "text": [
      "W= [[0.61195238]] , b= [0.80911931]\n"
     ]
    }
   ],
   "source": [
    "W=np.random.rand(1,1)\n",
    "b=np.random.rand(1)\n",
    "\n",
    "print(\"W=\",W,\", b=\",b)"
   ]
  },
  {
   "cell_type": "code",
   "execution_count": 6,
   "metadata": {},
   "outputs": [],
   "source": [
    "def sigmoid(z):\n",
    "    return 1/(1+np.exp(-z))\n"
   ]
  },
  {
   "cell_type": "code",
   "execution_count": 7,
   "metadata": {},
   "outputs": [],
   "source": [
    "def loss_func(x, t):\n",
    "    delta=1e-5\n",
    "    \n",
    "    z=np.dot(x,W)+b\n",
    "    y=sigmoid(z)\n",
    "    \n",
    "    ##cross entropy\n",
    "    return -np.sum(t*np.log(y+delta)+(1-t)*np.log((1-y)+delta))"
   ]
  },
  {
   "cell_type": "code",
   "execution_count": 8,
   "metadata": {},
   "outputs": [],
   "source": [
    "def predict(test_data):\n",
    "    z=np.dot(test_data, W)+b\n",
    "    y=sigmoid(z)\n",
    "    \n",
    "    if y>=0.5:\n",
    "        result=1\n",
    "    else:\n",
    "        result=0\n",
    "    \n",
    "    return y, result"
   ]
  },
  {
   "cell_type": "code",
   "execution_count": 12,
   "metadata": {},
   "outputs": [],
   "source": [
    "def derivative(f, var):\n",
    "    if var.ndim==1:\n",
    "        tmp=var\n",
    "        \n",
    "        delta=1e-5\n",
    "        diff_value=np.zeros(var.shape)\n",
    "        \n",
    "        for index in range(len(var)):\n",
    "            target_value=float(tmp[index]);\n",
    "            tmp[index]=target_value+delta\n",
    "            \n",
    "            func1=f(tmp)\n",
    "            \n",
    "            tmp[index]=target_value-delta\n",
    "            func2=f(tmp)\n",
    "            \n",
    "            diff_value[index]=(func1-func2)/(2*delta)\n",
    "            \n",
    "            tmp[index]=target_value\n",
    "            return diff_value\n",
    "        \n",
    "    elif var.ndim==2:\n",
    "        tmp=var\n",
    "        \n",
    "        delta=1e-5\n",
    "        \n",
    "        diff_value=np.zeros(var.shape)\n",
    "        \n",
    "        rows=var.shape[0]\n",
    "        columns=var.shape[1]\n",
    "        \n",
    "        for row in range(rows):\n",
    "            for column in range(columns):\n",
    "                target=float(tmp[row,column])\n",
    "                \n",
    "                tmp[row,column]=target+delta\n",
    "                \n",
    "                func1=f(tmp)\n",
    "                \n",
    "                tmp[row,column]=target-delta\n",
    "                func2=f(tmp)\n",
    "                \n",
    "                diff_value[row, column]=(func1-func2)/(2*delta)\n",
    "                \n",
    "                tmp[row,column]=target\n",
    "                \n",
    "        return diff_value"
   ]
  },
  {
   "cell_type": "code",
   "execution_count": 18,
   "metadata": {},
   "outputs": [
    {
     "name": "stdout",
     "output_type": "stream",
     "text": [
      "initial loss value = 5.918617851856627\n",
      "step= 0 , loss value= 5.918588934123002\n",
      "step= 5000 , loss value= 5.7776559780076155\n",
      "step= 10000 , loss value= 5.643752351465248\n",
      "step= 15000 , loss value= 5.516471109676103\n",
      "step= 20000 , loss value= 5.3954245167497294\n",
      "step= 25000 , loss value= 5.280244462283047\n",
      "step= 30000 , loss value= 5.1705825447674645\n",
      "step= 35000 , loss value= 5.066109885332978\n",
      "step= 40000 , loss value= 4.966516728736121\n",
      "step= 45000 , loss value= 4.87151188143608\n",
      "step= 50000 , loss value= 4.780822029527931\n"
     ]
    }
   ],
   "source": [
    "learning_rate=1e-5\n",
    "\n",
    "f=lambda x: loss_func(x_data, t_data)\n",
    "\n",
    "print(\"initial loss value =\", loss_func(x_data,t_data))\n",
    "\n",
    "\n",
    "for step in range(50001):\n",
    "    W-=learning_rate*derivative(f, W)\n",
    "    b-=learning_rate*derivative(f, b)\n",
    "    \n",
    "    if(step%5000==0):\n",
    "        print(\"step=\",step, \", loss value=\", loss_func(x_data,t_data))"
   ]
  },
  {
   "cell_type": "code",
   "execution_count": 19,
   "metadata": {},
   "outputs": [
    {
     "name": "stdout",
     "output_type": "stream",
     "text": [
      "[0.30538586] 0\n"
     ]
    }
   ],
   "source": [
    "test_data=np.array([3.0])\n",
    "\n",
    "(real,value)=predict(test_data)\n",
    "\n",
    "print(real, value)"
   ]
  },
  {
   "cell_type": "code",
   "execution_count": 20,
   "metadata": {},
   "outputs": [
    {
     "name": "stdout",
     "output_type": "stream",
     "text": [
      "[0.70540927] 1\n"
     ]
    }
   ],
   "source": [
    "test_data=np.array([17.0])\n",
    "\n",
    "(real,value)=predict(test_data)\n",
    "\n",
    "print(real, value)"
   ]
  },
  {
   "cell_type": "code",
   "execution_count": null,
   "metadata": {},
   "outputs": [],
   "source": []
  }
 ],
 "metadata": {
  "kernelspec": {
   "display_name": "Python 3",
   "language": "python",
   "name": "python3"
  },
  "language_info": {
   "codemirror_mode": {
    "name": "ipython",
    "version": 3
   },
   "file_extension": ".py",
   "mimetype": "text/x-python",
   "name": "python",
   "nbconvert_exporter": "python",
   "pygments_lexer": "ipython3",
   "version": "3.7.4"
  }
 },
 "nbformat": 4,
 "nbformat_minor": 2
}
