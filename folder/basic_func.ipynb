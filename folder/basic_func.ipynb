{
 "cells": [
  {
   "cell_type": "markdown",
   "metadata": {},
   "source": [
    "### If"
   ]
  },
  {
   "cell_type": "code",
   "execution_count": 1,
   "metadata": {},
   "outputs": [
    {
     "name": "stdout",
     "output_type": "stream",
     "text": [
      "positive number\n"
     ]
    }
   ],
   "source": [
    "a=1\n",
    "\n",
    "if a>0:\n",
    "    print(\"positive number\")\n",
    "elif a==0:\n",
    "    print(\"a==\",a)\n",
    "else:\n",
    "    print(\"a=\",a)\n",
    "    print(\"negative number\")\n",
    "    \n",
    "    "
   ]
  },
  {
   "cell_type": "code",
   "execution_count": 2,
   "metadata": {},
   "outputs": [
    {
     "name": "stdout",
     "output_type": "stream",
     "text": [
      "0  1  2  3  4  5  6  7  8  9  "
     ]
    }
   ],
   "source": [
    "for data in range(10):\n",
    "    print(data,\" \",end='')"
   ]
  },
  {
   "cell_type": "code",
   "execution_count": 3,
   "metadata": {},
   "outputs": [
    {
     "name": "stdout",
     "output_type": "stream",
     "text": [
      "0  1  2  3  4  5  6  7  8  9  "
     ]
    }
   ],
   "source": [
    "for data in range(0, 10):\n",
    "    print(data,\" \",end='')"
   ]
  },
  {
   "cell_type": "code",
   "execution_count": 4,
   "metadata": {},
   "outputs": [
    {
     "name": "stdout",
     "output_type": "stream",
     "text": [
      "0  2  4  6  8  "
     ]
    }
   ],
   "source": [
    "for data in range(0, 10,2):\n",
    "    print(data,\" \",end='')"
   ]
  },
  {
   "cell_type": "code",
   "execution_count": 5,
   "metadata": {},
   "outputs": [
    {
     "name": "stdout",
     "output_type": "stream",
     "text": [
      "10  20  30  40  50  "
     ]
    }
   ],
   "source": [
    "list_data=[10,20,30,40,50]\n",
    "\n",
    "for data in list_data:\n",
    "    print(data,\" \",end='')"
   ]
  },
  {
   "cell_type": "code",
   "execution_count": 6,
   "metadata": {},
   "outputs": [
    {
     "name": "stdout",
     "output_type": "stream",
     "text": [
      "time  place  "
     ]
    }
   ],
   "source": [
    "dict_data={'time':355, 'place':11}\n",
    "\n",
    "for data in dict_data:\n",
    "    print(data, \" \", end='')\n",
    "    "
   ]
  },
  {
   "cell_type": "code",
   "execution_count": 7,
   "metadata": {},
   "outputs": [
    {
     "name": "stdout",
     "output_type": "stream",
     "text": [
      "time   355\n",
      "place   11\n"
     ]
    }
   ],
   "source": [
    "for key, value in dict_data.items():\n",
    "    print(key,\" \", value)"
   ]
  },
  {
   "cell_type": "markdown",
   "metadata": {},
   "source": [
    "### List comprehension"
   ]
  },
  {
   "cell_type": "code",
   "execution_count": 8,
   "metadata": {},
   "outputs": [
    {
     "name": "stdout",
     "output_type": "stream",
     "text": [
      "[0, 1, 4, 9, 16]\n"
     ]
    }
   ],
   "source": [
    "list_data=[x**2 for x in range(5)]\n",
    "print(list_data)"
   ]
  },
  {
   "cell_type": "code",
   "execution_count": 9,
   "metadata": {},
   "outputs": [
    {
     "name": "stdout",
     "output_type": "stream",
     "text": [
      "all data =  [[1, 10], [2, 15], [3, 30], [4, 55]]\n",
      "x_data =  [1, 2, 3, 4]\n",
      "y_data =  [10, 15, 30, 55]\n"
     ]
    }
   ],
   "source": [
    "raw_data=[[1,10], [2,15], [3,30], [4,55]]\n",
    "\n",
    "all_data=[x for x in raw_data]\n",
    "x_data=[x[0] for x in raw_data]\n",
    "y_data=[x[1] for x in raw_data]\n",
    "\n",
    "print(\"all data = \",all_data)\n",
    "print(\"x_data = \",x_data)\n",
    "print(\"y_data = \",y_data)"
   ]
  },
  {
   "cell_type": "markdown",
   "metadata": {},
   "source": [
    "### Function"
   ]
  },
  {
   "cell_type": "code",
   "execution_count": 10,
   "metadata": {},
   "outputs": [
    {
     "name": "stdout",
     "output_type": "stream",
     "text": [
      "21\n"
     ]
    }
   ],
   "source": [
    "def sum(x, y):\n",
    "    s=x+y\n",
    "    return s\n",
    "\n",
    "result=sum(1,20)\n",
    "print(result)"
   ]
  },
  {
   "cell_type": "code",
   "execution_count": 11,
   "metadata": {},
   "outputs": [
    {
     "name": "stdout",
     "output_type": "stream",
     "text": [
      "101 102 103\n"
     ]
    }
   ],
   "source": [
    "def multi_ret_func(x):\n",
    "    return x+1, x+2, x+3\n",
    "\n",
    "x=100\n",
    "\n",
    "y1,y2,y3=multi_ret_func(x)\n",
    "\n",
    "print(y1, y2, y3)"
   ]
  },
  {
   "cell_type": "code",
   "execution_count": 12,
   "metadata": {},
   "outputs": [
    {
     "name": "stdout",
     "output_type": "stream",
     "text": [
      "name =  DAVE\n",
      "name =  DAVE\n"
     ]
    }
   ],
   "source": [
    "## default parameter\n",
    "\n",
    "def print_name(name, count=2):\n",
    "    for i in range(count):\n",
    "        print(\"name = \",name)\n",
    "        \n",
    "print_name(\"DAVE\")"
   ]
  },
  {
   "cell_type": "code",
   "execution_count": 14,
   "metadata": {},
   "outputs": [
    {
     "name": "stdout",
     "output_type": "stream",
     "text": [
      "x =  1 , test_list =  [1, 2, 3, 100]\n"
     ]
    }
   ],
   "source": [
    "## mutable, immutable parameter\n",
    "\n",
    "def mutable_immutable_func(int_x, input_list):\n",
    "    int_x +=1\n",
    "    input_list.append(100)\n",
    "\n",
    "x=1\n",
    "test_list=[1,2,3]\n",
    "\n",
    "mutable_immutable_func(x, test_list)\n",
    "print(\"x = \",x,\", test_list = \",test_list)\n",
    "## 변수는 변하지 않음\n",
    "## mutable data type = list, dictionary, numpy 등을 함수 인자로 전달하는 경우"
   ]
  },
  {
   "cell_type": "code",
   "execution_count": 17,
   "metadata": {},
   "outputs": [
    {
     "name": "stdout",
     "output_type": "stream",
     "text": [
      "100\n",
      "101\n",
      "102\n"
     ]
    }
   ],
   "source": [
    "# lambda function\n",
    "\n",
    "f=lambda x: x+100\n",
    "\n",
    "for i in range(3):\n",
    "    print(f(i))"
   ]
  },
  {
   "cell_type": "code",
   "execution_count": null,
   "metadata": {},
   "outputs": [],
   "source": []
  }
 ],
 "metadata": {
  "kernelspec": {
   "display_name": "Python 3",
   "language": "python",
   "name": "python3"
  },
  "language_info": {
   "codemirror_mode": {
    "name": "ipython",
    "version": 3
   },
   "file_extension": ".py",
   "mimetype": "text/x-python",
   "name": "python",
   "nbconvert_exporter": "python",
   "pygments_lexer": "ipython3",
   "version": "3.7.4"
  }
 },
 "nbformat": 4,
 "nbformat_minor": 2
}
