{
 "cells": [
  {
   "cell_type": "code",
   "execution_count": 1,
   "metadata": {},
   "outputs": [],
   "source": [
    "import pandas as pd"
   ]
  },
  {
   "cell_type": "code",
   "execution_count": 75,
   "metadata": {},
   "outputs": [
    {
     "data": {
      "text/html": [
       "<div>\n",
       "<style scoped>\n",
       "    .dataframe tbody tr th:only-of-type {\n",
       "        vertical-align: middle;\n",
       "    }\n",
       "\n",
       "    .dataframe tbody tr th {\n",
       "        vertical-align: top;\n",
       "    }\n",
       "\n",
       "    .dataframe thead th {\n",
       "        text-align: right;\n",
       "    }\n",
       "</style>\n",
       "<table border=\"1\" class=\"dataframe\">\n",
       "  <thead>\n",
       "    <tr style=\"text-align: right;\">\n",
       "      <th></th>\n",
       "      <th>회차</th>\n",
       "      <th>이름</th>\n",
       "      <th>측정일</th>\n",
       "      <th>몸무게</th>\n",
       "      <th>단위</th>\n",
       "      <th>담당</th>\n",
       "      <th>지점</th>\n",
       "    </tr>\n",
       "  </thead>\n",
       "  <tbody>\n",
       "    <tr>\n",
       "      <th>0</th>\n",
       "      <td>1</td>\n",
       "      <td>서현경</td>\n",
       "      <td>2020-03-01</td>\n",
       "      <td>76.4</td>\n",
       "      <td>kg</td>\n",
       "      <td>박현경</td>\n",
       "      <td>관악구</td>\n",
       "    </tr>\n",
       "    <tr>\n",
       "      <th>1</th>\n",
       "      <td>2</td>\n",
       "      <td>서현경</td>\n",
       "      <td>2020-03-02</td>\n",
       "      <td>75.7</td>\n",
       "      <td>kg</td>\n",
       "      <td>김현경</td>\n",
       "      <td>관악구</td>\n",
       "    </tr>\n",
       "    <tr>\n",
       "      <th>2</th>\n",
       "      <td>3</td>\n",
       "      <td>서현경</td>\n",
       "      <td>2020-03-03</td>\n",
       "      <td>76.0</td>\n",
       "      <td>kg</td>\n",
       "      <td>최현경</td>\n",
       "      <td>여의도</td>\n",
       "    </tr>\n",
       "    <tr>\n",
       "      <th>3</th>\n",
       "      <td>4</td>\n",
       "      <td>서현경</td>\n",
       "      <td>2020-03-04</td>\n",
       "      <td>NaN</td>\n",
       "      <td>kg</td>\n",
       "      <td>최현경</td>\n",
       "      <td>여의도</td>\n",
       "    </tr>\n",
       "    <tr>\n",
       "      <th>4</th>\n",
       "      <td>5</td>\n",
       "      <td>서현경</td>\n",
       "      <td>2020-03-05</td>\n",
       "      <td>76.2</td>\n",
       "      <td>kg</td>\n",
       "      <td>김현경</td>\n",
       "      <td>강남구</td>\n",
       "    </tr>\n",
       "    <tr>\n",
       "      <th>5</th>\n",
       "      <td>6</td>\n",
       "      <td>서현경</td>\n",
       "      <td>2020-03-06</td>\n",
       "      <td>75.7</td>\n",
       "      <td>kg</td>\n",
       "      <td>최현경</td>\n",
       "      <td>서초구</td>\n",
       "    </tr>\n",
       "    <tr>\n",
       "      <th>6</th>\n",
       "      <td>7</td>\n",
       "      <td>서현경</td>\n",
       "      <td>2020-03-07</td>\n",
       "      <td>NaN</td>\n",
       "      <td>kg</td>\n",
       "      <td>최현경</td>\n",
       "      <td>서초구</td>\n",
       "    </tr>\n",
       "    <tr>\n",
       "      <th>7</th>\n",
       "      <td>8</td>\n",
       "      <td>서현경</td>\n",
       "      <td>2020-03-08</td>\n",
       "      <td>NaN</td>\n",
       "      <td>kg</td>\n",
       "      <td>김현경</td>\n",
       "      <td>서초구</td>\n",
       "    </tr>\n",
       "    <tr>\n",
       "      <th>8</th>\n",
       "      <td>9</td>\n",
       "      <td>서현경</td>\n",
       "      <td>2020-03-09</td>\n",
       "      <td>75.0</td>\n",
       "      <td>kg</td>\n",
       "      <td>김현경</td>\n",
       "      <td>서초구</td>\n",
       "    </tr>\n",
       "  </tbody>\n",
       "</table>\n",
       "</div>"
      ],
      "text/plain": [
       "   회차   이름         측정일   몸무게  단위   담당   지점\n",
       "0   1  서현경  2020-03-01  76.4  kg  박현경  관악구\n",
       "1   2  서현경  2020-03-02  75.7  kg  김현경  관악구\n",
       "2   3  서현경  2020-03-03  76.0  kg  최현경  여의도\n",
       "3   4  서현경  2020-03-04   NaN  kg  최현경  여의도\n",
       "4   5  서현경  2020-03-05  76.2  kg  김현경  강남구\n",
       "5   6  서현경  2020-03-06  75.7  kg  최현경  서초구\n",
       "6   7  서현경  2020-03-07   NaN  kg  최현경  서초구\n",
       "7   8  서현경  2020-03-08   NaN  kg  김현경  서초구\n",
       "8   9  서현경  2020-03-09  75.0  kg  김현경  서초구"
      ]
     },
     "execution_count": 75,
     "metadata": {},
     "output_type": "execute_result"
    }
   ],
   "source": [
    "file_url=\"weight_log.csv\"\n",
    "\n",
    "data=pd.read_csv(file_url)\n",
    "\n",
    "data"
   ]
  },
  {
   "cell_type": "code",
   "execution_count": 9,
   "metadata": {},
   "outputs": [
    {
     "data": {
      "text/html": [
       "<div>\n",
       "<style scoped>\n",
       "    .dataframe tbody tr th:only-of-type {\n",
       "        vertical-align: middle;\n",
       "    }\n",
       "\n",
       "    .dataframe tbody tr th {\n",
       "        vertical-align: top;\n",
       "    }\n",
       "\n",
       "    .dataframe thead th {\n",
       "        text-align: right;\n",
       "    }\n",
       "</style>\n",
       "<table border=\"1\" class=\"dataframe\">\n",
       "  <thead>\n",
       "    <tr style=\"text-align: right;\">\n",
       "      <th></th>\n",
       "      <th>회차</th>\n",
       "      <th>몸무게</th>\n",
       "    </tr>\n",
       "  </thead>\n",
       "  <tbody>\n",
       "    <tr>\n",
       "      <th>0</th>\n",
       "      <td>1</td>\n",
       "      <td>76.4</td>\n",
       "    </tr>\n",
       "    <tr>\n",
       "      <th>1</th>\n",
       "      <td>2</td>\n",
       "      <td>75.7</td>\n",
       "    </tr>\n",
       "    <tr>\n",
       "      <th>2</th>\n",
       "      <td>3</td>\n",
       "      <td>76.0</td>\n",
       "    </tr>\n",
       "  </tbody>\n",
       "</table>\n",
       "</div>"
      ],
      "text/plain": [
       "   회차   몸무게\n",
       "0   1  76.4\n",
       "1   2  75.7\n",
       "2   3  76.0"
      ]
     },
     "execution_count": 9,
     "metadata": {},
     "output_type": "execute_result"
    }
   ],
   "source": [
    "t_col=[\"회차\", \"몸무게\"]\n",
    "data[[\"회차\", \"몸무게\"]]\n",
    "data[t_col].head(3)\n",
    "#list안에는 하나만 들어갈 수 있기 때문에 [],[]형식이 아니라 [[\"\",\"\"]] 형식으로 "
   ]
  },
  {
   "cell_type": "code",
   "execution_count": 16,
   "metadata": {},
   "outputs": [
    {
     "data": {
      "text/html": [
       "<div>\n",
       "<style scoped>\n",
       "    .dataframe tbody tr th:only-of-type {\n",
       "        vertical-align: middle;\n",
       "    }\n",
       "\n",
       "    .dataframe tbody tr th {\n",
       "        vertical-align: top;\n",
       "    }\n",
       "\n",
       "    .dataframe thead th {\n",
       "        text-align: right;\n",
       "    }\n",
       "</style>\n",
       "<table border=\"1\" class=\"dataframe\">\n",
       "  <thead>\n",
       "    <tr style=\"text-align: right;\">\n",
       "      <th></th>\n",
       "      <th>회차</th>\n",
       "      <th>이름</th>\n",
       "      <th>측정일</th>\n",
       "      <th>몸무게</th>\n",
       "      <th>단위</th>\n",
       "      <th>담당</th>\n",
       "      <th>지점</th>\n",
       "    </tr>\n",
       "  </thead>\n",
       "  <tbody>\n",
       "    <tr>\n",
       "      <th>0</th>\n",
       "      <td>1</td>\n",
       "      <td>서현경</td>\n",
       "      <td>2020-03-01</td>\n",
       "      <td>76.4</td>\n",
       "      <td>kg</td>\n",
       "      <td>박현경</td>\n",
       "      <td>관악구</td>\n",
       "    </tr>\n",
       "    <tr>\n",
       "      <th>1</th>\n",
       "      <td>2</td>\n",
       "      <td>서현경</td>\n",
       "      <td>2020-03-02</td>\n",
       "      <td>75.7</td>\n",
       "      <td>kg</td>\n",
       "      <td>김현경</td>\n",
       "      <td>관악구</td>\n",
       "    </tr>\n",
       "    <tr>\n",
       "      <th>2</th>\n",
       "      <td>3</td>\n",
       "      <td>서현경</td>\n",
       "      <td>2020-03-03</td>\n",
       "      <td>76.0</td>\n",
       "      <td>kg</td>\n",
       "      <td>최현경</td>\n",
       "      <td>여의도</td>\n",
       "    </tr>\n",
       "    <tr>\n",
       "      <th>3</th>\n",
       "      <td>4</td>\n",
       "      <td>서현경</td>\n",
       "      <td>2020-03-04</td>\n",
       "      <td>NaN</td>\n",
       "      <td>kg</td>\n",
       "      <td>최현경</td>\n",
       "      <td>여의도</td>\n",
       "    </tr>\n",
       "    <tr>\n",
       "      <th>4</th>\n",
       "      <td>5</td>\n",
       "      <td>서현경</td>\n",
       "      <td>2020-03-05</td>\n",
       "      <td>76.2</td>\n",
       "      <td>kg</td>\n",
       "      <td>김현경</td>\n",
       "      <td>강남구</td>\n",
       "    </tr>\n",
       "    <tr>\n",
       "      <th>5</th>\n",
       "      <td>6</td>\n",
       "      <td>서현경</td>\n",
       "      <td>2020-03-06</td>\n",
       "      <td>75.7</td>\n",
       "      <td>kg</td>\n",
       "      <td>최현경</td>\n",
       "      <td>서초구</td>\n",
       "    </tr>\n",
       "    <tr>\n",
       "      <th>6</th>\n",
       "      <td>7</td>\n",
       "      <td>서현경</td>\n",
       "      <td>2020-03-07</td>\n",
       "      <td>NaN</td>\n",
       "      <td>kg</td>\n",
       "      <td>최현경</td>\n",
       "      <td>서초구</td>\n",
       "    </tr>\n",
       "    <tr>\n",
       "      <th>7</th>\n",
       "      <td>8</td>\n",
       "      <td>서현경</td>\n",
       "      <td>2020-03-08</td>\n",
       "      <td>NaN</td>\n",
       "      <td>kg</td>\n",
       "      <td>김현경</td>\n",
       "      <td>서초구</td>\n",
       "    </tr>\n",
       "    <tr>\n",
       "      <th>8</th>\n",
       "      <td>9</td>\n",
       "      <td>서현경</td>\n",
       "      <td>2020-03-09</td>\n",
       "      <td>75.0</td>\n",
       "      <td>kg</td>\n",
       "      <td>김현경</td>\n",
       "      <td>서초구</td>\n",
       "    </tr>\n",
       "  </tbody>\n",
       "</table>\n",
       "</div>"
      ],
      "text/plain": [
       "   회차   이름         측정일   몸무게  단위   담당   지점\n",
       "0   1  서현경  2020-03-01  76.4  kg  박현경  관악구\n",
       "1   2  서현경  2020-03-02  75.7  kg  김현경  관악구\n",
       "2   3  서현경  2020-03-03  76.0  kg  최현경  여의도\n",
       "3   4  서현경  2020-03-04   NaN  kg  최현경  여의도\n",
       "4   5  서현경  2020-03-05  76.2  kg  김현경  강남구\n",
       "5   6  서현경  2020-03-06  75.7  kg  최현경  서초구\n",
       "6   7  서현경  2020-03-07   NaN  kg  최현경  서초구\n",
       "7   8  서현경  2020-03-08   NaN  kg  김현경  서초구\n",
       "8   9  서현경  2020-03-09  75.0  kg  김현경  서초구"
      ]
     },
     "execution_count": 16,
     "metadata": {},
     "output_type": "execute_result"
    }
   ],
   "source": [
    "data"
   ]
  },
  {
   "cell_type": "code",
   "execution_count": 18,
   "metadata": {},
   "outputs": [
    {
     "data": {
      "text/plain": [
       "76.05000000000001"
      ]
     },
     "execution_count": 18,
     "metadata": {},
     "output_type": "execute_result"
    }
   ],
   "source": [
    "data[\"몸무게\"].head(2).mean()"
   ]
  },
  {
   "cell_type": "code",
   "execution_count": 19,
   "metadata": {},
   "outputs": [
    {
     "data": {
      "text/html": [
       "<div>\n",
       "<style scoped>\n",
       "    .dataframe tbody tr th:only-of-type {\n",
       "        vertical-align: middle;\n",
       "    }\n",
       "\n",
       "    .dataframe tbody tr th {\n",
       "        vertical-align: top;\n",
       "    }\n",
       "\n",
       "    .dataframe thead th {\n",
       "        text-align: right;\n",
       "    }\n",
       "</style>\n",
       "<table border=\"1\" class=\"dataframe\">\n",
       "  <thead>\n",
       "    <tr style=\"text-align: right;\">\n",
       "      <th></th>\n",
       "      <th>회차</th>\n",
       "      <th>몸무게</th>\n",
       "    </tr>\n",
       "  </thead>\n",
       "  <tbody>\n",
       "    <tr>\n",
       "      <th>count</th>\n",
       "      <td>9.000000</td>\n",
       "      <td>6.000000</td>\n",
       "    </tr>\n",
       "    <tr>\n",
       "      <th>mean</th>\n",
       "      <td>5.000000</td>\n",
       "      <td>75.833333</td>\n",
       "    </tr>\n",
       "    <tr>\n",
       "      <th>std</th>\n",
       "      <td>2.738613</td>\n",
       "      <td>0.492612</td>\n",
       "    </tr>\n",
       "    <tr>\n",
       "      <th>min</th>\n",
       "      <td>1.000000</td>\n",
       "      <td>75.000000</td>\n",
       "    </tr>\n",
       "    <tr>\n",
       "      <th>25%</th>\n",
       "      <td>3.000000</td>\n",
       "      <td>75.700000</td>\n",
       "    </tr>\n",
       "    <tr>\n",
       "      <th>50%</th>\n",
       "      <td>5.000000</td>\n",
       "      <td>75.850000</td>\n",
       "    </tr>\n",
       "    <tr>\n",
       "      <th>75%</th>\n",
       "      <td>7.000000</td>\n",
       "      <td>76.150000</td>\n",
       "    </tr>\n",
       "    <tr>\n",
       "      <th>max</th>\n",
       "      <td>9.000000</td>\n",
       "      <td>76.400000</td>\n",
       "    </tr>\n",
       "  </tbody>\n",
       "</table>\n",
       "</div>"
      ],
      "text/plain": [
       "             회차        몸무게\n",
       "count  9.000000   6.000000\n",
       "mean   5.000000  75.833333\n",
       "std    2.738613   0.492612\n",
       "min    1.000000  75.000000\n",
       "25%    3.000000  75.700000\n",
       "50%    5.000000  75.850000\n",
       "75%    7.000000  76.150000\n",
       "max    9.000000  76.400000"
      ]
     },
     "execution_count": 19,
     "metadata": {},
     "output_type": "execute_result"
    }
   ],
   "source": [
    "data.describe()\n",
    "\n",
    "#숫자인 값이 나옴. 숫자가 치우쳐졌는지, 기본적인 정보 확인 가능 "
   ]
  },
  {
   "cell_type": "code",
   "execution_count": 22,
   "metadata": {},
   "outputs": [
    {
     "name": "stdout",
     "output_type": "stream",
     "text": [
      "['서현경']\n",
      "[1 2 3 4 5 6 7 8 9]\n",
      "4\n"
     ]
    }
   ],
   "source": [
    "print(data[\"이름\"].unique())\n",
    "print(data[\"회차\"].unique())\n",
    "\n",
    "print(data[\"지점\"].nunique())\n",
    "#unique 앞에 n을 붙이면 개수가 나타난다"
   ]
  },
  {
   "cell_type": "code",
   "execution_count": 23,
   "metadata": {},
   "outputs": [
    {
     "data": {
      "text/plain": [
       "서초구    4\n",
       "관악구    2\n",
       "여의도    2\n",
       "강남구    1\n",
       "Name: 지점, dtype: int64"
      ]
     },
     "execution_count": 23,
     "metadata": {},
     "output_type": "execute_result"
    }
   ],
   "source": [
    "data[\"지점\"].value_counts()\n",
    "#중복된 값을 알 수 있음 "
   ]
  },
  {
   "cell_type": "code",
   "execution_count": 24,
   "metadata": {},
   "outputs": [
    {
     "data": {
      "text/html": [
       "<div>\n",
       "<style scoped>\n",
       "    .dataframe tbody tr th:only-of-type {\n",
       "        vertical-align: middle;\n",
       "    }\n",
       "\n",
       "    .dataframe tbody tr th {\n",
       "        vertical-align: top;\n",
       "    }\n",
       "\n",
       "    .dataframe thead th {\n",
       "        text-align: right;\n",
       "    }\n",
       "</style>\n",
       "<table border=\"1\" class=\"dataframe\">\n",
       "  <thead>\n",
       "    <tr style=\"text-align: right;\">\n",
       "      <th></th>\n",
       "      <th>회차</th>\n",
       "      <th>이름</th>\n",
       "      <th>측정일</th>\n",
       "      <th>몸무게</th>\n",
       "      <th>단위</th>\n",
       "      <th>담당</th>\n",
       "      <th>지점</th>\n",
       "    </tr>\n",
       "  </thead>\n",
       "  <tbody>\n",
       "    <tr>\n",
       "      <th>0</th>\n",
       "      <td>1</td>\n",
       "      <td>서현경</td>\n",
       "      <td>2020-03-01</td>\n",
       "      <td>76.4</td>\n",
       "      <td>kg</td>\n",
       "      <td>박현경</td>\n",
       "      <td>관악구</td>\n",
       "    </tr>\n",
       "    <tr>\n",
       "      <th>1</th>\n",
       "      <td>2</td>\n",
       "      <td>서현경</td>\n",
       "      <td>2020-03-02</td>\n",
       "      <td>75.7</td>\n",
       "      <td>kg</td>\n",
       "      <td>김현경</td>\n",
       "      <td>관악구</td>\n",
       "    </tr>\n",
       "    <tr>\n",
       "      <th>2</th>\n",
       "      <td>3</td>\n",
       "      <td>서현경</td>\n",
       "      <td>2020-03-03</td>\n",
       "      <td>76.0</td>\n",
       "      <td>kg</td>\n",
       "      <td>최현경</td>\n",
       "      <td>여의도</td>\n",
       "    </tr>\n",
       "    <tr>\n",
       "      <th>3</th>\n",
       "      <td>4</td>\n",
       "      <td>서현경</td>\n",
       "      <td>2020-03-04</td>\n",
       "      <td>NaN</td>\n",
       "      <td>kg</td>\n",
       "      <td>최현경</td>\n",
       "      <td>여의도</td>\n",
       "    </tr>\n",
       "    <tr>\n",
       "      <th>4</th>\n",
       "      <td>5</td>\n",
       "      <td>서현경</td>\n",
       "      <td>2020-03-05</td>\n",
       "      <td>76.2</td>\n",
       "      <td>kg</td>\n",
       "      <td>김현경</td>\n",
       "      <td>강남</td>\n",
       "    </tr>\n",
       "    <tr>\n",
       "      <th>5</th>\n",
       "      <td>6</td>\n",
       "      <td>서현경</td>\n",
       "      <td>2020-03-06</td>\n",
       "      <td>75.7</td>\n",
       "      <td>kg</td>\n",
       "      <td>최현경</td>\n",
       "      <td>서초구</td>\n",
       "    </tr>\n",
       "    <tr>\n",
       "      <th>6</th>\n",
       "      <td>7</td>\n",
       "      <td>서현경</td>\n",
       "      <td>2020-03-07</td>\n",
       "      <td>NaN</td>\n",
       "      <td>kg</td>\n",
       "      <td>최현경</td>\n",
       "      <td>서초구</td>\n",
       "    </tr>\n",
       "    <tr>\n",
       "      <th>7</th>\n",
       "      <td>8</td>\n",
       "      <td>서현경</td>\n",
       "      <td>2020-03-08</td>\n",
       "      <td>NaN</td>\n",
       "      <td>kg</td>\n",
       "      <td>김현경</td>\n",
       "      <td>서초구</td>\n",
       "    </tr>\n",
       "    <tr>\n",
       "      <th>8</th>\n",
       "      <td>9</td>\n",
       "      <td>서현경</td>\n",
       "      <td>2020-03-09</td>\n",
       "      <td>75.0</td>\n",
       "      <td>kg</td>\n",
       "      <td>김현경</td>\n",
       "      <td>서초구</td>\n",
       "    </tr>\n",
       "  </tbody>\n",
       "</table>\n",
       "</div>"
      ],
      "text/plain": [
       "   회차   이름         측정일   몸무게  단위   담당   지점\n",
       "0   1  서현경  2020-03-01  76.4  kg  박현경  관악구\n",
       "1   2  서현경  2020-03-02  75.7  kg  김현경  관악구\n",
       "2   3  서현경  2020-03-03  76.0  kg  최현경  여의도\n",
       "3   4  서현경  2020-03-04   NaN  kg  최현경  여의도\n",
       "4   5  서현경  2020-03-05  76.2  kg  김현경   강남\n",
       "5   6  서현경  2020-03-06  75.7  kg  최현경  서초구\n",
       "6   7  서현경  2020-03-07   NaN  kg  최현경  서초구\n",
       "7   8  서현경  2020-03-08   NaN  kg  김현경  서초구\n",
       "8   9  서현경  2020-03-09  75.0  kg  김현경  서초구"
      ]
     },
     "execution_count": 24,
     "metadata": {},
     "output_type": "execute_result"
    }
   ],
   "source": [
    "data[\"지점\"]=data[\"지점\"].replace(\"강남구\",\"강남\")\n",
    "\n",
    "data"
   ]
  },
  {
   "cell_type": "code",
   "execution_count": 25,
   "metadata": {},
   "outputs": [
    {
     "data": {
      "text/html": [
       "<div>\n",
       "<style scoped>\n",
       "    .dataframe tbody tr th:only-of-type {\n",
       "        vertical-align: middle;\n",
       "    }\n",
       "\n",
       "    .dataframe tbody tr th {\n",
       "        vertical-align: top;\n",
       "    }\n",
       "\n",
       "    .dataframe thead th {\n",
       "        text-align: right;\n",
       "    }\n",
       "</style>\n",
       "<table border=\"1\" class=\"dataframe\">\n",
       "  <thead>\n",
       "    <tr style=\"text-align: right;\">\n",
       "      <th></th>\n",
       "      <th>회차</th>\n",
       "      <th>이름</th>\n",
       "      <th>측정일</th>\n",
       "      <th>몸무게</th>\n",
       "      <th>단위</th>\n",
       "      <th>담당</th>\n",
       "      <th>지점</th>\n",
       "    </tr>\n",
       "  </thead>\n",
       "  <tbody>\n",
       "    <tr>\n",
       "      <th>0</th>\n",
       "      <td>1</td>\n",
       "      <td>서현경</td>\n",
       "      <td>2020-03-01</td>\n",
       "      <td>76.4</td>\n",
       "      <td>kg</td>\n",
       "      <td>박현경</td>\n",
       "      <td>관악구</td>\n",
       "    </tr>\n",
       "    <tr>\n",
       "      <th>1</th>\n",
       "      <td>2</td>\n",
       "      <td>서현경</td>\n",
       "      <td>2020-03-02</td>\n",
       "      <td>75.7</td>\n",
       "      <td>kg</td>\n",
       "      <td>김현경</td>\n",
       "      <td>관악구</td>\n",
       "    </tr>\n",
       "    <tr>\n",
       "      <th>2</th>\n",
       "      <td>3</td>\n",
       "      <td>서현경</td>\n",
       "      <td>2020-03-03</td>\n",
       "      <td>76.0</td>\n",
       "      <td>kg</td>\n",
       "      <td>최현경</td>\n",
       "      <td>여의도</td>\n",
       "    </tr>\n",
       "    <tr>\n",
       "      <th>3</th>\n",
       "      <td>4</td>\n",
       "      <td>서현경</td>\n",
       "      <td>2020-03-04</td>\n",
       "      <td>NaN</td>\n",
       "      <td>kg</td>\n",
       "      <td>최현경</td>\n",
       "      <td>여의도</td>\n",
       "    </tr>\n",
       "    <tr>\n",
       "      <th>4</th>\n",
       "      <td>5</td>\n",
       "      <td>서현경</td>\n",
       "      <td>2020-03-05</td>\n",
       "      <td>76.2</td>\n",
       "      <td>kg</td>\n",
       "      <td>김현경</td>\n",
       "      <td>강남구</td>\n",
       "    </tr>\n",
       "    <tr>\n",
       "      <th>5</th>\n",
       "      <td>6</td>\n",
       "      <td>서현경</td>\n",
       "      <td>2020-03-06</td>\n",
       "      <td>75.7</td>\n",
       "      <td>kg</td>\n",
       "      <td>최현경</td>\n",
       "      <td>서초구</td>\n",
       "    </tr>\n",
       "    <tr>\n",
       "      <th>6</th>\n",
       "      <td>7</td>\n",
       "      <td>서현경</td>\n",
       "      <td>2020-03-07</td>\n",
       "      <td>NaN</td>\n",
       "      <td>kg</td>\n",
       "      <td>최현경</td>\n",
       "      <td>서초구</td>\n",
       "    </tr>\n",
       "    <tr>\n",
       "      <th>7</th>\n",
       "      <td>8</td>\n",
       "      <td>서현경</td>\n",
       "      <td>2020-03-08</td>\n",
       "      <td>NaN</td>\n",
       "      <td>kg</td>\n",
       "      <td>김현경</td>\n",
       "      <td>서초구</td>\n",
       "    </tr>\n",
       "    <tr>\n",
       "      <th>8</th>\n",
       "      <td>9</td>\n",
       "      <td>서현경</td>\n",
       "      <td>2020-03-09</td>\n",
       "      <td>75.0</td>\n",
       "      <td>kg</td>\n",
       "      <td>김현경</td>\n",
       "      <td>서초구</td>\n",
       "    </tr>\n",
       "  </tbody>\n",
       "</table>\n",
       "</div>"
      ],
      "text/plain": [
       "   회차   이름         측정일   몸무게  단위   담당   지점\n",
       "0   1  서현경  2020-03-01  76.4  kg  박현경  관악구\n",
       "1   2  서현경  2020-03-02  75.7  kg  김현경  관악구\n",
       "2   3  서현경  2020-03-03  76.0  kg  최현경  여의도\n",
       "3   4  서현경  2020-03-04   NaN  kg  최현경  여의도\n",
       "4   5  서현경  2020-03-05  76.2  kg  김현경  강남구\n",
       "5   6  서현경  2020-03-06  75.7  kg  최현경  서초구\n",
       "6   7  서현경  2020-03-07   NaN  kg  최현경  서초구\n",
       "7   8  서현경  2020-03-08   NaN  kg  김현경  서초구\n",
       "8   9  서현경  2020-03-09  75.0  kg  김현경  서초구"
      ]
     },
     "execution_count": 25,
     "metadata": {},
     "output_type": "execute_result"
    }
   ],
   "source": [
    "data[\"지점\"]=data[\"지점\"].replace(\"강남\",\"강남구\")\n",
    "\n",
    "data"
   ]
  },
  {
   "cell_type": "markdown",
   "metadata": {},
   "source": [
    "\n",
    "NaN 와 같잉 누락된 정보가 있다면 (잘못된 입력을 받았음)"
   ]
  },
  {
   "cell_type": "markdown",
   "metadata": {},
   "source": [
    "1. 데이터 평균내기\n",
    "2. 바로 전 데이터를 쓰기\n",
    "3. 데이터를 보고 describe를 통해서 중앙값을 사용함. "
   ]
  },
  {
   "cell_type": "code",
   "execution_count": 27,
   "metadata": {},
   "outputs": [
    {
     "data": {
      "text/plain": [
       "0    76.400000\n",
       "1    75.700000\n",
       "2    76.000000\n",
       "3    75.833333\n",
       "4    76.200000\n",
       "5    75.700000\n",
       "6    75.833333\n",
       "7    75.833333\n",
       "8    75.000000\n",
       "Name: 몸무게, dtype: float64"
      ]
     },
     "execution_count": 27,
     "metadata": {},
     "output_type": "execute_result"
    }
   ],
   "source": [
    "data[\"몸무게\"].fillna(data[\"몸무게\"].mean())\n",
    "\n",
    "\n",
    "#fill nan : NAN값에 ~를 넣어라 \n",
    "#근데 이거는 조회용  \n",
    "#위의 경우는 몸무게의 평균을 NaN에 넣음 "
   ]
  },
  {
   "cell_type": "code",
   "execution_count": 33,
   "metadata": {},
   "outputs": [
    {
     "data": {
      "text/html": [
       "<div>\n",
       "<style scoped>\n",
       "    .dataframe tbody tr th:only-of-type {\n",
       "        vertical-align: middle;\n",
       "    }\n",
       "\n",
       "    .dataframe tbody tr th {\n",
       "        vertical-align: top;\n",
       "    }\n",
       "\n",
       "    .dataframe thead th {\n",
       "        text-align: right;\n",
       "    }\n",
       "</style>\n",
       "<table border=\"1\" class=\"dataframe\">\n",
       "  <thead>\n",
       "    <tr style=\"text-align: right;\">\n",
       "      <th></th>\n",
       "      <th>회차</th>\n",
       "      <th>이름</th>\n",
       "      <th>측정일</th>\n",
       "      <th>몸무게</th>\n",
       "      <th>단위</th>\n",
       "      <th>담당</th>\n",
       "      <th>지점</th>\n",
       "      <th>얍</th>\n",
       "      <th>몸무게 처리</th>\n",
       "    </tr>\n",
       "  </thead>\n",
       "  <tbody>\n",
       "    <tr>\n",
       "      <th>0</th>\n",
       "      <td>1</td>\n",
       "      <td>서현경</td>\n",
       "      <td>2020-03-01</td>\n",
       "      <td>76.400000</td>\n",
       "      <td>kg</td>\n",
       "      <td>박현경</td>\n",
       "      <td>관악구</td>\n",
       "      <td>76.400000</td>\n",
       "      <td>76.400000</td>\n",
       "    </tr>\n",
       "    <tr>\n",
       "      <th>1</th>\n",
       "      <td>2</td>\n",
       "      <td>서현경</td>\n",
       "      <td>2020-03-02</td>\n",
       "      <td>75.700000</td>\n",
       "      <td>kg</td>\n",
       "      <td>김현경</td>\n",
       "      <td>관악구</td>\n",
       "      <td>75.700000</td>\n",
       "      <td>75.700000</td>\n",
       "    </tr>\n",
       "    <tr>\n",
       "      <th>2</th>\n",
       "      <td>3</td>\n",
       "      <td>서현경</td>\n",
       "      <td>2020-03-03</td>\n",
       "      <td>76.000000</td>\n",
       "      <td>kg</td>\n",
       "      <td>최현경</td>\n",
       "      <td>여의도</td>\n",
       "      <td>76.000000</td>\n",
       "      <td>76.000000</td>\n",
       "    </tr>\n",
       "    <tr>\n",
       "      <th>3</th>\n",
       "      <td>4</td>\n",
       "      <td>서현경</td>\n",
       "      <td>2020-03-04</td>\n",
       "      <td>75.833333</td>\n",
       "      <td>kg</td>\n",
       "      <td>최현경</td>\n",
       "      <td>여의도</td>\n",
       "      <td>75.833333</td>\n",
       "      <td>75.833333</td>\n",
       "    </tr>\n",
       "    <tr>\n",
       "      <th>4</th>\n",
       "      <td>5</td>\n",
       "      <td>서현경</td>\n",
       "      <td>2020-03-05</td>\n",
       "      <td>76.200000</td>\n",
       "      <td>kg</td>\n",
       "      <td>김현경</td>\n",
       "      <td>강남구</td>\n",
       "      <td>76.200000</td>\n",
       "      <td>76.200000</td>\n",
       "    </tr>\n",
       "    <tr>\n",
       "      <th>5</th>\n",
       "      <td>6</td>\n",
       "      <td>서현경</td>\n",
       "      <td>2020-03-06</td>\n",
       "      <td>75.700000</td>\n",
       "      <td>kg</td>\n",
       "      <td>최현경</td>\n",
       "      <td>서초구</td>\n",
       "      <td>75.700000</td>\n",
       "      <td>75.700000</td>\n",
       "    </tr>\n",
       "    <tr>\n",
       "      <th>6</th>\n",
       "      <td>7</td>\n",
       "      <td>서현경</td>\n",
       "      <td>2020-03-07</td>\n",
       "      <td>75.833333</td>\n",
       "      <td>kg</td>\n",
       "      <td>최현경</td>\n",
       "      <td>서초구</td>\n",
       "      <td>75.833333</td>\n",
       "      <td>75.833333</td>\n",
       "    </tr>\n",
       "    <tr>\n",
       "      <th>7</th>\n",
       "      <td>8</td>\n",
       "      <td>서현경</td>\n",
       "      <td>2020-03-08</td>\n",
       "      <td>75.833333</td>\n",
       "      <td>kg</td>\n",
       "      <td>김현경</td>\n",
       "      <td>서초구</td>\n",
       "      <td>75.833333</td>\n",
       "      <td>75.833333</td>\n",
       "    </tr>\n",
       "    <tr>\n",
       "      <th>8</th>\n",
       "      <td>9</td>\n",
       "      <td>서현경</td>\n",
       "      <td>2020-03-09</td>\n",
       "      <td>75.000000</td>\n",
       "      <td>kg</td>\n",
       "      <td>김현경</td>\n",
       "      <td>서초구</td>\n",
       "      <td>75.000000</td>\n",
       "      <td>75.000000</td>\n",
       "    </tr>\n",
       "  </tbody>\n",
       "</table>\n",
       "</div>"
      ],
      "text/plain": [
       "   회차   이름         측정일        몸무게  단위   담당   지점          얍     몸무게 처리\n",
       "0   1  서현경  2020-03-01  76.400000  kg  박현경  관악구  76.400000  76.400000\n",
       "1   2  서현경  2020-03-02  75.700000  kg  김현경  관악구  75.700000  75.700000\n",
       "2   3  서현경  2020-03-03  76.000000  kg  최현경  여의도  76.000000  76.000000\n",
       "3   4  서현경  2020-03-04  75.833333  kg  최현경  여의도  75.833333  75.833333\n",
       "4   5  서현경  2020-03-05  76.200000  kg  김현경  강남구  76.200000  76.200000\n",
       "5   6  서현경  2020-03-06  75.700000  kg  최현경  서초구  75.700000  75.700000\n",
       "6   7  서현경  2020-03-07  75.833333  kg  최현경  서초구  75.833333  75.833333\n",
       "7   8  서현경  2020-03-08  75.833333  kg  김현경  서초구  75.833333  75.833333\n",
       "8   9  서현경  2020-03-09  75.000000  kg  김현경  서초구  75.000000  75.000000"
      ]
     },
     "execution_count": 33,
     "metadata": {},
     "output_type": "execute_result"
    }
   ],
   "source": [
    "data[\"몸무게 처리\"]=data[\"몸무게\"].fillna(data[\"몸무게\"].mean())\n",
    "\n",
    "data\n",
    "\n",
    "#얍이라는 새로운 컬럼을 만들었음 "
   ]
  },
  {
   "cell_type": "code",
   "execution_count": 34,
   "metadata": {},
   "outputs": [
    {
     "data": {
      "text/plain": [
       "0    76.400000\n",
       "1    75.700000\n",
       "2    76.000000\n",
       "3    75.833333\n",
       "4    76.200000\n",
       "5    75.700000\n",
       "6    75.833333\n",
       "7    75.833333\n",
       "8    75.000000\n",
       "Name: 몸무게, dtype: float64"
      ]
     },
     "execution_count": 34,
     "metadata": {},
     "output_type": "execute_result"
    }
   ],
   "source": [
    "data[\"몸무게\"]"
   ]
  },
  {
   "cell_type": "markdown",
   "metadata": {},
   "source": [
    "하지만 실제 NaN값이 바뀌지 않음!!!\n",
    "-> 그렇게 하기 위해서 다시 data[\"몸무게\"]에 결과를 넣어야 함."
   ]
  },
  {
   "cell_type": "code",
   "execution_count": 32,
   "metadata": {},
   "outputs": [
    {
     "data": {
      "text/html": [
       "<div>\n",
       "<style scoped>\n",
       "    .dataframe tbody tr th:only-of-type {\n",
       "        vertical-align: middle;\n",
       "    }\n",
       "\n",
       "    .dataframe tbody tr th {\n",
       "        vertical-align: top;\n",
       "    }\n",
       "\n",
       "    .dataframe thead th {\n",
       "        text-align: right;\n",
       "    }\n",
       "</style>\n",
       "<table border=\"1\" class=\"dataframe\">\n",
       "  <thead>\n",
       "    <tr style=\"text-align: right;\">\n",
       "      <th></th>\n",
       "      <th>회차</th>\n",
       "      <th>이름</th>\n",
       "      <th>측정일</th>\n",
       "      <th>몸무게</th>\n",
       "      <th>단위</th>\n",
       "      <th>담당</th>\n",
       "      <th>지점</th>\n",
       "      <th>얍</th>\n",
       "    </tr>\n",
       "  </thead>\n",
       "  <tbody>\n",
       "    <tr>\n",
       "      <th>0</th>\n",
       "      <td>1</td>\n",
       "      <td>서현경</td>\n",
       "      <td>2020-03-01</td>\n",
       "      <td>76.400000</td>\n",
       "      <td>kg</td>\n",
       "      <td>박현경</td>\n",
       "      <td>관악구</td>\n",
       "      <td>76.400000</td>\n",
       "    </tr>\n",
       "    <tr>\n",
       "      <th>1</th>\n",
       "      <td>2</td>\n",
       "      <td>서현경</td>\n",
       "      <td>2020-03-02</td>\n",
       "      <td>75.700000</td>\n",
       "      <td>kg</td>\n",
       "      <td>김현경</td>\n",
       "      <td>관악구</td>\n",
       "      <td>75.700000</td>\n",
       "    </tr>\n",
       "    <tr>\n",
       "      <th>2</th>\n",
       "      <td>3</td>\n",
       "      <td>서현경</td>\n",
       "      <td>2020-03-03</td>\n",
       "      <td>76.000000</td>\n",
       "      <td>kg</td>\n",
       "      <td>최현경</td>\n",
       "      <td>여의도</td>\n",
       "      <td>76.000000</td>\n",
       "    </tr>\n",
       "    <tr>\n",
       "      <th>3</th>\n",
       "      <td>4</td>\n",
       "      <td>서현경</td>\n",
       "      <td>2020-03-04</td>\n",
       "      <td>75.833333</td>\n",
       "      <td>kg</td>\n",
       "      <td>최현경</td>\n",
       "      <td>여의도</td>\n",
       "      <td>75.833333</td>\n",
       "    </tr>\n",
       "    <tr>\n",
       "      <th>4</th>\n",
       "      <td>5</td>\n",
       "      <td>서현경</td>\n",
       "      <td>2020-03-05</td>\n",
       "      <td>76.200000</td>\n",
       "      <td>kg</td>\n",
       "      <td>김현경</td>\n",
       "      <td>강남구</td>\n",
       "      <td>76.200000</td>\n",
       "    </tr>\n",
       "    <tr>\n",
       "      <th>5</th>\n",
       "      <td>6</td>\n",
       "      <td>서현경</td>\n",
       "      <td>2020-03-06</td>\n",
       "      <td>75.700000</td>\n",
       "      <td>kg</td>\n",
       "      <td>최현경</td>\n",
       "      <td>서초구</td>\n",
       "      <td>75.700000</td>\n",
       "    </tr>\n",
       "    <tr>\n",
       "      <th>6</th>\n",
       "      <td>7</td>\n",
       "      <td>서현경</td>\n",
       "      <td>2020-03-07</td>\n",
       "      <td>75.833333</td>\n",
       "      <td>kg</td>\n",
       "      <td>최현경</td>\n",
       "      <td>서초구</td>\n",
       "      <td>75.833333</td>\n",
       "    </tr>\n",
       "    <tr>\n",
       "      <th>7</th>\n",
       "      <td>8</td>\n",
       "      <td>서현경</td>\n",
       "      <td>2020-03-08</td>\n",
       "      <td>75.833333</td>\n",
       "      <td>kg</td>\n",
       "      <td>김현경</td>\n",
       "      <td>서초구</td>\n",
       "      <td>75.833333</td>\n",
       "    </tr>\n",
       "    <tr>\n",
       "      <th>8</th>\n",
       "      <td>9</td>\n",
       "      <td>서현경</td>\n",
       "      <td>2020-03-09</td>\n",
       "      <td>75.000000</td>\n",
       "      <td>kg</td>\n",
       "      <td>김현경</td>\n",
       "      <td>서초구</td>\n",
       "      <td>75.000000</td>\n",
       "    </tr>\n",
       "  </tbody>\n",
       "</table>\n",
       "</div>"
      ],
      "text/plain": [
       "   회차   이름         측정일        몸무게  단위   담당   지점          얍\n",
       "0   1  서현경  2020-03-01  76.400000  kg  박현경  관악구  76.400000\n",
       "1   2  서현경  2020-03-02  75.700000  kg  김현경  관악구  75.700000\n",
       "2   3  서현경  2020-03-03  76.000000  kg  최현경  여의도  76.000000\n",
       "3   4  서현경  2020-03-04  75.833333  kg  최현경  여의도  75.833333\n",
       "4   5  서현경  2020-03-05  76.200000  kg  김현경  강남구  76.200000\n",
       "5   6  서현경  2020-03-06  75.700000  kg  최현경  서초구  75.700000\n",
       "6   7  서현경  2020-03-07  75.833333  kg  최현경  서초구  75.833333\n",
       "7   8  서현경  2020-03-08  75.833333  kg  김현경  서초구  75.833333\n",
       "8   9  서현경  2020-03-09  75.000000  kg  김현경  서초구  75.000000"
      ]
     },
     "execution_count": 32,
     "metadata": {},
     "output_type": "execute_result"
    }
   ],
   "source": [
    "data[\"몸무게\"]=data[\"몸무게\"].fillna(data[\"몸무게\"].mean())\n",
    "\n",
    "data"
   ]
  },
  {
   "cell_type": "markdown",
   "metadata": {},
   "source": [
    "없는 컬럼에 값을 넣으면 컬럼이 생기면서 값들이 업데이트 된다."
   ]
  },
  {
   "cell_type": "code",
   "execution_count": 35,
   "metadata": {},
   "outputs": [
    {
     "data": {
      "text/plain": [
       "0    2020-03-01\n",
       "1    2020-03-02\n",
       "2    2020-03-03\n",
       "3    2020-03-04\n",
       "4    2020-03-05\n",
       "5    2020-03-06\n",
       "6    2020-03-07\n",
       "7    2020-03-08\n",
       "8    2020-03-09\n",
       "Name: 측정일, dtype: object"
      ]
     },
     "execution_count": 35,
     "metadata": {},
     "output_type": "execute_result"
    }
   ],
   "source": [
    "data[\"측정일\"]"
   ]
  },
  {
   "cell_type": "markdown",
   "metadata": {},
   "source": [
    "data type = object (글자) \n",
    "-> 날짜 모양인 문자임"
   ]
  },
  {
   "cell_type": "markdown",
   "metadata": {},
   "source": [
    "pandas.to_datetime() : object를 넘기면 날짜형으로 형변환을 시켜줌"
   ]
  },
  {
   "cell_type": "code",
   "execution_count": 36,
   "metadata": {},
   "outputs": [
    {
     "data": {
      "text/plain": [
       "0   2020-03-01\n",
       "1   2020-03-02\n",
       "2   2020-03-03\n",
       "3   2020-03-04\n",
       "4   2020-03-05\n",
       "5   2020-03-06\n",
       "6   2020-03-07\n",
       "7   2020-03-08\n",
       "8   2020-03-09\n",
       "Name: 측정일, dtype: datetime64[ns]"
      ]
     },
     "execution_count": 36,
     "metadata": {},
     "output_type": "execute_result"
    }
   ],
   "source": [
    "pd.to_datetime(data[\"측정일\"])"
   ]
  },
  {
   "cell_type": "code",
   "execution_count": 38,
   "metadata": {},
   "outputs": [
    {
     "data": {
      "text/plain": [
       "0   2020-03-01\n",
       "1   2020-03-02\n",
       "2   2020-03-03\n",
       "3   2020-03-04\n",
       "4   2020-03-05\n",
       "5   2020-03-06\n",
       "6   2020-03-07\n",
       "7   2020-03-08\n",
       "8   2020-03-09\n",
       "Name: 측정일, dtype: datetime64[ns]"
      ]
     },
     "execution_count": 38,
     "metadata": {},
     "output_type": "execute_result"
    }
   ],
   "source": [
    "data[\"측정일\"]=pd.to_datetime(data[\"측정일\"])\n",
    "\n",
    "data[\"측정일\"]"
   ]
  },
  {
   "cell_type": "code",
   "execution_count": 39,
   "metadata": {},
   "outputs": [
    {
     "data": {
      "text/plain": [
       "0    3\n",
       "1    3\n",
       "2    3\n",
       "3    3\n",
       "4    3\n",
       "5    3\n",
       "6    3\n",
       "7    3\n",
       "8    3\n",
       "Name: 측정일, dtype: int64"
      ]
     },
     "execution_count": 39,
     "metadata": {},
     "output_type": "execute_result"
    }
   ],
   "source": [
    "data[\"측정일\"].dt.month\n"
   ]
  },
  {
   "cell_type": "code",
   "execution_count": 41,
   "metadata": {},
   "outputs": [
    {
     "data": {
      "text/plain": [
       "0    1\n",
       "1    2\n",
       "2    3\n",
       "3    4\n",
       "4    5\n",
       "5    6\n",
       "6    7\n",
       "7    8\n",
       "8    9\n",
       "Name: 측정일, dtype: int64"
      ]
     },
     "execution_count": 41,
     "metadata": {},
     "output_type": "execute_result"
    }
   ],
   "source": [
    "data[\"측정일\"].dt.day"
   ]
  },
  {
   "cell_type": "code",
   "execution_count": 43,
   "metadata": {},
   "outputs": [
    {
     "data": {
      "text/plain": [
       "0    6\n",
       "1    0\n",
       "2    1\n",
       "3    2\n",
       "4    3\n",
       "5    4\n",
       "6    5\n",
       "7    6\n",
       "8    0\n",
       "Name: 측정일, dtype: int64"
      ]
     },
     "execution_count": 43,
     "metadata": {},
     "output_type": "execute_result"
    }
   ],
   "source": [
    "data[\"측정일\"].dt.dayofweek\n",
    "\n",
    "#0이 월요일 6이 일요일 "
   ]
  },
  {
   "cell_type": "markdown",
   "metadata": {},
   "source": [
    "# 행 "
   ]
  },
  {
   "cell_type": "code",
   "execution_count": 44,
   "metadata": {},
   "outputs": [
    {
     "data": {
      "text/plain": [
       "RangeIndex(start=0, stop=9, step=1)"
      ]
     },
     "execution_count": 44,
     "metadata": {},
     "output_type": "execute_result"
    }
   ],
   "source": [
    "data.index"
   ]
  },
  {
   "cell_type": "code",
   "execution_count": 45,
   "metadata": {},
   "outputs": [
    {
     "data": {
      "text/plain": [
       "array([[1, '서현경', Timestamp('2020-03-01 00:00:00'), 76.4, 'kg', '박현경',\n",
       "        '관악구', 76.4, 76.4],\n",
       "       [2, '서현경', Timestamp('2020-03-02 00:00:00'), 75.7, 'kg', '김현경',\n",
       "        '관악구', 75.7, 75.7],\n",
       "       [3, '서현경', Timestamp('2020-03-03 00:00:00'), 76.0, 'kg', '최현경',\n",
       "        '여의도', 76.0, 76.0],\n",
       "       [4, '서현경', Timestamp('2020-03-04 00:00:00'), 75.83333333333333,\n",
       "        'kg', '최현경', '여의도', 75.83333333333333, 75.83333333333333],\n",
       "       [5, '서현경', Timestamp('2020-03-05 00:00:00'), 76.2, 'kg', '김현경',\n",
       "        '강남구', 76.2, 76.2],\n",
       "       [6, '서현경', Timestamp('2020-03-06 00:00:00'), 75.7, 'kg', '최현경',\n",
       "        '서초구', 75.7, 75.7],\n",
       "       [7, '서현경', Timestamp('2020-03-07 00:00:00'), 75.83333333333333,\n",
       "        'kg', '최현경', '서초구', 75.83333333333333, 75.83333333333333],\n",
       "       [8, '서현경', Timestamp('2020-03-08 00:00:00'), 75.83333333333333,\n",
       "        'kg', '김현경', '서초구', 75.83333333333333, 75.83333333333333],\n",
       "       [9, '서현경', Timestamp('2020-03-09 00:00:00'), 75.0, 'kg', '김현경',\n",
       "        '서초구', 75.0, 75.0]], dtype=object)"
      ]
     },
     "execution_count": 45,
     "metadata": {},
     "output_type": "execute_result"
    }
   ],
   "source": [
    "data.values"
   ]
  },
  {
   "cell_type": "code",
   "execution_count": 49,
   "metadata": {},
   "outputs": [
    {
     "data": {
      "text/plain": [
       "회차                          1\n",
       "이름                        서현경\n",
       "측정일       2020-03-01 00:00:00\n",
       "몸무게                      76.4\n",
       "단위                         kg\n",
       "담당                        박현경\n",
       "지점                        관악구\n",
       "얍                        76.4\n",
       "몸무게 처리                   76.4\n",
       "Name: 0, dtype: object"
      ]
     },
     "execution_count": 49,
     "metadata": {},
     "output_type": "execute_result"
    }
   ],
   "source": [
    "data.loc[0,]\n",
    "\n",
    "#가로 세로를 넣을 수 있다."
   ]
  },
  {
   "cell_type": "code",
   "execution_count": 51,
   "metadata": {},
   "outputs": [
    {
     "data": {
      "text/html": [
       "<div>\n",
       "<style scoped>\n",
       "    .dataframe tbody tr th:only-of-type {\n",
       "        vertical-align: middle;\n",
       "    }\n",
       "\n",
       "    .dataframe tbody tr th {\n",
       "        vertical-align: top;\n",
       "    }\n",
       "\n",
       "    .dataframe thead th {\n",
       "        text-align: right;\n",
       "    }\n",
       "</style>\n",
       "<table border=\"1\" class=\"dataframe\">\n",
       "  <thead>\n",
       "    <tr style=\"text-align: right;\">\n",
       "      <th></th>\n",
       "      <th>회차</th>\n",
       "      <th>이름</th>\n",
       "      <th>측정일</th>\n",
       "      <th>몸무게</th>\n",
       "      <th>단위</th>\n",
       "      <th>담당</th>\n",
       "      <th>지점</th>\n",
       "      <th>얍</th>\n",
       "      <th>몸무게 처리</th>\n",
       "    </tr>\n",
       "  </thead>\n",
       "  <tbody>\n",
       "    <tr>\n",
       "      <th>0</th>\n",
       "      <td>1</td>\n",
       "      <td>서현경</td>\n",
       "      <td>2020-03-01</td>\n",
       "      <td>76.400000</td>\n",
       "      <td>kg</td>\n",
       "      <td>박현경</td>\n",
       "      <td>관악구</td>\n",
       "      <td>76.400000</td>\n",
       "      <td>76.400000</td>\n",
       "    </tr>\n",
       "    <tr>\n",
       "      <th>1</th>\n",
       "      <td>2</td>\n",
       "      <td>서현경</td>\n",
       "      <td>2020-03-02</td>\n",
       "      <td>75.700000</td>\n",
       "      <td>kg</td>\n",
       "      <td>김현경</td>\n",
       "      <td>관악구</td>\n",
       "      <td>75.700000</td>\n",
       "      <td>75.700000</td>\n",
       "    </tr>\n",
       "    <tr>\n",
       "      <th>2</th>\n",
       "      <td>3</td>\n",
       "      <td>서현경</td>\n",
       "      <td>2020-03-03</td>\n",
       "      <td>76.000000</td>\n",
       "      <td>kg</td>\n",
       "      <td>최현경</td>\n",
       "      <td>여의도</td>\n",
       "      <td>76.000000</td>\n",
       "      <td>76.000000</td>\n",
       "    </tr>\n",
       "    <tr>\n",
       "      <th>3</th>\n",
       "      <td>4</td>\n",
       "      <td>서현경</td>\n",
       "      <td>2020-03-04</td>\n",
       "      <td>75.833333</td>\n",
       "      <td>kg</td>\n",
       "      <td>최현경</td>\n",
       "      <td>여의도</td>\n",
       "      <td>75.833333</td>\n",
       "      <td>75.833333</td>\n",
       "    </tr>\n",
       "    <tr>\n",
       "      <th>4</th>\n",
       "      <td>5</td>\n",
       "      <td>서현경</td>\n",
       "      <td>2020-03-05</td>\n",
       "      <td>76.200000</td>\n",
       "      <td>kg</td>\n",
       "      <td>김현경</td>\n",
       "      <td>강남구</td>\n",
       "      <td>76.200000</td>\n",
       "      <td>76.200000</td>\n",
       "    </tr>\n",
       "    <tr>\n",
       "      <th>5</th>\n",
       "      <td>6</td>\n",
       "      <td>서현경</td>\n",
       "      <td>2020-03-06</td>\n",
       "      <td>75.700000</td>\n",
       "      <td>kg</td>\n",
       "      <td>최현경</td>\n",
       "      <td>서초구</td>\n",
       "      <td>75.700000</td>\n",
       "      <td>75.700000</td>\n",
       "    </tr>\n",
       "    <tr>\n",
       "      <th>6</th>\n",
       "      <td>7</td>\n",
       "      <td>서현경</td>\n",
       "      <td>2020-03-07</td>\n",
       "      <td>75.833333</td>\n",
       "      <td>kg</td>\n",
       "      <td>최현경</td>\n",
       "      <td>서초구</td>\n",
       "      <td>75.833333</td>\n",
       "      <td>75.833333</td>\n",
       "    </tr>\n",
       "    <tr>\n",
       "      <th>7</th>\n",
       "      <td>8</td>\n",
       "      <td>서현경</td>\n",
       "      <td>2020-03-08</td>\n",
       "      <td>75.833333</td>\n",
       "      <td>kg</td>\n",
       "      <td>김현경</td>\n",
       "      <td>서초구</td>\n",
       "      <td>75.833333</td>\n",
       "      <td>75.833333</td>\n",
       "    </tr>\n",
       "    <tr>\n",
       "      <th>8</th>\n",
       "      <td>9</td>\n",
       "      <td>서현경</td>\n",
       "      <td>2020-03-09</td>\n",
       "      <td>75.000000</td>\n",
       "      <td>kg</td>\n",
       "      <td>김현경</td>\n",
       "      <td>서초구</td>\n",
       "      <td>75.000000</td>\n",
       "      <td>75.000000</td>\n",
       "    </tr>\n",
       "  </tbody>\n",
       "</table>\n",
       "</div>"
      ],
      "text/plain": [
       "   회차   이름        측정일        몸무게  단위   담당   지점          얍     몸무게 처리\n",
       "0   1  서현경 2020-03-01  76.400000  kg  박현경  관악구  76.400000  76.400000\n",
       "1   2  서현경 2020-03-02  75.700000  kg  김현경  관악구  75.700000  75.700000\n",
       "2   3  서현경 2020-03-03  76.000000  kg  최현경  여의도  76.000000  76.000000\n",
       "3   4  서현경 2020-03-04  75.833333  kg  최현경  여의도  75.833333  75.833333\n",
       "4   5  서현경 2020-03-05  76.200000  kg  김현경  강남구  76.200000  76.200000\n",
       "5   6  서현경 2020-03-06  75.700000  kg  최현경  서초구  75.700000  75.700000\n",
       "6   7  서현경 2020-03-07  75.833333  kg  최현경  서초구  75.833333  75.833333\n",
       "7   8  서현경 2020-03-08  75.833333  kg  김현경  서초구  75.833333  75.833333\n",
       "8   9  서현경 2020-03-09  75.000000  kg  김현경  서초구  75.000000  75.000000"
      ]
     },
     "execution_count": 51,
     "metadata": {},
     "output_type": "execute_result"
    }
   ],
   "source": [
    "data.loc[0:]"
   ]
  },
  {
   "cell_type": "code",
   "execution_count": 54,
   "metadata": {},
   "outputs": [
    {
     "data": {
      "text/plain": [
       "Timestamp('2020-03-02 00:00:00')"
      ]
     },
     "execution_count": 54,
     "metadata": {},
     "output_type": "execute_result"
    }
   ],
   "source": [
    "data.loc[1,\"측정일\"]"
   ]
  },
  {
   "cell_type": "markdown",
   "metadata": {},
   "source": [
    "첫번째 인자로 index값을 넣고 두번째 인자로는 column의 값을 넣는다.\n",
    "index값만 넣기 O\n",
    "column값만 넣기 X\n",
    "\n",
    "우선적으로 index값이 들어가야 함 "
   ]
  },
  {
   "cell_type": "markdown",
   "metadata": {},
   "source": [
    "# 색인 "
   ]
  },
  {
   "cell_type": "code",
   "execution_count": 57,
   "metadata": {},
   "outputs": [
    {
     "data": {
      "text/html": [
       "<div>\n",
       "<style scoped>\n",
       "    .dataframe tbody tr th:only-of-type {\n",
       "        vertical-align: middle;\n",
       "    }\n",
       "\n",
       "    .dataframe tbody tr th {\n",
       "        vertical-align: top;\n",
       "    }\n",
       "\n",
       "    .dataframe thead th {\n",
       "        text-align: right;\n",
       "    }\n",
       "</style>\n",
       "<table border=\"1\" class=\"dataframe\">\n",
       "  <thead>\n",
       "    <tr style=\"text-align: right;\">\n",
       "      <th></th>\n",
       "      <th>회차</th>\n",
       "      <th>이름</th>\n",
       "      <th>측정일</th>\n",
       "      <th>몸무게</th>\n",
       "      <th>단위</th>\n",
       "      <th>담당</th>\n",
       "      <th>지점</th>\n",
       "      <th>얍</th>\n",
       "      <th>몸무게 처리</th>\n",
       "    </tr>\n",
       "  </thead>\n",
       "  <tbody>\n",
       "    <tr>\n",
       "      <th>0</th>\n",
       "      <td>1</td>\n",
       "      <td>서현경</td>\n",
       "      <td>2020-03-01</td>\n",
       "      <td>76.4</td>\n",
       "      <td>kg</td>\n",
       "      <td>박현경</td>\n",
       "      <td>관악구</td>\n",
       "      <td>76.4</td>\n",
       "      <td>76.4</td>\n",
       "    </tr>\n",
       "    <tr>\n",
       "      <th>4</th>\n",
       "      <td>5</td>\n",
       "      <td>서현경</td>\n",
       "      <td>2020-03-05</td>\n",
       "      <td>76.2</td>\n",
       "      <td>kg</td>\n",
       "      <td>김현경</td>\n",
       "      <td>강남구</td>\n",
       "      <td>76.2</td>\n",
       "      <td>76.2</td>\n",
       "    </tr>\n",
       "  </tbody>\n",
       "</table>\n",
       "</div>"
      ],
      "text/plain": [
       "   회차   이름        측정일   몸무게  단위   담당   지점     얍  몸무게 처리\n",
       "0   1  서현경 2020-03-01  76.4  kg  박현경  관악구  76.4    76.4\n",
       "4   5  서현경 2020-03-05  76.2  kg  김현경  강남구  76.2    76.2"
      ]
     },
     "execution_count": 57,
     "metadata": {},
     "output_type": "execute_result"
    }
   ],
   "source": [
    "# 만족하는 조건을 col안에 넣기\n",
    "\n",
    "data[data[\"몸무게\"]>76]\n",
    "\n",
    "# true에 해당하는 값만 나온다."
   ]
  },
  {
   "cell_type": "code",
   "execution_count": 59,
   "metadata": {},
   "outputs": [
    {
     "data": {
      "text/plain": [
       "0     True\n",
       "1    False\n",
       "2    False\n",
       "3    False\n",
       "4     True\n",
       "5    False\n",
       "6    False\n",
       "7    False\n",
       "8    False\n",
       "Name: 몸무게, dtype: bool"
      ]
     },
     "execution_count": 59,
     "metadata": {},
     "output_type": "execute_result"
    }
   ],
   "source": [
    "data[\"몸무게\"]>76"
   ]
  },
  {
   "cell_type": "code",
   "execution_count": 63,
   "metadata": {},
   "outputs": [
    {
     "data": {
      "text/plain": [
       "0     True\n",
       "1    False\n",
       "2    False\n",
       "3    False\n",
       "4    False\n",
       "5    False\n",
       "6    False\n",
       "7    False\n",
       "8    False\n",
       "dtype: bool"
      ]
     },
     "execution_count": 63,
     "metadata": {},
     "output_type": "execute_result"
    }
   ],
   "source": [
    "(data[\"몸무게\"] >76) & (data[\"지점\"]==\"관악구\")"
   ]
  },
  {
   "cell_type": "markdown",
   "metadata": {},
   "source": [
    "pandas에서는 and -> & 이고\n",
    "             or -> | 이다. "
   ]
  },
  {
   "cell_type": "code",
   "execution_count": 64,
   "metadata": {},
   "outputs": [
    {
     "data": {
      "text/html": [
       "<div>\n",
       "<style scoped>\n",
       "    .dataframe tbody tr th:only-of-type {\n",
       "        vertical-align: middle;\n",
       "    }\n",
       "\n",
       "    .dataframe tbody tr th {\n",
       "        vertical-align: top;\n",
       "    }\n",
       "\n",
       "    .dataframe thead th {\n",
       "        text-align: right;\n",
       "    }\n",
       "</style>\n",
       "<table border=\"1\" class=\"dataframe\">\n",
       "  <thead>\n",
       "    <tr style=\"text-align: right;\">\n",
       "      <th></th>\n",
       "      <th>회차</th>\n",
       "      <th>이름</th>\n",
       "      <th>측정일</th>\n",
       "      <th>몸무게</th>\n",
       "      <th>단위</th>\n",
       "      <th>담당</th>\n",
       "      <th>지점</th>\n",
       "      <th>얍</th>\n",
       "      <th>몸무게 처리</th>\n",
       "    </tr>\n",
       "  </thead>\n",
       "  <tbody>\n",
       "    <tr>\n",
       "      <th>0</th>\n",
       "      <td>1</td>\n",
       "      <td>서현경</td>\n",
       "      <td>2020-03-01</td>\n",
       "      <td>76.4</td>\n",
       "      <td>kg</td>\n",
       "      <td>박현경</td>\n",
       "      <td>관악구</td>\n",
       "      <td>76.4</td>\n",
       "      <td>76.4</td>\n",
       "    </tr>\n",
       "  </tbody>\n",
       "</table>\n",
       "</div>"
      ],
      "text/plain": [
       "   회차   이름        측정일   몸무게  단위   담당   지점     얍  몸무게 처리\n",
       "0   1  서현경 2020-03-01  76.4  kg  박현경  관악구  76.4    76.4"
      ]
     },
     "execution_count": 64,
     "metadata": {},
     "output_type": "execute_result"
    }
   ],
   "source": [
    "data[(data[\"몸무게\"] >76) & (data[\"지점\"]==\"관악구\")]\n",
    "\n",
    "data.loc[data[(data[\"몸무게\"] >76) & (data[\"지점\"]==\"관악구\")]]\n",
    "\n",
    "#위의 것과 똑같음. "
   ]
  },
  {
   "cell_type": "code",
   "execution_count": 84,
   "metadata": {},
   "outputs": [
    {
     "data": {
      "text/html": [
       "<div>\n",
       "<style scoped>\n",
       "    .dataframe tbody tr th:only-of-type {\n",
       "        vertical-align: middle;\n",
       "    }\n",
       "\n",
       "    .dataframe tbody tr th {\n",
       "        vertical-align: top;\n",
       "    }\n",
       "\n",
       "    .dataframe thead th {\n",
       "        text-align: right;\n",
       "    }\n",
       "</style>\n",
       "<table border=\"1\" class=\"dataframe\">\n",
       "  <thead>\n",
       "    <tr style=\"text-align: right;\">\n",
       "      <th></th>\n",
       "      <th>회차</th>\n",
       "      <th>이름</th>\n",
       "      <th>지점</th>\n",
       "    </tr>\n",
       "  </thead>\n",
       "  <tbody>\n",
       "    <tr>\n",
       "      <th>2</th>\n",
       "      <td>3</td>\n",
       "      <td>서현경</td>\n",
       "      <td>여의도</td>\n",
       "    </tr>\n",
       "    <tr>\n",
       "      <th>3</th>\n",
       "      <td>4</td>\n",
       "      <td>서현경</td>\n",
       "      <td>여의도</td>\n",
       "    </tr>\n",
       "  </tbody>\n",
       "</table>\n",
       "</div>"
      ],
      "text/plain": [
       "   회차   이름   지점\n",
       "2   3  서현경  여의도\n",
       "3   4  서현경  여의도"
      ]
     },
     "execution_count": 84,
     "metadata": {},
     "output_type": "execute_result"
    }
   ],
   "source": [
    "# loc의 index 자리로 조건이 들어갈 수 있음 \n",
    "\n",
    "data.loc[data[\"지점\"].str.contains(\"의\"), [\"회차\",\"이름\",\"지점\"]]"
   ]
  },
  {
   "cell_type": "code",
   "execution_count": 85,
   "metadata": {},
   "outputs": [
    {
     "data": {
      "text/html": [
       "<div>\n",
       "<style scoped>\n",
       "    .dataframe tbody tr th:only-of-type {\n",
       "        vertical-align: middle;\n",
       "    }\n",
       "\n",
       "    .dataframe tbody tr th {\n",
       "        vertical-align: top;\n",
       "    }\n",
       "\n",
       "    .dataframe thead th {\n",
       "        text-align: right;\n",
       "    }\n",
       "</style>\n",
       "<table border=\"1\" class=\"dataframe\">\n",
       "  <thead>\n",
       "    <tr style=\"text-align: right;\">\n",
       "      <th></th>\n",
       "      <th>회차</th>\n",
       "      <th>이름</th>\n",
       "      <th>측정일</th>\n",
       "      <th>몸무게</th>\n",
       "      <th>단위</th>\n",
       "      <th>담당</th>\n",
       "      <th>지점</th>\n",
       "      <th>성명</th>\n",
       "    </tr>\n",
       "  </thead>\n",
       "  <tbody>\n",
       "    <tr>\n",
       "      <th>0</th>\n",
       "      <td>1</td>\n",
       "      <td>서현경</td>\n",
       "      <td>2020-03-01</td>\n",
       "      <td>76.4</td>\n",
       "      <td>kg</td>\n",
       "      <td>박현경</td>\n",
       "      <td>관악구</td>\n",
       "      <td>NaN</td>\n",
       "    </tr>\n",
       "    <tr>\n",
       "      <th>1</th>\n",
       "      <td>2</td>\n",
       "      <td>서현경</td>\n",
       "      <td>2020-03-02</td>\n",
       "      <td>75.7</td>\n",
       "      <td>kg</td>\n",
       "      <td>김현경</td>\n",
       "      <td>관악구</td>\n",
       "      <td>NaN</td>\n",
       "    </tr>\n",
       "    <tr>\n",
       "      <th>2</th>\n",
       "      <td>3</td>\n",
       "      <td>서현경</td>\n",
       "      <td>2020-03-03</td>\n",
       "      <td>76.0</td>\n",
       "      <td>kg</td>\n",
       "      <td>최현경</td>\n",
       "      <td>여의도</td>\n",
       "      <td>1.0</td>\n",
       "    </tr>\n",
       "    <tr>\n",
       "      <th>3</th>\n",
       "      <td>4</td>\n",
       "      <td>서현경</td>\n",
       "      <td>2020-03-04</td>\n",
       "      <td>NaN</td>\n",
       "      <td>kg</td>\n",
       "      <td>최현경</td>\n",
       "      <td>여의도</td>\n",
       "      <td>1.0</td>\n",
       "    </tr>\n",
       "    <tr>\n",
       "      <th>4</th>\n",
       "      <td>5</td>\n",
       "      <td>서현경</td>\n",
       "      <td>2020-03-05</td>\n",
       "      <td>76.2</td>\n",
       "      <td>kg</td>\n",
       "      <td>김현경</td>\n",
       "      <td>강남구</td>\n",
       "      <td>NaN</td>\n",
       "    </tr>\n",
       "    <tr>\n",
       "      <th>5</th>\n",
       "      <td>6</td>\n",
       "      <td>서현경</td>\n",
       "      <td>2020-03-06</td>\n",
       "      <td>75.7</td>\n",
       "      <td>kg</td>\n",
       "      <td>최현경</td>\n",
       "      <td>서초구</td>\n",
       "      <td>NaN</td>\n",
       "    </tr>\n",
       "    <tr>\n",
       "      <th>6</th>\n",
       "      <td>7</td>\n",
       "      <td>서현경</td>\n",
       "      <td>2020-03-07</td>\n",
       "      <td>NaN</td>\n",
       "      <td>kg</td>\n",
       "      <td>최현경</td>\n",
       "      <td>서초구</td>\n",
       "      <td>NaN</td>\n",
       "    </tr>\n",
       "    <tr>\n",
       "      <th>7</th>\n",
       "      <td>8</td>\n",
       "      <td>서현경</td>\n",
       "      <td>2020-03-08</td>\n",
       "      <td>NaN</td>\n",
       "      <td>kg</td>\n",
       "      <td>김현경</td>\n",
       "      <td>서초구</td>\n",
       "      <td>NaN</td>\n",
       "    </tr>\n",
       "    <tr>\n",
       "      <th>8</th>\n",
       "      <td>9</td>\n",
       "      <td>서현경</td>\n",
       "      <td>2020-03-09</td>\n",
       "      <td>75.0</td>\n",
       "      <td>kg</td>\n",
       "      <td>김현경</td>\n",
       "      <td>서초구</td>\n",
       "      <td>NaN</td>\n",
       "    </tr>\n",
       "  </tbody>\n",
       "</table>\n",
       "</div>"
      ],
      "text/plain": [
       "   회차   이름         측정일   몸무게  단위   담당   지점   성명\n",
       "0   1  서현경  2020-03-01  76.4  kg  박현경  관악구  NaN\n",
       "1   2  서현경  2020-03-02  75.7  kg  김현경  관악구  NaN\n",
       "2   3  서현경  2020-03-03  76.0  kg  최현경  여의도  1.0\n",
       "3   4  서현경  2020-03-04   NaN  kg  최현경  여의도  1.0\n",
       "4   5  서현경  2020-03-05  76.2  kg  김현경  강남구  NaN\n",
       "5   6  서현경  2020-03-06  75.7  kg  최현경  서초구  NaN\n",
       "6   7  서현경  2020-03-07   NaN  kg  최현경  서초구  NaN\n",
       "7   8  서현경  2020-03-08   NaN  kg  김현경  서초구  NaN\n",
       "8   9  서현경  2020-03-09  75.0  kg  김현경  서초구  NaN"
      ]
     },
     "execution_count": 85,
     "metadata": {},
     "output_type": "execute_result"
    }
   ],
   "source": [
    "data.loc[data[\"지점\"].str.contains(\"의\"), \"성명\"]=1\n",
    "\n",
    "#없는 컬럼을 column자리에 넣고 값을 할당하면 새로운 컬럼이 생기고 해당 조건을 만족한 \n",
    "#row에 값이 생기고 해당 값이 할당된다.\n",
    "\n",
    "\n",
    "data"
   ]
  },
  {
   "cell_type": "markdown",
   "metadata": {},
   "source": [
    "loc를 할 때 배열형태로 입력해야 2차원 배열의 형태로 리턴된다."
   ]
  },
  {
   "cell_type": "code",
   "execution_count": 65,
   "metadata": {},
   "outputs": [
    {
     "data": {
      "text/plain": [
       "0     True\n",
       "1    False\n",
       "2    False\n",
       "3    False\n",
       "4    False\n",
       "5    False\n",
       "6    False\n",
       "7    False\n",
       "8    False\n",
       "Name: 담당, dtype: bool"
      ]
     },
     "execution_count": 65,
     "metadata": {},
     "output_type": "execute_result"
    }
   ],
   "source": [
    "data[\"담당\"]==\"박현경\"\n",
    "\n",
    "#한 사람을 특정할 경우 "
   ]
  },
  {
   "cell_type": "code",
   "execution_count": 68,
   "metadata": {},
   "outputs": [
    {
     "data": {
      "text/plain": [
       "0     True\n",
       "1    False\n",
       "2    False\n",
       "3    False\n",
       "4    False\n",
       "5    False\n",
       "6    False\n",
       "7    False\n",
       "8    False\n",
       "Name: 담당, dtype: bool"
      ]
     },
     "execution_count": 68,
     "metadata": {},
     "output_type": "execute_result"
    }
   ],
   "source": [
    "#여러 사람(경우)일 경우 -> isin 사용\n",
    "\n",
    "# 인자는 list로 묶어줘야 함 \n",
    "\n",
    "data[\"담당\"].isin([\"박현경\"])"
   ]
  },
  {
   "cell_type": "code",
   "execution_count": 69,
   "metadata": {},
   "outputs": [
    {
     "data": {
      "text/plain": [
       "0     True\n",
       "1     True\n",
       "2    False\n",
       "3    False\n",
       "4     True\n",
       "5    False\n",
       "6    False\n",
       "7     True\n",
       "8     True\n",
       "Name: 담당, dtype: bool"
      ]
     },
     "execution_count": 69,
     "metadata": {},
     "output_type": "execute_result"
    }
   ],
   "source": [
    "data[\"담당\"].isin([\"박현경\",\"김현경\"])"
   ]
  },
  {
   "cell_type": "code",
   "execution_count": 73,
   "metadata": {},
   "outputs": [
    {
     "name": "stdout",
     "output_type": "stream",
     "text": [
      "0    False\n",
      "1    False\n",
      "2     True\n",
      "3     True\n",
      "4    False\n",
      "5    False\n",
      "6    False\n",
      "7    False\n",
      "8    False\n",
      "Name: 지점, dtype: bool\n"
     ]
    },
    {
     "data": {
      "text/plain": [
       "0    관악구\n",
       "1    관악구\n",
       "2    여의도\n",
       "3    여의도\n",
       "4    강남구\n",
       "5    서초구\n",
       "6    서초구\n",
       "7    서초구\n",
       "8    서초구\n",
       "Name: 지점, dtype: object"
      ]
     },
     "execution_count": 73,
     "metadata": {},
     "output_type": "execute_result"
    }
   ],
   "source": [
    "# 전체 문자가 아닌 문자 몇개만 아는 경우 -> str.contains(\"문자열\")\n",
    "print(data[\"지점\"].str.contains(\"의\"))\n",
    "\n",
    "data[\"지점\"]"
   ]
  },
  {
   "cell_type": "code",
   "execution_count": 79,
   "metadata": {},
   "outputs": [
    {
     "name": "stdout",
     "output_type": "stream",
     "text": [
      "   회차   이름         측정일  몸무게  단위   담당   지점\n",
      "3   4  서현경  2020-03-04  NaN  kg  최현경  여의도\n",
      "6   7  서현경  2020-03-07  NaN  kg  최현경  서초구\n",
      "7   8  서현경  2020-03-08  NaN  kg  김현경  서초구\n"
     ]
    }
   ],
   "source": [
    "data[\"몸무게\"].isnull()\n",
    "\n",
    "#null인 NaN값을 bool로 알려줌\n",
    "# isnull과 isna는 쓰임이 같음 \n",
    "print(data[data[\"몸무게\"].isnull()])"
   ]
  },
  {
   "cell_type": "code",
   "execution_count": 80,
   "metadata": {},
   "outputs": [
    {
     "name": "stdout",
     "output_type": "stream",
     "text": [
      "<class 'pandas.core.frame.DataFrame'>\n",
      "RangeIndex: 9 entries, 0 to 8\n",
      "Data columns (total 7 columns):\n",
      " #   Column  Non-Null Count  Dtype  \n",
      "---  ------  --------------  -----  \n",
      " 0   회차      9 non-null      int64  \n",
      " 1   이름      9 non-null      object \n",
      " 2   측정일     9 non-null      object \n",
      " 3   몸무게     6 non-null      float64\n",
      " 4   단위      9 non-null      object \n",
      " 5   담당      9 non-null      object \n",
      " 6   지점      9 non-null      object \n",
      "dtypes: float64(1), int64(1), object(5)\n",
      "memory usage: 632.0+ bytes\n"
     ]
    }
   ],
   "source": [
    "data.info()\n",
    "\n",
    "# 몸무게만 혼자만 6개이니까 null인 것이 개수를 알 수 있음 "
   ]
  },
  {
   "cell_type": "code",
   "execution_count": 81,
   "metadata": {},
   "outputs": [
    {
     "data": {
      "text/html": [
       "<div>\n",
       "<style scoped>\n",
       "    .dataframe tbody tr th:only-of-type {\n",
       "        vertical-align: middle;\n",
       "    }\n",
       "\n",
       "    .dataframe tbody tr th {\n",
       "        vertical-align: top;\n",
       "    }\n",
       "\n",
       "    .dataframe thead th {\n",
       "        text-align: right;\n",
       "    }\n",
       "</style>\n",
       "<table border=\"1\" class=\"dataframe\">\n",
       "  <thead>\n",
       "    <tr style=\"text-align: right;\">\n",
       "      <th></th>\n",
       "      <th>회차</th>\n",
       "      <th>이름</th>\n",
       "      <th>측정일</th>\n",
       "      <th>몸무게</th>\n",
       "      <th>단위</th>\n",
       "      <th>담당</th>\n",
       "      <th>지점</th>\n",
       "    </tr>\n",
       "  </thead>\n",
       "  <tbody>\n",
       "    <tr>\n",
       "      <th>0</th>\n",
       "      <td>False</td>\n",
       "      <td>False</td>\n",
       "      <td>False</td>\n",
       "      <td>False</td>\n",
       "      <td>False</td>\n",
       "      <td>False</td>\n",
       "      <td>False</td>\n",
       "    </tr>\n",
       "    <tr>\n",
       "      <th>1</th>\n",
       "      <td>False</td>\n",
       "      <td>False</td>\n",
       "      <td>False</td>\n",
       "      <td>False</td>\n",
       "      <td>False</td>\n",
       "      <td>False</td>\n",
       "      <td>False</td>\n",
       "    </tr>\n",
       "    <tr>\n",
       "      <th>2</th>\n",
       "      <td>False</td>\n",
       "      <td>False</td>\n",
       "      <td>False</td>\n",
       "      <td>False</td>\n",
       "      <td>False</td>\n",
       "      <td>False</td>\n",
       "      <td>False</td>\n",
       "    </tr>\n",
       "    <tr>\n",
       "      <th>3</th>\n",
       "      <td>False</td>\n",
       "      <td>False</td>\n",
       "      <td>False</td>\n",
       "      <td>True</td>\n",
       "      <td>False</td>\n",
       "      <td>False</td>\n",
       "      <td>False</td>\n",
       "    </tr>\n",
       "    <tr>\n",
       "      <th>4</th>\n",
       "      <td>False</td>\n",
       "      <td>False</td>\n",
       "      <td>False</td>\n",
       "      <td>False</td>\n",
       "      <td>False</td>\n",
       "      <td>False</td>\n",
       "      <td>False</td>\n",
       "    </tr>\n",
       "    <tr>\n",
       "      <th>5</th>\n",
       "      <td>False</td>\n",
       "      <td>False</td>\n",
       "      <td>False</td>\n",
       "      <td>False</td>\n",
       "      <td>False</td>\n",
       "      <td>False</td>\n",
       "      <td>False</td>\n",
       "    </tr>\n",
       "    <tr>\n",
       "      <th>6</th>\n",
       "      <td>False</td>\n",
       "      <td>False</td>\n",
       "      <td>False</td>\n",
       "      <td>True</td>\n",
       "      <td>False</td>\n",
       "      <td>False</td>\n",
       "      <td>False</td>\n",
       "    </tr>\n",
       "    <tr>\n",
       "      <th>7</th>\n",
       "      <td>False</td>\n",
       "      <td>False</td>\n",
       "      <td>False</td>\n",
       "      <td>True</td>\n",
       "      <td>False</td>\n",
       "      <td>False</td>\n",
       "      <td>False</td>\n",
       "    </tr>\n",
       "    <tr>\n",
       "      <th>8</th>\n",
       "      <td>False</td>\n",
       "      <td>False</td>\n",
       "      <td>False</td>\n",
       "      <td>False</td>\n",
       "      <td>False</td>\n",
       "      <td>False</td>\n",
       "      <td>False</td>\n",
       "    </tr>\n",
       "  </tbody>\n",
       "</table>\n",
       "</div>"
      ],
      "text/plain": [
       "      회차     이름    측정일    몸무게     단위     담당     지점\n",
       "0  False  False  False  False  False  False  False\n",
       "1  False  False  False  False  False  False  False\n",
       "2  False  False  False  False  False  False  False\n",
       "3  False  False  False   True  False  False  False\n",
       "4  False  False  False  False  False  False  False\n",
       "5  False  False  False  False  False  False  False\n",
       "6  False  False  False   True  False  False  False\n",
       "7  False  False  False   True  False  False  False\n",
       "8  False  False  False  False  False  False  False"
      ]
     },
     "execution_count": 81,
     "metadata": {},
     "output_type": "execute_result"
    }
   ],
   "source": [
    "data.isna()"
   ]
  },
  {
   "cell_type": "code",
   "execution_count": 82,
   "metadata": {},
   "outputs": [
    {
     "data": {
      "text/plain": [
       "회차     0\n",
       "이름     0\n",
       "측정일    0\n",
       "몸무게    3\n",
       "단위     0\n",
       "담당     0\n",
       "지점     0\n",
       "dtype: int64"
      ]
     },
     "execution_count": 82,
     "metadata": {},
     "output_type": "execute_result"
    }
   ],
   "source": [
    "#1인 애들을 더해서 \n",
    "# data를 읽은 후 NaN값을 알기 위해서 사용된다. \n",
    "data.isna().sum()"
   ]
  },
  {
   "cell_type": "code",
   "execution_count": 83,
   "metadata": {},
   "outputs": [
    {
     "data": {
      "text/html": [
       "<div>\n",
       "<style scoped>\n",
       "    .dataframe tbody tr th:only-of-type {\n",
       "        vertical-align: middle;\n",
       "    }\n",
       "\n",
       "    .dataframe tbody tr th {\n",
       "        vertical-align: top;\n",
       "    }\n",
       "\n",
       "    .dataframe thead th {\n",
       "        text-align: right;\n",
       "    }\n",
       "</style>\n",
       "<table border=\"1\" class=\"dataframe\">\n",
       "  <thead>\n",
       "    <tr style=\"text-align: right;\">\n",
       "      <th></th>\n",
       "      <th>회차</th>\n",
       "      <th>이름</th>\n",
       "      <th>측정일</th>\n",
       "      <th>몸무게</th>\n",
       "      <th>단위</th>\n",
       "      <th>담당</th>\n",
       "      <th>지점</th>\n",
       "    </tr>\n",
       "  </thead>\n",
       "  <tbody>\n",
       "    <tr>\n",
       "      <th>0</th>\n",
       "      <td>True</td>\n",
       "      <td>True</td>\n",
       "      <td>True</td>\n",
       "      <td>True</td>\n",
       "      <td>True</td>\n",
       "      <td>True</td>\n",
       "      <td>True</td>\n",
       "    </tr>\n",
       "    <tr>\n",
       "      <th>1</th>\n",
       "      <td>True</td>\n",
       "      <td>True</td>\n",
       "      <td>True</td>\n",
       "      <td>True</td>\n",
       "      <td>True</td>\n",
       "      <td>True</td>\n",
       "      <td>True</td>\n",
       "    </tr>\n",
       "    <tr>\n",
       "      <th>2</th>\n",
       "      <td>True</td>\n",
       "      <td>True</td>\n",
       "      <td>True</td>\n",
       "      <td>True</td>\n",
       "      <td>True</td>\n",
       "      <td>True</td>\n",
       "      <td>True</td>\n",
       "    </tr>\n",
       "    <tr>\n",
       "      <th>3</th>\n",
       "      <td>True</td>\n",
       "      <td>True</td>\n",
       "      <td>True</td>\n",
       "      <td>False</td>\n",
       "      <td>True</td>\n",
       "      <td>True</td>\n",
       "      <td>True</td>\n",
       "    </tr>\n",
       "    <tr>\n",
       "      <th>4</th>\n",
       "      <td>True</td>\n",
       "      <td>True</td>\n",
       "      <td>True</td>\n",
       "      <td>True</td>\n",
       "      <td>True</td>\n",
       "      <td>True</td>\n",
       "      <td>True</td>\n",
       "    </tr>\n",
       "    <tr>\n",
       "      <th>5</th>\n",
       "      <td>True</td>\n",
       "      <td>True</td>\n",
       "      <td>True</td>\n",
       "      <td>True</td>\n",
       "      <td>True</td>\n",
       "      <td>True</td>\n",
       "      <td>True</td>\n",
       "    </tr>\n",
       "    <tr>\n",
       "      <th>6</th>\n",
       "      <td>True</td>\n",
       "      <td>True</td>\n",
       "      <td>True</td>\n",
       "      <td>False</td>\n",
       "      <td>True</td>\n",
       "      <td>True</td>\n",
       "      <td>True</td>\n",
       "    </tr>\n",
       "    <tr>\n",
       "      <th>7</th>\n",
       "      <td>True</td>\n",
       "      <td>True</td>\n",
       "      <td>True</td>\n",
       "      <td>False</td>\n",
       "      <td>True</td>\n",
       "      <td>True</td>\n",
       "      <td>True</td>\n",
       "    </tr>\n",
       "    <tr>\n",
       "      <th>8</th>\n",
       "      <td>True</td>\n",
       "      <td>True</td>\n",
       "      <td>True</td>\n",
       "      <td>True</td>\n",
       "      <td>True</td>\n",
       "      <td>True</td>\n",
       "      <td>True</td>\n",
       "    </tr>\n",
       "  </tbody>\n",
       "</table>\n",
       "</div>"
      ],
      "text/plain": [
       "     회차    이름   측정일    몸무게    단위    담당    지점\n",
       "0  True  True  True   True  True  True  True\n",
       "1  True  True  True   True  True  True  True\n",
       "2  True  True  True   True  True  True  True\n",
       "3  True  True  True  False  True  True  True\n",
       "4  True  True  True   True  True  True  True\n",
       "5  True  True  True   True  True  True  True\n",
       "6  True  True  True  False  True  True  True\n",
       "7  True  True  True  False  True  True  True\n",
       "8  True  True  True   True  True  True  True"
      ]
     },
     "execution_count": 83,
     "metadata": {},
     "output_type": "execute_result"
    }
   ],
   "source": [
    "data.notnull()"
   ]
  },
  {
   "cell_type": "markdown",
   "metadata": {},
   "source": [
    "NaN은 문자열이 아님. 다른 표현방식이기 때문에 ==\"NaN\"을 사용하면 안됨"
   ]
  },
  {
   "cell_type": "markdown",
   "metadata": {},
   "source": [
    "# Pivot table"
   ]
  },
  {
   "cell_type": "code",
   "execution_count": 89,
   "metadata": {},
   "outputs": [
    {
     "data": {
      "text/html": [
       "<div>\n",
       "<style scoped>\n",
       "    .dataframe tbody tr th:only-of-type {\n",
       "        vertical-align: middle;\n",
       "    }\n",
       "\n",
       "    .dataframe tbody tr th {\n",
       "        vertical-align: top;\n",
       "    }\n",
       "\n",
       "    .dataframe thead th {\n",
       "        text-align: right;\n",
       "    }\n",
       "</style>\n",
       "<table border=\"1\" class=\"dataframe\">\n",
       "  <thead>\n",
       "    <tr style=\"text-align: right;\">\n",
       "      <th></th>\n",
       "      <th>몸무게</th>\n",
       "    </tr>\n",
       "    <tr>\n",
       "      <th>지점</th>\n",
       "      <th></th>\n",
       "    </tr>\n",
       "  </thead>\n",
       "  <tbody>\n",
       "    <tr>\n",
       "      <th>강남구</th>\n",
       "      <td>76.20</td>\n",
       "    </tr>\n",
       "    <tr>\n",
       "      <th>관악구</th>\n",
       "      <td>76.05</td>\n",
       "    </tr>\n",
       "    <tr>\n",
       "      <th>서초구</th>\n",
       "      <td>75.35</td>\n",
       "    </tr>\n",
       "    <tr>\n",
       "      <th>여의도</th>\n",
       "      <td>76.00</td>\n",
       "    </tr>\n",
       "  </tbody>\n",
       "</table>\n",
       "</div>"
      ],
      "text/plain": [
       "       몸무게\n",
       "지점        \n",
       "강남구  76.20\n",
       "관악구  76.05\n",
       "서초구  75.35\n",
       "여의도  76.00"
      ]
     },
     "execution_count": 89,
     "metadata": {},
     "output_type": "execute_result"
    }
   ],
   "source": [
    "pd.pivot_table(data, index=\"지점\", values=\"몸무게\" , aggfunc='mean')\n",
    "#내가 사용하는 data, index= 칼럼명, 몸무게를 더해줄까 평균내줄까 뭐해줄까"
   ]
  },
  {
   "cell_type": "code",
   "execution_count": 90,
   "metadata": {},
   "outputs": [
    {
     "data": {
      "text/html": [
       "<div>\n",
       "<style scoped>\n",
       "    .dataframe tbody tr th:only-of-type {\n",
       "        vertical-align: middle;\n",
       "    }\n",
       "\n",
       "    .dataframe tbody tr th {\n",
       "        vertical-align: top;\n",
       "    }\n",
       "\n",
       "    .dataframe thead th {\n",
       "        text-align: right;\n",
       "    }\n",
       "</style>\n",
       "<table border=\"1\" class=\"dataframe\">\n",
       "  <thead>\n",
       "    <tr style=\"text-align: right;\">\n",
       "      <th></th>\n",
       "      <th>몸무게</th>\n",
       "    </tr>\n",
       "    <tr>\n",
       "      <th>지점</th>\n",
       "      <th></th>\n",
       "    </tr>\n",
       "  </thead>\n",
       "  <tbody>\n",
       "    <tr>\n",
       "      <th>강남구</th>\n",
       "      <td>1</td>\n",
       "    </tr>\n",
       "    <tr>\n",
       "      <th>관악구</th>\n",
       "      <td>2</td>\n",
       "    </tr>\n",
       "    <tr>\n",
       "      <th>서초구</th>\n",
       "      <td>2</td>\n",
       "    </tr>\n",
       "    <tr>\n",
       "      <th>여의도</th>\n",
       "      <td>1</td>\n",
       "    </tr>\n",
       "  </tbody>\n",
       "</table>\n",
       "</div>"
      ],
      "text/plain": [
       "     몸무게\n",
       "지점      \n",
       "강남구    1\n",
       "관악구    2\n",
       "서초구    2\n",
       "여의도    1"
      ]
     },
     "execution_count": 90,
     "metadata": {},
     "output_type": "execute_result"
    }
   ],
   "source": [
    "pd.pivot_table(data, index=\"지점\", values=\"몸무게\" , aggfunc='count')"
   ]
  },
  {
   "cell_type": "code",
   "execution_count": 91,
   "metadata": {},
   "outputs": [
    {
     "data": {
      "text/html": [
       "<div>\n",
       "<style scoped>\n",
       "    .dataframe tbody tr th:only-of-type {\n",
       "        vertical-align: middle;\n",
       "    }\n",
       "\n",
       "    .dataframe tbody tr th {\n",
       "        vertical-align: top;\n",
       "    }\n",
       "\n",
       "    .dataframe thead th {\n",
       "        text-align: right;\n",
       "    }\n",
       "</style>\n",
       "<table border=\"1\" class=\"dataframe\">\n",
       "  <thead>\n",
       "    <tr style=\"text-align: right;\">\n",
       "      <th></th>\n",
       "      <th>몸무게</th>\n",
       "    </tr>\n",
       "    <tr>\n",
       "      <th>지점</th>\n",
       "      <th></th>\n",
       "    </tr>\n",
       "  </thead>\n",
       "  <tbody>\n",
       "    <tr>\n",
       "      <th>강남구</th>\n",
       "      <td>76.2</td>\n",
       "    </tr>\n",
       "    <tr>\n",
       "      <th>관악구</th>\n",
       "      <td>152.1</td>\n",
       "    </tr>\n",
       "    <tr>\n",
       "      <th>서초구</th>\n",
       "      <td>150.7</td>\n",
       "    </tr>\n",
       "    <tr>\n",
       "      <th>여의도</th>\n",
       "      <td>76.0</td>\n",
       "    </tr>\n",
       "  </tbody>\n",
       "</table>\n",
       "</div>"
      ],
      "text/plain": [
       "       몸무게\n",
       "지점        \n",
       "강남구   76.2\n",
       "관악구  152.1\n",
       "서초구  150.7\n",
       "여의도   76.0"
      ]
     },
     "execution_count": 91,
     "metadata": {},
     "output_type": "execute_result"
    }
   ],
   "source": [
    "pd.pivot_table(data, index=\"지점\", values=\"몸무게\" , aggfunc='sum')"
   ]
  },
  {
   "cell_type": "code",
   "execution_count": 93,
   "metadata": {},
   "outputs": [],
   "source": [
    "loc_pivot=pd.pivot_table(data, index=\"지점\", values=\"몸무게\" , aggfunc=['mean','sum','count'])\n",
    "\n",
    "# 동시에 다 보고싶을 때 여러개이면 인식을 못하기 때문에 리스트에 넣어서 하나로 만든다"
   ]
  },
  {
   "cell_type": "code",
   "execution_count": 94,
   "metadata": {},
   "outputs": [
    {
     "data": {
      "text/html": [
       "<div>\n",
       "<style scoped>\n",
       "    .dataframe tbody tr th:only-of-type {\n",
       "        vertical-align: middle;\n",
       "    }\n",
       "\n",
       "    .dataframe tbody tr th {\n",
       "        vertical-align: top;\n",
       "    }\n",
       "\n",
       "    .dataframe thead tr th {\n",
       "        text-align: left;\n",
       "    }\n",
       "\n",
       "    .dataframe thead tr:last-of-type th {\n",
       "        text-align: right;\n",
       "    }\n",
       "</style>\n",
       "<table border=\"1\" class=\"dataframe\">\n",
       "  <thead>\n",
       "    <tr>\n",
       "      <th></th>\n",
       "      <th>mean</th>\n",
       "      <th>sum</th>\n",
       "      <th>count</th>\n",
       "    </tr>\n",
       "    <tr>\n",
       "      <th></th>\n",
       "      <th>몸무게</th>\n",
       "      <th>몸무게</th>\n",
       "      <th>몸무게</th>\n",
       "    </tr>\n",
       "    <tr>\n",
       "      <th>지점</th>\n",
       "      <th></th>\n",
       "      <th></th>\n",
       "      <th></th>\n",
       "    </tr>\n",
       "  </thead>\n",
       "  <tbody>\n",
       "    <tr>\n",
       "      <th>강남구</th>\n",
       "      <td>76.20</td>\n",
       "      <td>76.2</td>\n",
       "      <td>1</td>\n",
       "    </tr>\n",
       "    <tr>\n",
       "      <th>관악구</th>\n",
       "      <td>76.05</td>\n",
       "      <td>152.1</td>\n",
       "      <td>2</td>\n",
       "    </tr>\n",
       "    <tr>\n",
       "      <th>서초구</th>\n",
       "      <td>75.35</td>\n",
       "      <td>150.7</td>\n",
       "      <td>2</td>\n",
       "    </tr>\n",
       "    <tr>\n",
       "      <th>여의도</th>\n",
       "      <td>76.00</td>\n",
       "      <td>76.0</td>\n",
       "      <td>1</td>\n",
       "    </tr>\n",
       "  </tbody>\n",
       "</table>\n",
       "</div>"
      ],
      "text/plain": [
       "      mean    sum count\n",
       "       몸무게    몸무게   몸무게\n",
       "지점                     \n",
       "강남구  76.20   76.2     1\n",
       "관악구  76.05  152.1     2\n",
       "서초구  75.35  150.7     2\n",
       "여의도  76.00   76.0     1"
      ]
     },
     "execution_count": 94,
     "metadata": {},
     "output_type": "execute_result"
    }
   ],
   "source": [
    "loc_pivot"
   ]
  },
  {
   "cell_type": "code",
   "execution_count": 95,
   "metadata": {},
   "outputs": [
    {
     "data": {
      "text/plain": [
       "MultiIndex([( 'mean', '몸무게'),\n",
       "            (  'sum', '몸무게'),\n",
       "            ('count', '몸무게')],\n",
       "           )"
      ]
     },
     "execution_count": 95,
     "metadata": {},
     "output_type": "execute_result"
    }
   ],
   "source": [
    "loc_pivot.columns \n",
    "\n",
    "# tuple의 형식임 "
   ]
  },
  {
   "cell_type": "code",
   "execution_count": 98,
   "metadata": {},
   "outputs": [
    {
     "data": {
      "text/html": [
       "<div>\n",
       "<style scoped>\n",
       "    .dataframe tbody tr th:only-of-type {\n",
       "        vertical-align: middle;\n",
       "    }\n",
       "\n",
       "    .dataframe tbody tr th {\n",
       "        vertical-align: top;\n",
       "    }\n",
       "\n",
       "    .dataframe thead th {\n",
       "        text-align: right;\n",
       "    }\n",
       "</style>\n",
       "<table border=\"1\" class=\"dataframe\">\n",
       "  <thead>\n",
       "    <tr style=\"text-align: right;\">\n",
       "      <th></th>\n",
       "      <th>mean</th>\n",
       "      <th>sum</th>\n",
       "      <th>count</th>\n",
       "    </tr>\n",
       "    <tr>\n",
       "      <th>지점</th>\n",
       "      <th></th>\n",
       "      <th></th>\n",
       "      <th></th>\n",
       "    </tr>\n",
       "  </thead>\n",
       "  <tbody>\n",
       "    <tr>\n",
       "      <th>강남구</th>\n",
       "      <td>76.20</td>\n",
       "      <td>76.2</td>\n",
       "      <td>1</td>\n",
       "    </tr>\n",
       "    <tr>\n",
       "      <th>관악구</th>\n",
       "      <td>76.05</td>\n",
       "      <td>152.1</td>\n",
       "      <td>2</td>\n",
       "    </tr>\n",
       "    <tr>\n",
       "      <th>서초구</th>\n",
       "      <td>75.35</td>\n",
       "      <td>150.7</td>\n",
       "      <td>2</td>\n",
       "    </tr>\n",
       "    <tr>\n",
       "      <th>여의도</th>\n",
       "      <td>76.00</td>\n",
       "      <td>76.0</td>\n",
       "      <td>1</td>\n",
       "    </tr>\n",
       "  </tbody>\n",
       "</table>\n",
       "</div>"
      ],
      "text/plain": [
       "      mean    sum  count\n",
       "지점                      \n",
       "강남구  76.20   76.2      1\n",
       "관악구  76.05  152.1      2\n",
       "서초구  75.35  150.7      2\n",
       "여의도  76.00   76.0      1"
      ]
     },
     "execution_count": 98,
     "metadata": {},
     "output_type": "execute_result"
    }
   ],
   "source": [
    "loc_pivot.columns = ['mean','sum','count']\n",
    "\n",
    "# column명을 이렇게 그냥 바꿀 수 있음 \n",
    "\n",
    "loc_pivot"
   ]
  },
  {
   "cell_type": "code",
   "execution_count": 100,
   "metadata": {},
   "outputs": [
    {
     "data": {
      "text/html": [
       "<div>\n",
       "<style scoped>\n",
       "    .dataframe tbody tr th:only-of-type {\n",
       "        vertical-align: middle;\n",
       "    }\n",
       "\n",
       "    .dataframe tbody tr th {\n",
       "        vertical-align: top;\n",
       "    }\n",
       "\n",
       "    .dataframe thead th {\n",
       "        text-align: right;\n",
       "    }\n",
       "</style>\n",
       "<table border=\"1\" class=\"dataframe\">\n",
       "  <thead>\n",
       "    <tr style=\"text-align: right;\">\n",
       "      <th></th>\n",
       "      <th>mean</th>\n",
       "      <th>sum</th>\n",
       "      <th>count</th>\n",
       "      <th>new_column</th>\n",
       "    </tr>\n",
       "    <tr>\n",
       "      <th>지점</th>\n",
       "      <th></th>\n",
       "      <th></th>\n",
       "      <th></th>\n",
       "      <th></th>\n",
       "    </tr>\n",
       "  </thead>\n",
       "  <tbody>\n",
       "    <tr>\n",
       "      <th>강남구</th>\n",
       "      <td>76.20</td>\n",
       "      <td>76.2</td>\n",
       "      <td>1</td>\n",
       "      <td>1</td>\n",
       "    </tr>\n",
       "    <tr>\n",
       "      <th>관악구</th>\n",
       "      <td>76.05</td>\n",
       "      <td>152.1</td>\n",
       "      <td>2</td>\n",
       "      <td>1</td>\n",
       "    </tr>\n",
       "    <tr>\n",
       "      <th>서초구</th>\n",
       "      <td>75.35</td>\n",
       "      <td>150.7</td>\n",
       "      <td>2</td>\n",
       "      <td>1</td>\n",
       "    </tr>\n",
       "    <tr>\n",
       "      <th>여의도</th>\n",
       "      <td>76.00</td>\n",
       "      <td>76.0</td>\n",
       "      <td>1</td>\n",
       "      <td>1</td>\n",
       "    </tr>\n",
       "  </tbody>\n",
       "</table>\n",
       "</div>"
      ],
      "text/plain": [
       "      mean    sum  count  new_column\n",
       "지점                                  \n",
       "강남구  76.20   76.2      1           1\n",
       "관악구  76.05  152.1      2           1\n",
       "서초구  75.35  150.7      2           1\n",
       "여의도  76.00   76.0      1           1"
      ]
     },
     "execution_count": 100,
     "metadata": {},
     "output_type": "execute_result"
    }
   ],
   "source": [
    "loc_pivot[\"new_column\"]=1\n",
    "\n",
    "loc_pivot"
   ]
  },
  {
   "cell_type": "code",
   "execution_count": 101,
   "metadata": {},
   "outputs": [
    {
     "data": {
      "text/plain": [
       "지점\n",
       "강남구    1\n",
       "관악구    2\n",
       "서초구    2\n",
       "여의도    1\n",
       "Name: count, dtype: int64"
      ]
     },
     "execution_count": 101,
     "metadata": {},
     "output_type": "execute_result"
    }
   ],
   "source": [
    "loc_pivot[\"count\"]"
   ]
  },
  {
   "cell_type": "code",
   "execution_count": 102,
   "metadata": {},
   "outputs": [
    {
     "data": {
      "text/plain": [
       "지점\n",
       "강남구     76.2\n",
       "관악구    152.1\n",
       "서초구    150.7\n",
       "여의도     76.0\n",
       "Name: sum, dtype: float64"
      ]
     },
     "execution_count": 102,
     "metadata": {},
     "output_type": "execute_result"
    }
   ],
   "source": [
    "loc_pivot[\"sum\"]"
   ]
  },
  {
   "cell_type": "code",
   "execution_count": 104,
   "metadata": {},
   "outputs": [
    {
     "data": {
      "text/html": [
       "<div>\n",
       "<style scoped>\n",
       "    .dataframe tbody tr th:only-of-type {\n",
       "        vertical-align: middle;\n",
       "    }\n",
       "\n",
       "    .dataframe tbody tr th {\n",
       "        vertical-align: top;\n",
       "    }\n",
       "\n",
       "    .dataframe thead th {\n",
       "        text-align: right;\n",
       "    }\n",
       "</style>\n",
       "<table border=\"1\" class=\"dataframe\">\n",
       "  <thead>\n",
       "    <tr style=\"text-align: right;\">\n",
       "      <th></th>\n",
       "      <th>mean</th>\n",
       "      <th>sum</th>\n",
       "      <th>count</th>\n",
       "      <th>new_column</th>\n",
       "      <th>count*sum</th>\n",
       "    </tr>\n",
       "    <tr>\n",
       "      <th>지점</th>\n",
       "      <th></th>\n",
       "      <th></th>\n",
       "      <th></th>\n",
       "      <th></th>\n",
       "      <th></th>\n",
       "    </tr>\n",
       "  </thead>\n",
       "  <tbody>\n",
       "    <tr>\n",
       "      <th>강남구</th>\n",
       "      <td>76.20</td>\n",
       "      <td>76.2</td>\n",
       "      <td>1</td>\n",
       "      <td>1</td>\n",
       "      <td>76.2</td>\n",
       "    </tr>\n",
       "    <tr>\n",
       "      <th>관악구</th>\n",
       "      <td>76.05</td>\n",
       "      <td>152.1</td>\n",
       "      <td>2</td>\n",
       "      <td>1</td>\n",
       "      <td>304.2</td>\n",
       "    </tr>\n",
       "    <tr>\n",
       "      <th>서초구</th>\n",
       "      <td>75.35</td>\n",
       "      <td>150.7</td>\n",
       "      <td>2</td>\n",
       "      <td>1</td>\n",
       "      <td>301.4</td>\n",
       "    </tr>\n",
       "    <tr>\n",
       "      <th>여의도</th>\n",
       "      <td>76.00</td>\n",
       "      <td>76.0</td>\n",
       "      <td>1</td>\n",
       "      <td>1</td>\n",
       "      <td>76.0</td>\n",
       "    </tr>\n",
       "  </tbody>\n",
       "</table>\n",
       "</div>"
      ],
      "text/plain": [
       "      mean    sum  count  new_column  count*sum\n",
       "지점                                             \n",
       "강남구  76.20   76.2      1           1       76.2\n",
       "관악구  76.05  152.1      2           1      304.2\n",
       "서초구  75.35  150.7      2           1      301.4\n",
       "여의도  76.00   76.0      1           1       76.0"
      ]
     },
     "execution_count": 104,
     "metadata": {},
     "output_type": "execute_result"
    }
   ],
   "source": [
    "loc_pivot[\"count*sum\"]=loc_pivot[\"count\"]*loc_pivot[\"sum\"]\n",
    "\n",
    "loc_pivot"
   ]
  },
  {
   "cell_type": "code",
   "execution_count": null,
   "metadata": {},
   "outputs": [],
   "source": []
  }
 ],
 "metadata": {
  "kernelspec": {
   "display_name": "Python 3",
   "language": "python",
   "name": "python3"
  },
  "language_info": {
   "codemirror_mode": {
    "name": "ipython",
    "version": 3
   },
   "file_extension": ".py",
   "mimetype": "text/x-python",
   "name": "python",
   "nbconvert_exporter": "python",
   "pygments_lexer": "ipython3",
   "version": "3.8.3"
  }
 },
 "nbformat": 4,
 "nbformat_minor": 4
}
