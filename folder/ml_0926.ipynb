{
 "cells": [
  {
   "cell_type": "markdown",
   "metadata": {},
   "source": [
    "## 편미분"
   ]
  },
  {
   "cell_type": "code",
   "execution_count": 1,
   "metadata": {},
   "outputs": [],
   "source": [
    "import numpy as np"
   ]
  },
  {
   "cell_type": "code",
   "execution_count": 16,
   "metadata": {},
   "outputs": [],
   "source": [
    "def derivative(f, var):\n",
    "    if var.ndim==1: # 1차원 벡터인 경우\n",
    "        print(\"-----------벡터 미분-----------\")\n",
    "        tmp_var=var\n",
    "        \n",
    "        delta=1e-5\n",
    "        diff_val=np.zeros(var.shape)\n",
    "        \n",
    "        for index in range(len(var)):\n",
    "            target_var=float(tmp_var[index])\n",
    "            print(\"target_var = \",target_var)\n",
    "            \n",
    "            tmp_var[index]=target_var+delta\n",
    "            fx1=f(tmp_var)\n",
    "            print(\"현재 tmp_var =\",tmp_var[index])\n",
    "            \n",
    "            tmp_var[index]=target_var-delta\n",
    "            fx2=f(tmp_var)\n",
    "            print(\"현재 tmp_var =\",tmp_var[index])\n",
    "            \n",
    "            diff_val[index]=(fx1-fx2)/(2*delta)\n",
    "            print(\"미분 결과 = \", diff_val[index])\n",
    "            \n",
    "            tmp_var[index]=target_var\n",
    "        \n",
    "        return diff_val\n",
    "    \n",
    "    elif var.ndim==2: #2차원 매트릭스인 경우 \n",
    "        \n",
    "        grad=np.zeros_like(var)\n",
    "        \n",
    "        delta=1e-5\n",
    "        \n",
    "        it=np.nditer(var, flags=['multi_index'], op_flags=['readwrite'])\n",
    "        \n",
    "        while not it.finished:\n",
    "            index=it.multi_index\n",
    "            \n",
    "            tmp_val=var[index]\n",
    "            \n",
    "            var[index]=float(tmp_val)+delta\n",
    "            fx1=f(var)\n",
    "            \n",
    "            var[index]=float(tmp_val)-delta\n",
    "            fx2=f(var)\n",
    "            \n",
    "            grad[index]=(fx1-fx2)/(2*delta)\n",
    "            \n",
    "            var[index]=tmp_val\n",
    "            it.iternext()\n",
    "        \n",
    "        return grad"
   ]
  },
  {
   "cell_type": "code",
   "execution_count": 18,
   "metadata": {},
   "outputs": [
    {
     "name": "stdout",
     "output_type": "stream",
     "text": [
      "-----------벡터 미분-----------\n",
      "target_var =  1.0\n",
      "현재 tmp_var = 1.00001\n",
      "현재 tmp_var = 0.99999\n",
      "미분 결과 =  8.00000000005241\n",
      "target_var =  2.0\n",
      "현재 tmp_var = 2.00001\n",
      "현재 tmp_var = 1.99999\n",
      "미분 결과 =  15.000000000142675\n",
      "[ 8. 15.]\n",
      "----------------------------\n"
     ]
    }
   ],
   "source": [
    "def fun1(W):\n",
    "    x=W[0]\n",
    "    y=W[1]\n",
    "    \n",
    "    return (2*x + 3*x*y + np.power(y,3))\n",
    "\n",
    "f = lambda W: fun1(W)\n",
    "\n",
    "res=derivative(f, np.array([1.0,2.0]))\n",
    "\n",
    "print(res)\n",
    "print(\"----------------------------\")"
   ]
  },
  {
   "cell_type": "code",
   "execution_count": null,
   "metadata": {},
   "outputs": [],
   "source": []
  }
 ],
 "metadata": {
  "kernelspec": {
   "display_name": "Python 3",
   "language": "python",
   "name": "python3"
  },
  "language_info": {
   "codemirror_mode": {
    "name": "ipython",
    "version": 3
   },
   "file_extension": ".py",
   "mimetype": "text/x-python",
   "name": "python",
   "nbconvert_exporter": "python",
   "pygments_lexer": "ipython3",
   "version": "3.7.4"
  }
 },
 "nbformat": 4,
 "nbformat_minor": 2
}
