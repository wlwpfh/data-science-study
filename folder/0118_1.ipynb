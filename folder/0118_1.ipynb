{
 "cells": [
  {
   "cell_type": "markdown",
   "id": "a4c150d6",
   "metadata": {},
   "source": [
    "## * 지도 학습 - feature - label  \n",
    "    (classification, regression - 연속형 수치 ( ex) time series))  "
   ]
  },
  {
   "cell_type": "markdown",
   "id": "5fade10d",
   "metadata": {},
   "source": [
    "흐름을 읽기  \n",
    "feature(column)를 어떻게 가공했는지  \n",
    "주어진 x가 y를 영향주는 지 체크  \n",
    "  \n",
    "1. 데이터 로딩  \n",
    "2. 데이터 전처리 작업  \n",
    "    - 누락된 데이터 확인  \n",
    "    - x에 해당되는 것 y에 해당되는 것 확인하기 - label의 분포 확인  \n",
    "        (한 쪽에 쏠린 것보다 normal distribution이 좋음)  => transformation (log나 루트 사용)  \n",
    "3. 분석\n",
    "    - correlation 분석 (서로 어떤 관계인지, 연속형일 때 효과적임)\n",
    "        (시간, 날짜가 있다면 패턴이 있을 확률이 높음 -> 연월일시분초로 나누기) \n",
    "    - column들의 수치값을 부드럽게 만드는 것 => standardization, normalization  \n",
    "      (data범위를 min과 max를 정해서 min/max를 통해서 사용함)  \n",
    "4. 모델링\n",
    "    - feature고르기 \n",
    "    - feature와 label을 통해서 최적의 조건 찾기  \n",
    "    - ex) RandomForestRegressor 사용하기 (인스턴스를 만들기 \n",
    "    - fit, predict -> 학습시키고 그것에 근거하여 추론하기 \n",
    "    - x의 feature는 동일해야 함. \n",
    "    - 학습이 끝나면 feature_importance를 통해서 알 수 있음.\n",
    "    - x가 이미 같은 애 -> 힘이 분산됨. x간에 서로 독립적인 요소 -> y의 해석력이 올라간다.  \n",
    "    \n",
    " \n",
    "    "
   ]
  },
  {
   "cell_type": "markdown",
   "id": "1e1f63de",
   "metadata": {},
   "source": [
    "## 튜닝"
   ]
  },
  {
   "cell_type": "markdown",
   "id": "787fb054",
   "metadata": {},
   "source": [
    "GridSearchCV를 자주 사용한다.  \n",
    "  \n",
    "격자를 두고 parameter를 넣고 (여러개도 가능) 다 나열한 다음, combination을 통한 틀을 만들어 가장 좋은 조합을 뽑아내는 것  \n",
    "  \n",
    "  \n",
    "내부적으로 체크도 할 수 있음 (cv)  \n",
    "좋은 성능이 나올 가능성이 높기 때문에  \n",
    "  \n",
    "러프하게 범위를 잡은 뒤에 해당 범위를 랜덤서치를 통하기  \n",
    "    \n",
    "n_estimators와 accuracy를 시각적으로 확인하여 좋고 나쁨을 알 수 있다.  \n",
    "  \n",
    "  "
   ]
  },
  {
   "cell_type": "markdown",
   "id": "3fef43be",
   "metadata": {},
   "source": [
    "##### Tuning 관련 참고할 사이트 : \n",
    "\n",
    "https://dacon.io/competitions/official/235840/codeshare/3812"
   ]
  },
  {
   "cell_type": "code",
   "execution_count": null,
   "id": "3903410a",
   "metadata": {},
   "outputs": [],
   "source": []
  }
 ],
 "metadata": {
  "kernelspec": {
   "display_name": "Python 3",
   "language": "python",
   "name": "python3"
  },
  "language_info": {
   "codemirror_mode": {
    "name": "ipython",
    "version": 3
   },
   "file_extension": ".py",
   "mimetype": "text/x-python",
   "name": "python",
   "nbconvert_exporter": "python",
   "pygments_lexer": "ipython3",
   "version": "3.8.8"
  }
 },
 "nbformat": 4,
 "nbformat_minor": 5
}
