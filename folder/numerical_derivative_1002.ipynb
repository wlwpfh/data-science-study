{
 "cells": [
  {
   "cell_type": "code",
   "execution_count": 1,
   "metadata": {},
   "outputs": [],
   "source": [
    "import numpy as np"
   ]
  },
  {
   "cell_type": "code",
   "execution_count": 17,
   "metadata": {},
   "outputs": [],
   "source": [
    "def numerical_derivative(f, x):\n",
    "    delta_x=1e-4\n",
    "    grad=np.zeros_like(x)\n",
    "    \n",
    "    print(\"debug 1. initial input variable = \", x)\n",
    "    print(\"debug 2. initial grad = \", grad)\n",
    "    print(\"======================================\")\n",
    "    \n",
    "    it=np.nditer(x, flags=['multi_index'], op_flags=['readwrite'])\n",
    "    \n",
    "    while not it.finished:\n",
    "        index=it.multi_index\n",
    "        \n",
    "        print(\"debug 3. index= \",index, \", x[index] = \",x[index])\n",
    "        \n",
    "        tmp=x[index]\n",
    "        x[index]=float(tmp)+delta_x\n",
    "        fx1=f(x)\n",
    "        \n",
    "        x[index]=float(tmp)-delta_x\n",
    "        fx2=f(x)\n",
    "        \n",
    "        grad[index]=(fx1-fx2)/(2*delta_x)\n",
    "        \n",
    "        print(\"debug 4. grad[index] = \",grad[index])\n",
    "        \n",
    "        x[index]=tmp\n",
    "        it.iternext()\n",
    "\n",
    "    print(\"debug 5. grad =\", grad)    \n",
    "    return grad\n"
   ]
  },
  {
   "cell_type": "code",
   "execution_count": 19,
   "metadata": {},
   "outputs": [
    {
     "name": "stdout",
     "output_type": "stream",
     "text": [
      "debug 1. initial input variable =  [3.]\n",
      "debug 2. initial grad =  [0.]\n",
      "======================================\n",
      "debug 3. index=  (0,) , x[index] =  3.0\n",
      "debug 4. grad[index] =  6.000000000012662\n",
      "debug 5. grad = [6.]\n",
      "type(ret) =  <class 'numpy.ndarray'> ret_val = [6.]\n"
     ]
    }
   ],
   "source": [
    "def func1(W):\n",
    "    x=W\n",
    "    \n",
    "    return x**2\n",
    "\n",
    "f= lambda W : func1(W)\n",
    "\n",
    "W=np.array([3.0])\n",
    "\n",
    "ret = numerical_derivative(f, W)\n",
    "\n",
    "print(\"type(ret) = \", type(ret), \"ret_val =\",ret)"
   ]
  },
  {
   "cell_type": "code",
   "execution_count": 21,
   "metadata": {},
   "outputs": [
    {
     "name": "stdout",
     "output_type": "stream",
     "text": [
      "debug 1. initial input variable =  [1. 2.]\n",
      "debug 2. initial grad =  [0. 0.]\n",
      "======================================\n",
      "debug 3. index=  (0,) , x[index] =  1.0\n",
      "debug 4. grad[index] =  7.999999999990237\n",
      "debug 3. index=  (1,) , x[index] =  2.0\n",
      "debug 4. grad[index] =  15.000000010019221\n",
      "debug 5. grad = [ 8.         15.00000001]\n",
      "type(ret) =  <class 'numpy.ndarray'> ret_val = [ 8.         15.00000001]\n"
     ]
    }
   ],
   "source": [
    "def fun2(W):\n",
    "    x=W[0]\n",
    "    y=W[1]\n",
    "    \n",
    "    return (2*x + 3*x*y + np.power(y,3))\n",
    "\n",
    "f = lambda W: fun2(W)\n",
    "\n",
    "W=np.array([1.0, 2.0])\n",
    "\n",
    "ret = numerical_derivative(f, W)\n",
    "\n",
    "print(\"type(ret) = \", type(ret), \"ret_val =\",ret)"
   ]
  },
  {
   "cell_type": "code",
   "execution_count": 23,
   "metadata": {},
   "outputs": [
    {
     "name": "stdout",
     "output_type": "stream",
     "text": [
      "debug 1. initial input variable =  [1. 2. 3. 4.]\n",
      "debug 2. initial grad =  [0. 0. 0. 0.]\n",
      "======================================\n",
      "debug 3. index=  (0,) , x[index] =  1.0\n",
      "debug 4. grad[index] =  5.000000000023874\n",
      "debug 3. index=  (1,) , x[index] =  2.0\n",
      "debug 4. grad[index] =  13.00000000000523\n",
      "debug 3. index=  (2,) , x[index] =  3.0\n",
      "debug 4. grad[index] =  32.00000000006753\n",
      "debug 3. index=  (3,) , x[index] =  4.0\n",
      "debug 4. grad[index] =  15.000000000000568\n",
      "debug 5. grad = [ 5. 13. 32. 15.]\n",
      "type(ret) =  <class 'numpy.ndarray'> ret_val = [ 5. 13. 32. 15.]\n"
     ]
    }
   ],
   "source": [
    "def fun3(W):\n",
    "    w=W[0]\n",
    "    x=W[1]\n",
    "    y=W[2]\n",
    "    z=W[3]\n",
    "    \n",
    "    return (w*x + x*y*z + 3*w + z*np.power(y,2))\n",
    "\n",
    "f = lambda W: fun3(W)\n",
    "\n",
    "W=np.array([1.0, 2.0, 3.0, 4.0])\n",
    "\n",
    "ret = numerical_derivative(f, W)\n",
    "\n",
    "print(\"type(ret) = \", type(ret), \"ret_val =\",ret)"
   ]
  },
  {
   "cell_type": "code",
   "execution_count": null,
   "metadata": {},
   "outputs": [],
   "source": []
  }
 ],
 "metadata": {
  "kernelspec": {
   "display_name": "Python 3",
   "language": "python",
   "name": "python3"
  },
  "language_info": {
   "codemirror_mode": {
    "name": "ipython",
    "version": 3
   },
   "file_extension": ".py",
   "mimetype": "text/x-python",
   "name": "python",
   "nbconvert_exporter": "python",
   "pygments_lexer": "ipython3",
   "version": "3.7.4"
  }
 },
 "nbformat": 4,
 "nbformat_minor": 2
}
