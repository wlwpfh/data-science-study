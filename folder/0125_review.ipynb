{
 "cells": [
  {
   "cell_type": "markdown",
   "id": "d0832a2d",
   "metadata": {},
   "source": [
    "시계열 분석 \n",
    "- 정상성 => 주기성 O, 평균과 표준편차가 어느 값으로 수렴\n",
    "- 비정상성"
   ]
  },
  {
   "cell_type": "markdown",
   "id": "3656b1af",
   "metadata": {},
   "source": [
    "    컬럼 이름이 중요함. 무조건 ds(timestamp)와 y(변화량)로 만들어야 함."
   ]
  },
  {
   "cell_type": "markdown",
   "id": "5fadd8e4",
   "metadata": {},
   "source": [
    "fit -> make_future_dataframe -> predict  \n",
    "최종값: yhat  "
   ]
  },
  {
   "cell_type": "code",
   "execution_count": null,
   "id": "21ad8f16",
   "metadata": {},
   "outputs": [],
   "source": [
    "changepoint - 변곡점을 찍어줌.  \n"
   ]
  }
 ],
 "metadata": {
  "kernelspec": {
   "display_name": "Python 3",
   "language": "python",
   "name": "python3"
  },
  "language_info": {
   "codemirror_mode": {
    "name": "ipython",
    "version": 3
   },
   "file_extension": ".py",
   "mimetype": "text/x-python",
   "name": "python",
   "nbconvert_exporter": "python",
   "pygments_lexer": "ipython3",
   "version": "3.8.8"
  }
 },
 "nbformat": 4,
 "nbformat_minor": 5
}
