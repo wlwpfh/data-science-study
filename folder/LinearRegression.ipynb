{
 "cells": [
  {
   "cell_type": "markdown",
   "metadata": {},
   "source": [
    "### 단계 \n"
   ]
  },
  {
   "cell_type": "code",
   "execution_count": 1,
   "metadata": {},
   "outputs": [],
   "source": [
    "import numpy as np"
   ]
  },
  {
   "cell_type": "code",
   "execution_count": 7,
   "metadata": {},
   "outputs": [
    {
     "name": "stdout",
     "output_type": "stream",
     "text": [
      "[[1]\n",
      " [2]\n",
      " [3]\n",
      " [4]\n",
      " [5]] [[2]\n",
      " [3]\n",
      " [4]\n",
      " [5]\n",
      " [6]]\n"
     ]
    }
   ],
   "source": [
    "x_data=np.array([1,2,3,4,5]).reshape(-1,1);\n",
    "t_data=np.array([2,3,4,5,6]).reshape(5,1);\n",
    "print(x_data, t_data)"
   ]
  },
  {
   "cell_type": "code",
   "execution_count": 29,
   "metadata": {},
   "outputs": [],
   "source": [
    "W=np.random.rand(1,1)\n",
    "b=np.random.rand(1)"
   ]
  },
  {
   "cell_type": "code",
   "execution_count": 34,
   "metadata": {},
   "outputs": [],
   "source": [
    "def derivative(f, var):\n",
    "    if var.ndim==1:\n",
    "        tmp=var\n",
    "        \n",
    "        delta=1e-5\n",
    "        diff_value=np.zeros(var.shape)\n",
    "        \n",
    "        for index in range(len(var)):\n",
    "            target_value=float(tmp[index]);\n",
    "            tmp[index]=target_value+delta\n",
    "            \n",
    "            func1=f(tmp)\n",
    "            \n",
    "            tmp[index]=target_value-delta\n",
    "            func2=f(tmp)\n",
    "            \n",
    "            diff_value[index]=(func1-func2)/(2*delta)\n",
    "            \n",
    "            tmp[index]=target_value\n",
    "            return diff_value\n",
    "        \n",
    "    elif var.ndim==2:\n",
    "        tmp=var\n",
    "        \n",
    "        delta=1e-5\n",
    "        \n",
    "        diff_value=np.zeros(var.shape)\n",
    "        \n",
    "        rows=var.shape[0]\n",
    "        columns=var.shape[1]\n",
    "        \n",
    "        for row in range(rows):\n",
    "            for column in range(columns):\n",
    "                target=float(tmp[row,column])\n",
    "                \n",
    "                tmp[row,column]=target+delta\n",
    "                \n",
    "                func1=f(tmp)\n",
    "                \n",
    "                tmp[row,column]=target-delta\n",
    "                func2=f(tmp)\n",
    "                \n",
    "                diff_value[row, column]=(func1-func2)/(2*delta)\n",
    "                \n",
    "                tmp[row,column]=target\n",
    "                \n",
    "        return diff_value"
   ]
  },
  {
   "cell_type": "code",
   "execution_count": 26,
   "metadata": {},
   "outputs": [],
   "source": [
    "def loss_func(x, t):\n",
    "    y=np.dot(x,W)+b\n",
    "    return ((np.sum((t-y)**2))/len(x))\n",
    "\n",
    "# MSE를 리턴해주는 손실함수 "
   ]
  },
  {
   "cell_type": "code",
   "execution_count": 27,
   "metadata": {},
   "outputs": [],
   "source": [
    "def predict(x):\n",
    "    y=np.dot(x,W)+b\n",
    "    return y"
   ]
  },
  {
   "cell_type": "code",
   "execution_count": 35,
   "metadata": {},
   "outputs": [
    {
     "name": "stdout",
     "output_type": "stream",
     "text": [
      "initial loss value 0.5779124449532198 initial w= [[0.93414782]] , b=  [0.44307698]\n",
      "step= 0 , loss value= 0.35891312352513427 ,W= [[0.98205068]] , b= [0.4552924]\n",
      "step= 600 , loss value= 0.0007638943660486406 ,W= [[1.01794789]] , b= [0.93521828]\n",
      "step= 1200 , loss value= 1.2311888891942856e-05 ,W= [[1.00227855]] , b= [0.99177572]\n",
      "step= 1800 , loss value= 1.9843399143269798e-07 ,W= [[1.00028927]] , b= [0.9989559]\n",
      "step= 2400 , loss value= 3.1982134749272273e-09 ,W= [[1.00003672]] , b= [0.99986745]\n",
      "step= 3000 , loss value= 5.154645812704869e-11 ,W= [[1.00000466]] , b= [0.99998317]\n",
      "step= 3600 , loss value= 8.30787989943487e-13 ,W= [[1.00000059]] , b= [0.99999786]\n",
      "step= 4200 , loss value= 1.3390031091907702e-14 ,W= [[1.00000008]] , b= [0.99999973]\n",
      "step= 4800 , loss value= 2.1581068367935507e-16 ,W= [[1.00000001]] , b= [0.99999997]\n",
      "step= 5400 , loss value= 3.478277765071162e-18 ,W= [[1.]] , b= [1.]\n",
      "step= 6000 , loss value= 5.606024750503443e-20 ,W= [[1.]] , b= [1.]\n"
     ]
    }
   ],
   "source": [
    "# 학습\n",
    "\n",
    "learning_rate=1e-2\n",
    "\n",
    "f=lambda x: loss_func(x_data, t_data)\n",
    "print(\"initial loss value\",loss_func(x_data, t_data), \"initial w=\",W,\", b= \",b)\n",
    "\n",
    "for step in range(6001):\n",
    "    W-=learning_rate*derivative(f,W)\n",
    "    b-=learning_rate*derivative(f,b)\n",
    "    \n",
    "    if(step%600==0):\n",
    "        print(\"step=\",step, \", loss value=\", loss_func(x_data,t_data), \",W=\",W,', b=',b)"
   ]
  },
  {
   "cell_type": "code",
   "execution_count": null,
   "metadata": {},
   "outputs": [],
   "source": [
    "## X와 T를 통해서 가장 오차가 적은 W와 b를 찾아내는 것 "
   ]
  }
 ],
 "metadata": {
  "kernelspec": {
   "display_name": "Python 3",
   "language": "python",
   "name": "python3"
  },
  "language_info": {
   "codemirror_mode": {
    "name": "ipython",
    "version": 3
   },
   "file_extension": ".py",
   "mimetype": "text/x-python",
   "name": "python",
   "nbconvert_exporter": "python",
   "pygments_lexer": "ipython3",
   "version": "3.7.4"
  }
 },
 "nbformat": 4,
 "nbformat_minor": 2
}
