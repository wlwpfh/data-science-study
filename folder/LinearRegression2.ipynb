{
 "cells": [
  {
   "cell_type": "markdown",
   "metadata": {},
   "source": [
    "## 입력 변수가 2개 이상인 선형 회귀 예제"
   ]
  },
  {
   "cell_type": "code",
   "execution_count": 1,
   "metadata": {},
   "outputs": [],
   "source": [
    "import numpy as np"
   ]
  },
  {
   "cell_type": "code",
   "execution_count": 2,
   "metadata": {},
   "outputs": [],
   "source": [
    "data = np.loadtxt('./CH05_data-01.csv', delimiter=\",\", dtype=np.float32)"
   ]
  },
  {
   "cell_type": "code",
   "execution_count": 3,
   "metadata": {},
   "outputs": [],
   "source": [
    "x_data=data[:, 0:-1]\n",
    "t_data=data[:, [-1]]"
   ]
  },
  {
   "cell_type": "code",
   "execution_count": 7,
   "metadata": {},
   "outputs": [
    {
     "name": "stdout",
     "output_type": "stream",
     "text": [
      "x_data.ndim: 2 , x_data.shape= (25, 3)\n",
      "t_data.ndim: 2 , t_data.shape= (25, 1)\n"
     ]
    }
   ],
   "source": [
    "print(\"x_data.ndim:\",x_data.ndim, \", x_data.shape=\",x_data.shape)\n",
    "print(\"t_data.ndim:\",t_data.ndim, \", t_data.shape=\",t_data.shape)"
   ]
  },
  {
   "cell_type": "code",
   "execution_count": 9,
   "metadata": {},
   "outputs": [
    {
     "name": "stdout",
     "output_type": "stream",
     "text": [
      "W : [[0.65091317]\n",
      " [0.05337204]\n",
      " [0.5113752 ]] , b: [0.28384993]\n"
     ]
    }
   ],
   "source": [
    "W=np.random.rand(3,1)\n",
    "b=np.random.rand(1)\n",
    "\n",
    "print(\"W :\", W, \", b:\",b)"
   ]
  },
  {
   "cell_type": "code",
   "execution_count": 10,
   "metadata": {},
   "outputs": [],
   "source": [
    "def loss_func(x, t):\n",
    "    y=np.dot(x,W)+b\n",
    "    return ((np.sum((t-y)**2))/len(x))\n",
    "\n",
    "# MSE를 리턴해주는 손실함수 "
   ]
  },
  {
   "cell_type": "code",
   "execution_count": 12,
   "metadata": {},
   "outputs": [],
   "source": [
    "def derivative(f, var):\n",
    "    if var.ndim==1:\n",
    "        tmp=var\n",
    "        \n",
    "        delta=1e-5\n",
    "        diff_value=np.zeros(var.shape)\n",
    "        \n",
    "        for index in range(len(var)):\n",
    "            target_value=float(tmp[index]);\n",
    "            tmp[index]=target_value+delta\n",
    "            \n",
    "            func1=f(tmp)\n",
    "            \n",
    "            tmp[index]=target_value-delta\n",
    "            func2=f(tmp)\n",
    "            \n",
    "            diff_value[index]=(func1-func2)/(2*delta)\n",
    "            \n",
    "            tmp[index]=target_value\n",
    "            return diff_value\n",
    "        \n",
    "    elif var.ndim==2:\n",
    "        tmp=var\n",
    "        \n",
    "        delta=1e-5\n",
    "        \n",
    "        diff_value=np.zeros(var.shape)\n",
    "        \n",
    "        rows=var.shape[0]\n",
    "        columns=var.shape[1]\n",
    "        \n",
    "        for row in range(rows):\n",
    "            for column in range(columns):\n",
    "                target=float(tmp[row,column])\n",
    "                \n",
    "                tmp[row,column]=target+delta\n",
    "                \n",
    "                func1=f(tmp)\n",
    "                \n",
    "                tmp[row,column]=target-delta\n",
    "                func2=f(tmp)\n",
    "                \n",
    "                diff_value[row, column]=(func1-func2)/(2*delta)\n",
    "                \n",
    "                tmp[row,column]=target\n",
    "                \n",
    "        return diff_value"
   ]
  },
  {
   "cell_type": "code",
   "execution_count": 13,
   "metadata": {},
   "outputs": [
    {
     "name": "stdout",
     "output_type": "stream",
     "text": [
      "initial loss value = 4249.142130006545\n",
      "step= 0 , loss value= 1578.7569986490803 ,W= [[0.75478576]\n",
      " [0.15799376]\n",
      " [0.61850256]] , b= [0.28463283]\n",
      "step= 300 , loss value= 11.331321269273053 ,W= [[0.87542868]\n",
      " [0.33089477]\n",
      " [0.81372189]] , b= [0.28561525]\n",
      "step= 600 , loss value= 10.585693667464009 ,W= [[0.83767858]\n",
      " [0.3413296 ]\n",
      " [0.84021582]] , b= [0.28535639]\n",
      "step= 900 , loss value= 9.949529446214799 ,W= [[0.80268421]\n",
      " [0.35149953]\n",
      " [0.8642907 ]] , b= [0.28507431]\n",
      "step= 1200 , loss value= 9.406261900511211 ,W= [[0.77024289]\n",
      " [0.36136269]\n",
      " [0.8861844 ]] , b= [0.2847711]\n",
      "step= 1500 , loss value= 8.9419414408962 ,W= [[0.74016702]\n",
      " [0.37088784]\n",
      " [0.90610976]] , b= [0.28444866]\n",
      "step= 1800 , loss value= 8.544798497854444 ,W= [[0.71228296]\n",
      " [0.38005266]\n",
      " [0.92425731]] , b= [0.28410871]\n",
      "step= 2100 , loss value= 8.204884309653659 ,W= [[0.68642996]\n",
      " [0.38884227]\n",
      " [0.94079781]] , b= [0.28375278]\n",
      "step= 2400 , loss value= 7.913774763051083 ,W= [[0.66245918]\n",
      " [0.397248  ]\n",
      " [0.95588436]] , b= [0.28338229]\n",
      "step= 2700 , loss value= 7.66432545471497 ,W= [[0.6402328 ]\n",
      " [0.40526623]\n",
      " [0.96965442]] , b= [0.28299851]\n",
      "step= 3000 , loss value= 7.450468503477774 ,W= [[0.61962319]\n",
      " [0.41289757]\n",
      " [0.98223144]] , b= [0.28260258]\n"
     ]
    }
   ],
   "source": [
    "learning_rate=1e-5\n",
    "\n",
    "f=lambda x: loss_func(x_data, t_data)\n",
    "print(\"initial loss value =\",loss_func(x_data, t_data))\n",
    "\n",
    "for step in range(3001):\n",
    "    W-=learning_rate*derivative(f, W)\n",
    "    b-=learning_rate*derivative(f, b)\n",
    "    \n",
    "    if(step%300==0):\n",
    "        print(\"step=\",step, \", loss value=\", loss_func(x_data,t_data), \",W=\",W,', b=',b)"
   ]
  },
  {
   "cell_type": "code",
   "execution_count": 14,
   "metadata": {},
   "outputs": [],
   "source": [
    "def predict(x):\n",
    "    y=np.dot(x,W)+b\n",
    "    return y"
   ]
  },
  {
   "cell_type": "code",
   "execution_count": 15,
   "metadata": {},
   "outputs": [
    {
     "data": {
      "text/plain": [
       "array([182.26963011])"
      ]
     },
     "execution_count": 15,
     "metadata": {},
     "output_type": "execute_result"
    }
   ],
   "source": [
    "test_data=np.array([100,98,81])\n",
    "predict(test_data)"
   ]
  },
  {
   "cell_type": "code",
   "execution_count": null,
   "metadata": {},
   "outputs": [],
   "source": []
  }
 ],
 "metadata": {
  "kernelspec": {
   "display_name": "Python 3",
   "language": "python",
   "name": "python3"
  },
  "language_info": {
   "codemirror_mode": {
    "name": "ipython",
    "version": 3
   },
   "file_extension": ".py",
   "mimetype": "text/x-python",
   "name": "python",
   "nbconvert_exporter": "python",
   "pygments_lexer": "ipython3",
   "version": "3.7.4"
  }
 },
 "nbformat": 4,
 "nbformat_minor": 2
}
